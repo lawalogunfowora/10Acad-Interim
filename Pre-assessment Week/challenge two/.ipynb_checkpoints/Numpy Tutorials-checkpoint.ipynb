{
 "cells": [
  {
   "cell_type": "markdown",
   "metadata": {},
   "source": [
    "# Introduction to the Numpy Python Library\n",
    "\n",
    "\n",
    "Numpy is the short form of numerical python. It is a python library that consists of multidimensional array objects and a collections of modules for processing those arrays. Using the numpy library, you can perform the following operations\n",
    "\n",
    "1. Mathematical and logical operations on arrays\n",
    "2. Fourier tranforms and modules for shape manipulations\n",
    "2. Linear algebra and random number generations\n"
   ]
  },
  {
   "cell_type": "markdown",
   "metadata": {},
   "source": [
    "## The N-dimensional array object\n",
    "\n",
    "The most important object in the numpy libarary is the N-dimensional array called the **ndarray**. It describes the collection of the items of the same data types. Unlike normal python lists which can store various data types, an ndarray stores only items of the same data type. To create a numpy array by calling the array function and pass a sequence-like object into it. The array function takes on lists object(s) and returns a numpy array containing the passed data"
   ]
  },
  {
   "cell_type": "code",
   "execution_count": 1,
   "metadata": {},
   "outputs": [
    {
     "data": {
      "text/plain": [
       "array([5, 6, 3, 7, 9])"
      ]
     },
     "execution_count": 1,
     "metadata": {},
     "output_type": "execute_result"
    }
   ],
   "source": [
    "import numpy as np\n",
    "\n",
    "np.array([5,6,3,7,9])"
   ]
  },
  {
   "cell_type": "markdown",
   "metadata": {},
   "source": [
    "You can also pass multiple sequence-like objects into the array function. However, the objects should all have the same length. "
   ]
  },
  {
   "cell_type": "code",
   "execution_count": 2,
   "metadata": {},
   "outputs": [
    {
     "data": {
      "text/plain": [
       "array([[23, 45, 12, 78],\n",
       "       [67, 89, 90, 12]])"
      ]
     },
     "execution_count": 2,
     "metadata": {},
     "output_type": "execute_result"
    }
   ],
   "source": [
    "data = [[23,45,12,78],[67,89,90,12]]\n",
    "ndarray = np.array(data)\n",
    "ndarray"
   ]
  },
  {
   "cell_type": "markdown",
   "metadata": {},
   "source": [
    "You can see that shape of the ndarray by using **.shape**. The **shape** helps you see the number of rows and columns the ndarray has. In the above example, our data object consists of an ndarray of 2 rows and 4 columns."
   ]
  },
  {
   "cell_type": "code",
   "execution_count": 144,
   "metadata": {},
   "outputs": [
    {
     "data": {
      "text/plain": [
       "(2, 4)"
      ]
     },
     "execution_count": 144,
     "metadata": {},
     "output_type": "execute_result"
    }
   ],
   "source": [
    "ndarray.shape"
   ]
  },
  {
   "cell_type": "markdown",
   "metadata": {},
   "source": [
    "You can also see the size of the ndarray by using the **.size**. The **size** is the product of the number of rows and columns."
   ]
  },
  {
   "cell_type": "code",
   "execution_count": 145,
   "metadata": {},
   "outputs": [
    {
     "data": {
      "text/plain": [
       "8"
      ]
     },
     "execution_count": 145,
     "metadata": {},
     "output_type": "execute_result"
    }
   ],
   "source": [
    "ndarray.size"
   ]
  },
  {
   "cell_type": "code",
   "execution_count": null,
   "metadata": {},
   "outputs": [],
   "source": []
  },
  {
   "cell_type": "markdown",
   "metadata": {},
   "source": [
    "## Other functions to create ndarrays"
   ]
  },
  {
   "cell_type": "markdown",
   "metadata": {},
   "source": [
    "### np.zeros\n",
    "\n",
    "This function helps you to create a numpy array with only zeros. It takes in a number which specifies the number of zeros you want in your numpy array. Alternatively, you can specify number of rows and columns in paranthesis to indicate the shape of the numpy array."
   ]
  },
  {
   "cell_type": "code",
   "execution_count": 5,
   "metadata": {},
   "outputs": [
    {
     "data": {
      "text/plain": [
       "array([0., 0., 0., 0., 0.])"
      ]
     },
     "execution_count": 5,
     "metadata": {},
     "output_type": "execute_result"
    }
   ],
   "source": [
    "np.zeros(5)"
   ]
  },
  {
   "cell_type": "code",
   "execution_count": 6,
   "metadata": {},
   "outputs": [
    {
     "data": {
      "text/plain": [
       "array([[0., 0., 0., 0., 0.],\n",
       "       [0., 0., 0., 0., 0.],\n",
       "       [0., 0., 0., 0., 0.],\n",
       "       [0., 0., 0., 0., 0.]])"
      ]
     },
     "execution_count": 6,
     "metadata": {},
     "output_type": "execute_result"
    }
   ],
   "source": [
    "np.zeros((4,5))"
   ]
  },
  {
   "cell_type": "markdown",
   "metadata": {},
   "source": [
    "### np.ones\n",
    "This function helps you to create a numpy array with only ones. It takes in a number which specifies the number of ones you want in your numpy array. Alternatively, you can specify number of rows and columns in paranthesis to indicate the shape of the numpy array."
   ]
  },
  {
   "cell_type": "code",
   "execution_count": 7,
   "metadata": {},
   "outputs": [
    {
     "data": {
      "text/plain": [
       "array([1., 1., 1., 1., 1.])"
      ]
     },
     "execution_count": 7,
     "metadata": {},
     "output_type": "execute_result"
    }
   ],
   "source": [
    "np.ones(5)"
   ]
  },
  {
   "cell_type": "code",
   "execution_count": 8,
   "metadata": {
    "scrolled": true
   },
   "outputs": [
    {
     "data": {
      "text/plain": [
       "array([[1., 1., 1., 1., 1., 1.],\n",
       "       [1., 1., 1., 1., 1., 1.],\n",
       "       [1., 1., 1., 1., 1., 1.],\n",
       "       [1., 1., 1., 1., 1., 1.],\n",
       "       [1., 1., 1., 1., 1., 1.]])"
      ]
     },
     "execution_count": 8,
     "metadata": {},
     "output_type": "execute_result"
    }
   ],
   "source": [
    "np.ones((5,6))"
   ]
  },
  {
   "cell_type": "markdown",
   "metadata": {},
   "source": [
    "### np.empty\n",
    "\n",
    "This function helps you create numpy array of a given shape and type without initializing entries"
   ]
  },
  {
   "cell_type": "code",
   "execution_count": 9,
   "metadata": {},
   "outputs": [
    {
     "data": {
      "text/plain": [
       "array([[2.68156159e+154, 2.68156159e+154, 2.96439388e-323],\n",
       "       [0.00000000e+000, 0.00000000e+000, 0.00000000e+000],\n",
       "       [2.68156159e+154, 2.68156159e+154, 1.48219694e-323]])"
      ]
     },
     "execution_count": 9,
     "metadata": {},
     "output_type": "execute_result"
    }
   ],
   "source": [
    "np.empty([3,3])"
   ]
  },
  {
   "cell_type": "markdown",
   "metadata": {},
   "source": [
    "### np.eye\n",
    "\n",
    "This function returns a numpy array with ones on the diagonal and zeros elsewhere"
   ]
  },
  {
   "cell_type": "code",
   "execution_count": 34,
   "metadata": {},
   "outputs": [
    {
     "data": {
      "text/plain": [
       "array([[1., 0., 0., 0.],\n",
       "       [0., 1., 0., 0.],\n",
       "       [0., 0., 1., 0.],\n",
       "       [0., 0., 0., 1.],\n",
       "       [0., 0., 0., 0.]])"
      ]
     },
     "execution_count": 34,
     "metadata": {},
     "output_type": "execute_result"
    }
   ],
   "source": [
    "np.eye(5,M=4)"
   ]
  },
  {
   "cell_type": "markdown",
   "metadata": {},
   "source": [
    "### np.arange\n",
    "\n",
    "This way of creating a numpy array is similar to the python's built-in range(). However, this is faster. It works with ints, floats as well. You can also specify a step parameter."
   ]
  },
  {
   "cell_type": "code",
   "execution_count": 10,
   "metadata": {},
   "outputs": [
    {
     "data": {
      "text/plain": [
       "array([0, 1, 2, 3, 4])"
      ]
     },
     "execution_count": 10,
     "metadata": {},
     "output_type": "execute_result"
    }
   ],
   "source": [
    "np.arange(5)"
   ]
  },
  {
   "cell_type": "code",
   "execution_count": 11,
   "metadata": {},
   "outputs": [
    {
     "data": {
      "text/plain": [
       "array([ 2,  3,  4,  5,  6,  7,  8,  9, 10, 11])"
      ]
     },
     "execution_count": 11,
     "metadata": {},
     "output_type": "execute_result"
    }
   ],
   "source": [
    "np.arange(2,12)"
   ]
  },
  {
   "cell_type": "code",
   "execution_count": 12,
   "metadata": {},
   "outputs": [
    {
     "data": {
      "text/plain": [
       "array([ 1.,  2.,  3.,  4.,  5.,  6.,  7.,  8.,  9., 10., 11.])"
      ]
     },
     "execution_count": 12,
     "metadata": {},
     "output_type": "execute_result"
    }
   ],
   "source": [
    "np.arange(1.0, 12)"
   ]
  },
  {
   "cell_type": "code",
   "execution_count": 13,
   "metadata": {},
   "outputs": [
    {
     "data": {
      "text/plain": [
       "array([ 4,  9, 14, 19, 24, 29, 34, 39, 44, 49, 54, 59])"
      ]
     },
     "execution_count": 13,
     "metadata": {},
     "output_type": "execute_result"
    }
   ],
   "source": [
    "np.arange(4, 60, step=5)"
   ]
  },
  {
   "cell_type": "markdown",
   "metadata": {},
   "source": [
    "## Some useful attributes"
   ]
  },
  {
   "cell_type": "markdown",
   "metadata": {},
   "source": [
    "### np.array.dtype\n",
    "You can use the **dtype** attribute to check the data type of the numpy object. You may also specify the the data type at the time of creating the numpy array."
   ]
  },
  {
   "cell_type": "code",
   "execution_count": 14,
   "metadata": {},
   "outputs": [
    {
     "name": "stdout",
     "output_type": "stream",
     "text": [
      "Data type name:  int32\n"
     ]
    }
   ],
   "source": [
    "arr = np.array([45,65,34,45], dtype=np.int32)\n",
    "print(\"Data type name: \",arr.dtype)"
   ]
  },
  {
   "cell_type": "markdown",
   "metadata": {},
   "source": [
    "### np.array.astype\n",
    "You can also change the data type of the numpy array by using the **astype** attribute."
   ]
  },
  {
   "cell_type": "code",
   "execution_count": 15,
   "metadata": {},
   "outputs": [
    {
     "name": "stdout",
     "output_type": "stream",
     "text": [
      "Changed data type is now:  float64\n"
     ]
    }
   ],
   "source": [
    "arr = arr.astype(np.float64)\n",
    "print(\"Changed data type is now: \", arr.dtype)"
   ]
  },
  {
   "cell_type": "markdown",
   "metadata": {},
   "source": [
    "### Reshaping arrays\n",
    "\n",
    "Numpy allows you to shape and reshape arrays anytime. Lets take the following examples."
   ]
  },
  {
   "cell_type": "code",
   "execution_count": 16,
   "metadata": {},
   "outputs": [
    {
     "name": "stdout",
     "output_type": "stream",
     "text": [
      "[ 0  1  2  3  4  5  6  7  8  9 10 11 12 13 14 15 16 17 18 19]\n"
     ]
    }
   ],
   "source": [
    "# We are creating a new numpy array using the arange() function\n",
    "new_array = np.arange(20)\n",
    "print(new_array)"
   ]
  },
  {
   "cell_type": "code",
   "execution_count": 17,
   "metadata": {},
   "outputs": [
    {
     "data": {
      "text/plain": [
       "array([[ 0,  1,  2,  3,  4],\n",
       "       [ 5,  6,  7,  8,  9],\n",
       "       [10, 11, 12, 13, 14],\n",
       "       [15, 16, 17, 18, 19]])"
      ]
     },
     "execution_count": 17,
     "metadata": {},
     "output_type": "execute_result"
    }
   ],
   "source": [
    "# Lets set the shape\n",
    "new_array.shape = (4,5)\n",
    "new_array"
   ]
  },
  {
   "cell_type": "code",
   "execution_count": 18,
   "metadata": {},
   "outputs": [
    {
     "data": {
      "text/plain": [
       "array([[ 0,  1],\n",
       "       [ 2,  3],\n",
       "       [ 4,  5],\n",
       "       [ 6,  7],\n",
       "       [ 8,  9],\n",
       "       [10, 11],\n",
       "       [12, 13],\n",
       "       [14, 15],\n",
       "       [16, 17],\n",
       "       [18, 19]])"
      ]
     },
     "execution_count": 18,
     "metadata": {},
     "output_type": "execute_result"
    }
   ],
   "source": [
    "new_array.shape = (10,2)\n",
    "new_array"
   ]
  },
  {
   "cell_type": "markdown",
   "metadata": {},
   "source": [
    "### np.array.reshape\n",
    "You can use the reshape() method to reshape your numpy array. It takes in (rows,column). You can play around with the number of rows and columns but ensure that the product of the rows and columns specified equals the size the numpy array.\n"
   ]
  },
  {
   "cell_type": "code",
   "execution_count": 19,
   "metadata": {},
   "outputs": [
    {
     "data": {
      "text/plain": [
       "array([[ 0,  1,  2,  3,  4,  5,  6,  7,  8,  9],\n",
       "       [10, 11, 12, 13, 14, 15, 16, 17, 18, 19]])"
      ]
     },
     "execution_count": 19,
     "metadata": {},
     "output_type": "execute_result"
    }
   ],
   "source": [
    "new2_array = new_array.reshape(2,10)\n",
    "new2_array"
   ]
  },
  {
   "cell_type": "markdown",
   "metadata": {},
   "source": [
    "## Arithmetic operations on Arrays\n",
    "The usual arithmetic operations (addition, subtraction, multiplication, division, indices etc) in maths apply on numpy arrays too."
   ]
  },
  {
   "cell_type": "code",
   "execution_count": 20,
   "metadata": {},
   "outputs": [
    {
     "name": "stdout",
     "output_type": "stream",
     "text": [
      "array_a:  [1 3 5 7 9]\n",
      "array_b:  [11 13 15 17 19]\n",
      "Adding: array_a + array_b =  [12 16 20 24 28]\n",
      "Subtracting: array_a - array_b =  [-10 -10 -10 -10 -10]\n",
      "Multiplying: array_a * array_b =  [ 11  39  75 119 171]\n",
      "Dividing: array_a / array_b =  [0.09090909 0.23076923 0.33333333 0.41176471 0.47368421]\n",
      "Integer Division: array_b // array_a =  [11  4  3  2  2]\n",
      "Modulo Division: array_a % array_b =  [1 3 5 7 9]\n",
      "Adding: array_b ** array_a =  [          11         2197       759375    410338673 322687697779]\n"
     ]
    }
   ],
   "source": [
    "array_a = np.arange(1,10, step=2)\n",
    "array_b = np.arange(11, 20, step = 2)\n",
    "print(\"array_a: \",array_a)\n",
    "print(\"array_b: \",array_b)\n",
    "print(\"Adding: array_a + array_b = \", array_a + array_b)\n",
    "print(\"Subtracting: array_a - array_b = \", array_a - array_b)\n",
    "print(\"Multiplying: array_a * array_b = \", array_a * array_b)\n",
    "print(\"Dividing: array_a / array_b = \", array_a / array_b)\n",
    "print(\"Integer Division: array_b // array_a = \", array_b // array_a)\n",
    "print(\"Modulo Division: array_a % array_b = \", array_a % array_b)\n",
    "print(\"Adding: array_b ** array_a = \", array_b ** array_a)"
   ]
  },
  {
   "cell_type": "markdown",
   "metadata": {},
   "source": [
    "## Adding and removing element\n"
   ]
  },
  {
   "cell_type": "markdown",
   "metadata": {},
   "source": [
    "### np.append & np.insert\n",
    "Just like the append() in built-in python method, the np.append() adds an element to the end of a numpy array. The insert also helps you to insert an element at a particular index."
   ]
  },
  {
   "cell_type": "code",
   "execution_count": 21,
   "metadata": {},
   "outputs": [
    {
     "name": "stdout",
     "output_type": "stream",
     "text": [
      "The original array:  [ 0  5 10 15 20 25 30 35 40 45]\n"
     ]
    }
   ],
   "source": [
    "my_arr = np.arange(0,50, step=5)\n",
    "print(\"The original array: \", my_arr)"
   ]
  },
  {
   "cell_type": "code",
   "execution_count": 22,
   "metadata": {},
   "outputs": [
    {
     "data": {
      "text/plain": [
       "array([ 0,  5, 10, 15, 20, 25, 30, 35, 40, 45, 12])"
      ]
     },
     "execution_count": 22,
     "metadata": {},
     "output_type": "execute_result"
    }
   ],
   "source": [
    "my_arr = np.append(my_arr,12)\n",
    "my_arr"
   ]
  },
  {
   "cell_type": "code",
   "execution_count": 23,
   "metadata": {},
   "outputs": [
    {
     "data": {
      "text/plain": [
       "array([  0,   5,  10, 100,  15,  20,  25,  30,  35,  40,  45,  12])"
      ]
     },
     "execution_count": 23,
     "metadata": {},
     "output_type": "execute_result"
    }
   ],
   "source": [
    "my_arr = np.insert(my_arr, 3, 100)\n",
    "my_arr"
   ]
  },
  {
   "cell_type": "markdown",
   "metadata": {},
   "source": [
    "### np.delete\n",
    "\n",
    "**np.delete** allows you to delete elements in numpy arrays. You can delete by index, by row or column\n"
   ]
  },
  {
   "cell_type": "code",
   "execution_count": 24,
   "metadata": {},
   "outputs": [
    {
     "name": "stdout",
     "output_type": "stream",
     "text": [
      "Original Array:  [0 1 2 3 4 5 6 7 8 9]\n",
      "The result after deleting the first item:  [1 2 3 4 5 6 7 8 9]\n",
      "The result after deleting multiple items:  [3 4 5 6 7 8 9]\n",
      "After resizing:  [[0 1]\n",
      " [2 3]\n",
      " [4 5]\n",
      " [6 7]\n",
      " [8 9]]\n",
      "The result after deleting a row:  [[0 1]\n",
      " [2 3]\n",
      " [4 5]\n",
      " [8 9]]\n",
      "The result after deleting a column:  [[1]\n",
      " [3]\n",
      " [5]\n",
      " [7]\n",
      " [9]]\n"
     ]
    }
   ],
   "source": [
    "my_arr = np.arange(10)\n",
    "print(\"Original Array: \", my_arr)\n",
    "\n",
    "#Deleting one element by index\n",
    "del_my_arr = np.delete(my_arr, 0)\n",
    "print(\"The result after deleting the first item: \",del_my_arr)\n",
    "\n",
    "#Deleting multiple elements\n",
    "delM_my_arr = np.delete(my_arr, [0,1,2])\n",
    "print(\"The result after deleting multiple items: \",delM_my_arr)\n",
    "\n",
    "my_arr.resize(5,2)\n",
    "print(\"After resizing: \", my_arr)\n",
    "\n",
    "#Deleting by row, The first argument is the numpy array you want to manipulate, \n",
    "#The second argument is the row index you want to delete\n",
    "#The third argument specifies that it is a row you want to delete.\n",
    "delRow_my_arr = np.delete(my_arr, 3, axis=0)\n",
    "print(\"The result after deleting a row: \",delRow_my_arr)\n",
    "delCol_my_arr = np.delete(my_arr, 0, axis=1)\n",
    "print(\"The result after deleting a column: \",delCol_my_arr)"
   ]
  },
  {
   "cell_type": "markdown",
   "metadata": {},
   "source": [
    "## Copying Arrays"
   ]
  },
  {
   "cell_type": "markdown",
   "metadata": {},
   "source": [
    "Numpy has a function to make copies of arrays"
   ]
  },
  {
   "cell_type": "code",
   "execution_count": 146,
   "metadata": {},
   "outputs": [
    {
     "name": "stdout",
     "output_type": "stream",
     "text": [
      "Original [0 1 2 3 4 5 6 7 8 9]\n",
      "Copied [0 1 2 3 4 5 6 7 8 9]\n",
      "[ True  True  True  True  True  True  True  True  True  True]\n",
      "True\n",
      "[ True  True  True  True  True  True  True  True  True  True]\n",
      "False\n"
     ]
    }
   ],
   "source": [
    "a = b = np.arange(10)\n",
    "print(\"Original\",a)\n",
    "a_copy = np.copy(a)\n",
    "print(\"Copied\", a_copy)\n",
    "\n",
    "print(a == b) # this does element-wise comparison and returns True\n",
    "print(a is b) # this does array-wise comparison and returns True\n",
    "print(a == a_copy) # also element-wise comparisons and returns True\n",
    "print(a is a_copy) # this does array-wise comparison and return True \n",
    "#because one is original and the other is a copy."
   ]
  },
  {
   "cell_type": "markdown",
   "metadata": {},
   "source": [
    "## Broadcasting"
   ]
  },
  {
   "cell_type": "markdown",
   "metadata": {},
   "source": [
    "Whenever we have a compatible array, we can use broadcasting to do some type of function unto a larger array. Compatible arrays will have the same number of dimensions on either the rows or the columns and 1 on the other side. Let's take an example"
   ]
  },
  {
   "cell_type": "code",
   "execution_count": 48,
   "metadata": {},
   "outputs": [
    {
     "name": "stdout",
     "output_type": "stream",
     "text": [
      "Original numpy array [[10 15 20 25]\n",
      " [30 35 40 45]\n",
      " [50 55 60 65]\n",
      " [70 75 80 85]]\n"
     ]
    }
   ],
   "source": [
    "a = np.arange(10,90,step=5).reshape(4,4)\n",
    "print(\"Original numpy array\", a)"
   ]
  },
  {
   "cell_type": "code",
   "execution_count": 50,
   "metadata": {},
   "outputs": [
    {
     "data": {
      "text/plain": [
       "array([0, 1, 2, 3])"
      ]
     },
     "execution_count": 50,
     "metadata": {},
     "output_type": "execute_result"
    }
   ],
   "source": [
    "# Lets make another array, b with four columns and one row\n",
    "\n",
    "b = np.arange(4)"
   ]
  },
  {
   "cell_type": "code",
   "execution_count": 51,
   "metadata": {},
   "outputs": [
    {
     "data": {
      "text/plain": [
       "array([[  0,  15,  40,  75],\n",
       "       [  0,  35,  80, 135],\n",
       "       [  0,  55, 120, 195],\n",
       "       [  0,  75, 160, 255]])"
      ]
     },
     "execution_count": 51,
     "metadata": {},
     "output_type": "execute_result"
    }
   ],
   "source": [
    "result = a * b\n",
    "resul"
   ]
  },
  {
   "cell_type": "code",
   "execution_count": 52,
   "metadata": {},
   "outputs": [
    {
     "data": {
      "text/plain": [
       "array([[1],\n",
       "       [2],\n",
       "       [3],\n",
       "       [4]])"
      ]
     },
     "execution_count": 52,
     "metadata": {},
     "output_type": "execute_result"
    }
   ],
   "source": [
    "# Let's make another array, c with four rows and one column\n",
    "c = np.array([[1],[2],[3],[4]])\n",
    "c"
   ]
  },
  {
   "cell_type": "code",
   "execution_count": 53,
   "metadata": {},
   "outputs": [
    {
     "data": {
      "text/plain": [
       "array([[ 10,  15,  20,  25],\n",
       "       [ 60,  70,  80,  90],\n",
       "       [150, 165, 180, 195],\n",
       "       [280, 300, 320, 340]])"
      ]
     },
     "execution_count": 53,
     "metadata": {},
     "output_type": "execute_result"
    }
   ],
   "source": [
    "result2 = a * c\n",
    "result2"
   ]
  },
  {
   "cell_type": "markdown",
   "metadata": {},
   "source": [
    "## Conditional Expression with Numpy Arrays"
   ]
  },
  {
   "cell_type": "code",
   "execution_count": 54,
   "metadata": {},
   "outputs": [
    {
     "data": {
      "text/plain": [
       "array([False, False, False,  True,  True,  True,  True,  True,  True])"
      ]
     },
     "execution_count": 54,
     "metadata": {},
     "output_type": "execute_result"
    }
   ],
   "source": [
    "a = np.arange(10, 100, step=10)\n",
    "a > 30"
   ]
  },
  {
   "cell_type": "code",
   "execution_count": 55,
   "metadata": {},
   "outputs": [
    {
     "data": {
      "text/plain": [
       "array([40, 50, 60, 70, 80, 90])"
      ]
     },
     "execution_count": 55,
     "metadata": {},
     "output_type": "execute_result"
    }
   ],
   "source": [
    "a[a>30]"
   ]
  },
  {
   "cell_type": "markdown",
   "metadata": {},
   "source": [
    "### np.where\n",
    "\n",
    "It returns the indices of the elements in a numpy array that satisfies a particular condition"
   ]
  },
  {
   "cell_type": "code",
   "execution_count": 59,
   "metadata": {},
   "outputs": [
    {
     "data": {
      "text/plain": [
       "array([ 30,  40,  50,  60,  70,  80,  90, 100, 110, 120, 130, 140])"
      ]
     },
     "execution_count": 59,
     "metadata": {},
     "output_type": "execute_result"
    }
   ],
   "source": [
    "m = np.arange(30,150, 10)\n",
    "m"
   ]
  },
  {
   "cell_type": "code",
   "execution_count": 66,
   "metadata": {},
   "outputs": [
    {
     "data": {
      "text/plain": [
       "(array([ 3,  4,  5,  6,  7,  8,  9, 10, 11]),)"
      ]
     },
     "execution_count": 66,
     "metadata": {},
     "output_type": "execute_result"
    }
   ],
   "source": [
    "np.where(m > 50)"
   ]
  },
  {
   "cell_type": "markdown",
   "metadata": {},
   "source": [
    "Another way of using the **np.where** is vectorized if-else statements."
   ]
  },
  {
   "cell_type": "code",
   "execution_count": 68,
   "metadata": {},
   "outputs": [
    {
     "data": {
      "text/plain": [
       "['Lesser Than',\n",
       " 'Lesser Than',\n",
       " 'Lesser Than',\n",
       " 'Lesser Than',\n",
       " 'Lesser Than',\n",
       " 'Greater Than',\n",
       " 'Greater Than',\n",
       " 'Greater Than',\n",
       " 'Greater Than',\n",
       " 'Greater Than',\n",
       " 'Greater Than',\n",
       " 'Greater Than']"
      ]
     },
     "execution_count": 68,
     "metadata": {},
     "output_type": "execute_result"
    }
   ],
   "source": [
    "list(np.where(m > 70, \"Greater Than\", \"Lesser Than\"))"
   ]
  },
  {
   "cell_type": "markdown",
   "metadata": {},
   "source": [
    "## Mathematical and Statistical Functions"
   ]
  },
  {
   "cell_type": "markdown",
   "metadata": {},
   "source": [
    "Numpy has a wide range of mathematical functions/methods that allows you to compute statistics of an entire array or along the rows or columns."
   ]
  },
  {
   "cell_type": "code",
   "execution_count": 74,
   "metadata": {},
   "outputs": [
    {
     "data": {
      "text/plain": [
       "array([[ 60,  70,  80],\n",
       "       [ 90, 100, 110],\n",
       "       [120, 130, 140],\n",
       "       [150, 160, 170],\n",
       "       [180, 190, 200]])"
      ]
     },
     "execution_count": 74,
     "metadata": {},
     "output_type": "execute_result"
    }
   ],
   "source": [
    "array = np.arange(60, 210, step=10).reshape(5,3)\n",
    "array"
   ]
  },
  {
   "cell_type": "markdown",
   "metadata": {},
   "source": [
    "For each method, we shall compute them over the entire array and along the rows and columns\n"
   ]
  },
  {
   "cell_type": "code",
   "execution_count": 78,
   "metadata": {},
   "outputs": [
    {
     "name": "stdout",
     "output_type": "stream",
     "text": [
      "The max of the entire array = 200\n",
      "The max along the columns = [180 190 200]\n",
      "The max along the rows = [ 80 110 140 170 200]\n"
     ]
    }
   ],
   "source": [
    "print(\"The max of the entire array =\",np.max(array))\n",
    "print(\"The max along the columns =\", array.max(axis=0))\n",
    "print(\"The max along the rows =\", array.max(axis=1))"
   ]
  },
  {
   "cell_type": "code",
   "execution_count": 79,
   "metadata": {},
   "outputs": [
    {
     "name": "stdout",
     "output_type": "stream",
     "text": [
      "The min of the entire array = 60\n",
      "The min along the columns = [60 70 80]\n",
      "The min along the rows = [ 60  90 120 150 180]\n"
     ]
    }
   ],
   "source": [
    "print(\"The min of the entire array =\",np.min(array))\n",
    "print(\"The min along the columns =\", array.min(axis=0))\n",
    "print(\"The min along the rows =\", array.min(axis=1))"
   ]
  },
  {
   "cell_type": "code",
   "execution_count": 80,
   "metadata": {},
   "outputs": [
    {
     "name": "stdout",
     "output_type": "stream",
     "text": [
      "The mean of the entire array = 130.0\n",
      "The mean along the columns = [120. 130. 140.]\n",
      "The mean along the rows = [ 70. 100. 130. 160. 190.]\n"
     ]
    }
   ],
   "source": [
    "print(\"The mean of the entire array =\",np.mean(array))\n",
    "print(\"The mean along the columns =\", array.mean(axis=0))\n",
    "print(\"The mean along the rows =\", array.mean(axis=1))"
   ]
  },
  {
   "cell_type": "code",
   "execution_count": 81,
   "metadata": {},
   "outputs": [
    {
     "name": "stdout",
     "output_type": "stream",
     "text": [
      "The product of the entire array = 5069473773841809408\n",
      "The product along the columns = [17496000000 27664000000 41888000000]\n",
      "The product along the rows = [ 336000  990000 2184000 4080000 6840000]\n"
     ]
    }
   ],
   "source": [
    "print(\"The product of the entire array =\",np.prod(array))\n",
    "print(\"The product along the columns =\", array.prod(axis=0))\n",
    "print(\"The product along the rows =\", array.prod(axis=1))"
   ]
  },
  {
   "cell_type": "code",
   "execution_count": 97,
   "metadata": {},
   "outputs": [
    {
     "name": "stdout",
     "output_type": "stream",
     "text": [
      "The standard deviation of the entire array = 43.20493798938573\n",
      "The standard deviation along the columns = [42.42640687 42.42640687 42.42640687]\n",
      "The standard deviation along the rows = [8.16496581 8.16496581 8.16496581 8.16496581 8.16496581]\n"
     ]
    }
   ],
   "source": [
    "print(\"The standard deviation of the entire array =\",np.std(array))\n",
    "print(\"The standard deviation along the columns =\", array.std(axis=0))\n",
    "print(\"The standard deviation along the rows =\", array.std(axis=1))"
   ]
  },
  {
   "cell_type": "code",
   "execution_count": 98,
   "metadata": {},
   "outputs": [
    {
     "name": "stdout",
     "output_type": "stream",
     "text": [
      "The variance of the entire array = 1866.6666666666667\n",
      "The variance along the columns = [1800. 1800. 1800.]\n",
      "The variance along the rows = [66.66666667 66.66666667 66.66666667 66.66666667 66.66666667]\n"
     ]
    }
   ],
   "source": [
    "print(\"The variance of the entire array =\",np.var(array))\n",
    "print(\"The variance along the columns =\", array.var(axis=0))\n",
    "print(\"The variance along the rows =\", array.var(axis=1))"
   ]
  },
  {
   "cell_type": "code",
   "execution_count": 99,
   "metadata": {},
   "outputs": [
    {
     "name": "stdout",
     "output_type": "stream",
     "text": [
      "The sum of the entire array = 1950\n",
      "The sum along the columns = [600 650 700]\n",
      "The sum along the rows = [210 300 390 480 570]\n"
     ]
    }
   ],
   "source": [
    "print(\"The sum of the entire array =\",np.sum(array))\n",
    "print(\"The sum along the columns =\", array.sum(axis=0))\n",
    "print(\"The sum along the rows =\", array.sum(axis=1))"
   ]
  },
  {
   "cell_type": "markdown",
   "metadata": {},
   "source": [
    "## Universal Functions\n",
    "\n",
    "Universal functions are those that make element-wise computations on data in numpy arrays. Their functions takes in a scaler value and returns a scaler numpy array."
   ]
  },
  {
   "cell_type": "code",
   "execution_count": 100,
   "metadata": {},
   "outputs": [
    {
     "data": {
      "text/plain": [
       "array([ 30,  40,  50,  60,  70,  80,  90, 100, 110])"
      ]
     },
     "execution_count": 100,
     "metadata": {},
     "output_type": "execute_result"
    }
   ],
   "source": [
    "new_array = np.arange(30, 120, step=10)\n",
    "new_array"
   ]
  },
  {
   "cell_type": "markdown",
   "metadata": {},
   "source": [
    "### np.square\n",
    "\n",
    "Calculate the element-wise square of the input"
   ]
  },
  {
   "cell_type": "code",
   "execution_count": 101,
   "metadata": {},
   "outputs": [
    {
     "data": {
      "text/plain": [
       "array([  900,  1600,  2500,  3600,  4900,  6400,  8100, 10000, 12100])"
      ]
     },
     "execution_count": 101,
     "metadata": {},
     "output_type": "execute_result"
    }
   ],
   "source": [
    "np.square(new_array)"
   ]
  },
  {
   "cell_type": "markdown",
   "metadata": {},
   "source": [
    "### np.exp\n",
    "\n",
    "Calculate the element-wise exponent of the input"
   ]
  },
  {
   "cell_type": "code",
   "execution_count": 102,
   "metadata": {},
   "outputs": [
    {
     "data": {
      "text/plain": [
       "array([1.06864746e+13, 2.35385267e+17, 5.18470553e+21, 1.14200739e+26,\n",
       "       2.51543867e+30, 5.54062238e+34, 1.22040329e+39, 2.68811714e+43,\n",
       "       5.92097203e+47])"
      ]
     },
     "execution_count": 102,
     "metadata": {},
     "output_type": "execute_result"
    }
   ],
   "source": [
    "np.exp(new_array)"
   ]
  },
  {
   "cell_type": "markdown",
   "metadata": {},
   "source": [
    "## Binary Universal Functions\n",
    "\n",
    "They take two numpy arrays as arguments and return an array as the result"
   ]
  },
  {
   "cell_type": "code",
   "execution_count": 103,
   "metadata": {},
   "outputs": [
    {
     "name": "stdout",
     "output_type": "stream",
     "text": [
      "[45 33 78 23]\n",
      "[3 1 6 3]\n"
     ]
    }
   ],
   "source": [
    "a = np.array([45,33,78,23])\n",
    "b = np.array([3,1,6,3])\n",
    "print(a)\n",
    "print(b)"
   ]
  },
  {
   "cell_type": "markdown",
   "metadata": {},
   "source": [
    "### np.maximum\n",
    "\n",
    "It returns the maximum of the element-wise array elements"
   ]
  },
  {
   "cell_type": "code",
   "execution_count": 104,
   "metadata": {},
   "outputs": [
    {
     "data": {
      "text/plain": [
       "array([45, 33, 78, 23])"
      ]
     },
     "execution_count": 104,
     "metadata": {},
     "output_type": "execute_result"
    }
   ],
   "source": [
    "np.maximum(a,b)"
   ]
  },
  {
   "cell_type": "markdown",
   "metadata": {},
   "source": [
    "### np.minimum\n",
    "\n",
    "It returns the minimum of the element-wise elements"
   ]
  },
  {
   "cell_type": "code",
   "execution_count": 105,
   "metadata": {},
   "outputs": [
    {
     "data": {
      "text/plain": [
       "array([3, 1, 6, 3])"
      ]
     },
     "execution_count": 105,
     "metadata": {},
     "output_type": "execute_result"
    }
   ],
   "source": [
    "np.minimum(a,b)"
   ]
  },
  {
   "cell_type": "markdown",
   "metadata": {},
   "source": [
    "### np.power\n",
    "\n",
    "Elements from the first array raised to the power of the second array element. This is done element-wise"
   ]
  },
  {
   "cell_type": "code",
   "execution_count": 106,
   "metadata": {},
   "outputs": [
    {
     "data": {
      "text/plain": [
       "array([       91125,           33, 225199600704,        12167])"
      ]
     },
     "execution_count": 106,
     "metadata": {},
     "output_type": "execute_result"
    }
   ],
   "source": [
    "np.power(a,b)"
   ]
  },
  {
   "cell_type": "markdown",
   "metadata": {},
   "source": [
    "## Array Indexing and Slicing"
   ]
  },
  {
   "cell_type": "markdown",
   "metadata": {},
   "source": [
    "### One dimensional array slicing and indexing"
   ]
  },
  {
   "cell_type": "markdown",
   "metadata": {},
   "source": [
    "This is similar to normal list indexing and slicing in python. We will jump straight into the multi dimensional array indexing and slicing"
   ]
  },
  {
   "cell_type": "markdown",
   "metadata": {},
   "source": [
    "### Multi Dimensional Indexing and Slicing"
   ]
  },
  {
   "cell_type": "code",
   "execution_count": 108,
   "metadata": {},
   "outputs": [
    {
     "data": {
      "text/plain": [
       "array([[10, 20, 30],\n",
       "       [40, 50, 60],\n",
       "       [70, 80, 90]])"
      ]
     },
     "execution_count": 108,
     "metadata": {},
     "output_type": "execute_result"
    }
   ],
   "source": [
    "a = np.arange(10,100,step=10).reshape(3,3)\n",
    "a"
   ]
  },
  {
   "cell_type": "code",
   "execution_count": 110,
   "metadata": {},
   "outputs": [
    {
     "data": {
      "text/plain": [
       "90"
      ]
     },
     "execution_count": 110,
     "metadata": {},
     "output_type": "execute_result"
    }
   ],
   "source": [
    "a[2,2] # row three, column three........remember indexing starts from 0"
   ]
  },
  {
   "cell_type": "code",
   "execution_count": 111,
   "metadata": {},
   "outputs": [
    {
     "data": {
      "text/plain": [
       "array([10, 20, 30])"
      ]
     },
     "execution_count": 111,
     "metadata": {},
     "output_type": "execute_result"
    }
   ],
   "source": [
    "a[0,:] # row 1, all column"
   ]
  },
  {
   "cell_type": "code",
   "execution_count": 112,
   "metadata": {},
   "outputs": [
    {
     "data": {
      "text/plain": [
       "array([10, 40, 70])"
      ]
     },
     "execution_count": 112,
     "metadata": {},
     "output_type": "execute_result"
    }
   ],
   "source": [
    "a[:,0] # all rows, column 1"
   ]
  },
  {
   "cell_type": "markdown",
   "metadata": {},
   "source": [
    "## Transposing Arrays"
   ]
  },
  {
   "cell_type": "markdown",
   "metadata": {},
   "source": [
    "In numpy, we use the **transpose()** method to transpose an array. When you transpose an array, the rows become columns and the columns become rows."
   ]
  },
  {
   "cell_type": "code",
   "execution_count": 113,
   "metadata": {},
   "outputs": [
    {
     "data": {
      "text/plain": [
       "array([[ 4,  8, 12, 16],\n",
       "       [20, 24, 28, 32],\n",
       "       [36, 40, 44, 48]])"
      ]
     },
     "execution_count": 113,
     "metadata": {},
     "output_type": "execute_result"
    }
   ],
   "source": [
    "m = np.arange(4, 52, step=4).reshape(3,4)\n",
    "m\n"
   ]
  },
  {
   "cell_type": "code",
   "execution_count": 114,
   "metadata": {},
   "outputs": [
    {
     "data": {
      "text/plain": [
       "array([[ 4, 20, 36],\n",
       "       [ 8, 24, 40],\n",
       "       [12, 28, 44],\n",
       "       [16, 32, 48]])"
      ]
     },
     "execution_count": 114,
     "metadata": {},
     "output_type": "execute_result"
    }
   ],
   "source": [
    "np.transpose(m)"
   ]
  },
  {
   "cell_type": "markdown",
   "metadata": {},
   "source": [
    "## Combining Arrays"
   ]
  },
  {
   "cell_type": "code",
   "execution_count": 115,
   "metadata": {},
   "outputs": [
    {
     "name": "stdout",
     "output_type": "stream",
     "text": [
      "[0 1 2 3 4 5]\n",
      "[ 0  8 16 24 32 40]\n",
      "[10 11 12 13 14 15]\n"
     ]
    }
   ],
   "source": [
    "a = np.arange(6)\n",
    "b = 8 * a\n",
    "c = 10 + a\n",
    "print(a)\n",
    "print(b)\n",
    "print(c)"
   ]
  },
  {
   "cell_type": "markdown",
   "metadata": {},
   "source": [
    "### np.vstack\n",
    "\n",
    "Stacks arrays vertically"
   ]
  },
  {
   "cell_type": "code",
   "execution_count": 116,
   "metadata": {},
   "outputs": [
    {
     "data": {
      "text/plain": [
       "array([[ 0,  1,  2,  3,  4,  5],\n",
       "       [ 0,  8, 16, 24, 32, 40],\n",
       "       [10, 11, 12, 13, 14, 15]])"
      ]
     },
     "execution_count": 116,
     "metadata": {},
     "output_type": "execute_result"
    }
   ],
   "source": [
    "res = np.vstack((a,b,c))\n",
    "res"
   ]
  },
  {
   "cell_type": "markdown",
   "metadata": {},
   "source": [
    "### np.hstack\n",
    "\n",
    "Stacks arrays horizontally"
   ]
  },
  {
   "cell_type": "code",
   "execution_count": 117,
   "metadata": {},
   "outputs": [
    {
     "data": {
      "text/plain": [
       "array([ 0,  1,  2,  3,  4,  5,  0,  8, 16, 24, 32, 40, 10, 11, 12, 13, 14,\n",
       "       15])"
      ]
     },
     "execution_count": 117,
     "metadata": {},
     "output_type": "execute_result"
    }
   ],
   "source": [
    "res1 = np.hstack((a,b,c))\n",
    "res1"
   ]
  },
  {
   "cell_type": "markdown",
   "metadata": {},
   "source": [
    "## Sorting Arrays\n",
    "\n",
    "You may use the **sort()** method which sorts in place"
   ]
  },
  {
   "cell_type": "code",
   "execution_count": 118,
   "metadata": {},
   "outputs": [
    {
     "data": {
      "text/plain": [
       "array([ 0,  1,  2,  3,  4,  5,  0,  8, 16, 24, 32, 40, 10, 11, 12, 13, 14,\n",
       "       15])"
      ]
     },
     "execution_count": 118,
     "metadata": {},
     "output_type": "execute_result"
    }
   ],
   "source": [
    "res1"
   ]
  },
  {
   "cell_type": "code",
   "execution_count": 120,
   "metadata": {},
   "outputs": [
    {
     "data": {
      "text/plain": [
       "array([ 0,  0,  1,  2,  3,  4,  5,  8, 10, 11, 12, 13, 14, 15, 16, 24, 32,\n",
       "       40])"
      ]
     },
     "execution_count": 120,
     "metadata": {},
     "output_type": "execute_result"
    }
   ],
   "source": [
    "res1.sort()\n",
    "res1"
   ]
  },
  {
   "cell_type": "markdown",
   "metadata": {},
   "source": [
    "If you dont want the sorting to happend in place you can use **np.sort()** "
   ]
  },
  {
   "cell_type": "code",
   "execution_count": 122,
   "metadata": {},
   "outputs": [
    {
     "data": {
      "text/plain": [
       "array([ 45,  78, 124,  46,  89,  34,  18,  19,  54])"
      ]
     },
     "execution_count": 122,
     "metadata": {},
     "output_type": "execute_result"
    }
   ],
   "source": [
    "new_array = np.array([45,78,124,46,89,34,18,19,54])\n",
    "new_array"
   ]
  },
  {
   "cell_type": "code",
   "execution_count": 123,
   "metadata": {},
   "outputs": [
    {
     "data": {
      "text/plain": [
       "array([ 18,  19,  34,  45,  46,  54,  78,  89, 124])"
      ]
     },
     "execution_count": 123,
     "metadata": {},
     "output_type": "execute_result"
    }
   ],
   "source": [
    "sorted_array = np.sort(new_array)\n",
    "sorted_array"
   ]
  },
  {
   "cell_type": "markdown",
   "metadata": {},
   "source": [
    "If you want to reverse the sorted array, you can add **[::-1]** to the end of the **np.sort()**"
   ]
  },
  {
   "cell_type": "code",
   "execution_count": 124,
   "metadata": {},
   "outputs": [
    {
     "data": {
      "text/plain": [
       "array([124,  89,  78,  54,  46,  45,  34,  19,  18])"
      ]
     },
     "execution_count": 124,
     "metadata": {},
     "output_type": "execute_result"
    }
   ],
   "source": [
    "rev = np.sort(new_array)[::-1]\n",
    "rev"
   ]
  },
  {
   "cell_type": "markdown",
   "metadata": {},
   "source": [
    "## Saving Arrays\n",
    "\n",
    "The **np.save()** method allows us to save arrays and load them later."
   ]
  },
  {
   "cell_type": "code",
   "execution_count": 129,
   "metadata": {},
   "outputs": [],
   "source": [
    "arr = np.arange(10)\n",
    "arr2 = np.arange(10, 100, step=10)"
   ]
  },
  {
   "cell_type": "code",
   "execution_count": 130,
   "metadata": {},
   "outputs": [],
   "source": [
    "# Save single array\n",
    "np.save('arr',arr)"
   ]
  },
  {
   "cell_type": "code",
   "execution_count": 133,
   "metadata": {},
   "outputs": [],
   "source": [
    "# Save multiple arrays\n",
    "np.savez('arrays.npz', x=arr, y=arr2)"
   ]
  },
  {
   "cell_type": "code",
   "execution_count": 141,
   "metadata": {},
   "outputs": [],
   "source": [
    "# You can also save to txt file\n",
    "np.savetxt('array.txt', arr,delimiter=',')"
   ]
  },
  {
   "cell_type": "markdown",
   "metadata": {},
   "source": [
    "## Loading Arrays\n",
    "\n",
    "Numpy arrays have the extension **npy**. Therefore, you must have the extension when you want to load a numpy array."
   ]
  },
  {
   "cell_type": "code",
   "execution_count": 134,
   "metadata": {},
   "outputs": [
    {
     "data": {
      "text/plain": [
       "array([0, 1, 2, 3, 4, 5, 6, 7, 8, 9])"
      ]
     },
     "execution_count": 134,
     "metadata": {},
     "output_type": "execute_result"
    }
   ],
   "source": [
    "# Load single arrays\n",
    "load_array = np.load('arr.npy')\n",
    "load_array"
   ]
  },
  {
   "cell_type": "code",
   "execution_count": 136,
   "metadata": {},
   "outputs": [],
   "source": [
    "# Load multiple arrays\n",
    "load_multiple = np.load('arrays.npz')"
   ]
  },
  {
   "cell_type": "code",
   "execution_count": 137,
   "metadata": {},
   "outputs": [
    {
     "data": {
      "text/plain": [
       "array([0, 1, 2, 3, 4, 5, 6, 7, 8, 9])"
      ]
     },
     "execution_count": 137,
     "metadata": {},
     "output_type": "execute_result"
    }
   ],
   "source": [
    "load_multiple['x']"
   ]
  },
  {
   "cell_type": "code",
   "execution_count": 138,
   "metadata": {},
   "outputs": [
    {
     "data": {
      "text/plain": [
       "array([10, 20, 30, 40, 50, 60, 70, 80, 90])"
      ]
     },
     "execution_count": 138,
     "metadata": {},
     "output_type": "execute_result"
    }
   ],
   "source": [
    "load_multiple['y']"
   ]
  },
  {
   "cell_type": "code",
   "execution_count": 142,
   "metadata": {},
   "outputs": [],
   "source": [
    "# Loading txt file\n",
    "load_txt = np.loadtxt('array.txt',delimiter=',')"
   ]
  },
  {
   "cell_type": "code",
   "execution_count": 143,
   "metadata": {},
   "outputs": [
    {
     "data": {
      "text/plain": [
       "array([0., 1., 2., 3., 4., 5., 6., 7., 8., 9.])"
      ]
     },
     "execution_count": 143,
     "metadata": {},
     "output_type": "execute_result"
    }
   ],
   "source": [
    "load_txt"
   ]
  },
  {
   "cell_type": "markdown",
   "metadata": {},
   "source": [
    "### References"
   ]
  },
  {
   "cell_type": "markdown",
   "metadata": {},
   "source": [
    "1. https://www.featureranking.com/tutorials/python-tutorials/numpy/"
   ]
  },
  {
   "cell_type": "code",
   "execution_count": null,
   "metadata": {},
   "outputs": [],
   "source": []
  }
 ],
 "metadata": {
  "kernelspec": {
   "display_name": "Python 3",
   "language": "python",
   "name": "python3"
  },
  "language_info": {
   "codemirror_mode": {
    "name": "ipython",
    "version": 3
   },
   "file_extension": ".py",
   "mimetype": "text/x-python",
   "name": "python",
   "nbconvert_exporter": "python",
   "pygments_lexer": "ipython3",
   "version": "3.7.1"
  }
 },
 "nbformat": 4,
 "nbformat_minor": 4
}
