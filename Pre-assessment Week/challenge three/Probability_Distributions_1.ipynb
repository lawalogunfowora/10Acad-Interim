{
 "cells": [
  {
   "cell_type": "markdown",
   "metadata": {
    "colab_type": "text",
    "id": "L_BFGU88-eC3"
   },
   "source": [
    "# Probability Distribution: \n",
    "\n",
    "In [probability theory](https://en.wikipedia.org/wiki/Probability_theory) and [statistics](https://en.wikipedia.org/wiki/statistics), a probability distribution is a [mathematical function](https://en.wikipedia.org/wiki/Function_(mathematics)) that, stated in simple terms, can be thought of as providing the probabilities of occurrence of different possible outcomes in an experiment. \n",
    "\n",
    "In more technical terms, the probability distribution is a description of a random phenomenon in terms of the probabilities of events. Examples of random phenomena can include the results of an experiment or survey. A probability distribution is defined in terms of an underlying sample space, which is the set of all possible outcomes of the random phenomenon being observed.\n",
    "\n",
    "\n",
    "### Discrete and Continuous Distributions\n",
    "\n",
    "Probability distributions are generally divided into two classes. A __discrete probability distribution__ (applicable to the scenarios where the set of possible outcomes is discrete, such as a coin toss or a roll of dice) can be encoded by a discrete list of the probabilities of the outcomes, known as a [probability mass function](https://en.wikipedia.org/wiki/Probability_mass_function). On the other hand, a __continuous probability distribution__ (applicable to the scenarios where the set of possible outcomes can take on values in a continuous range (e.g. real numbers), such as the temperature on a given day) is typically described by probability density functions (with the probability of any individual outcome actually being 0). Such distributions are generally described with the help of [probability density functions](https://en.wikipedia.org/wiki/Probability_density_function).\n",
    "\n",
    "### In this notebook, we discuss about most important distributions\n",
    "* **Bernoulli distribution**\n",
    "* **Binomial distribution**\n",
    "* **Poisson distribution**\n",
    "* **Normal distribution**"
   ]
  },
  {
   "cell_type": "markdown",
   "metadata": {
    "colab_type": "text",
    "id": "heJR5MSo-eC5"
   },
   "source": [
    "#### Some Essential Terminologies\n",
    "\n",
    "* __Mode__: for a discrete random variable, the value with highest probability (the location at which the probability mass function has its peak); for a continuous random variable, a location at which the probability density function has a local peak.\n",
    "* __Support__: the smallest closed set whose complement has probability zero.\n",
    "* __Head__: the range of values where the pmf or pdf is relatively high.\n",
    "* __Tail__: the complement of the head within the support; the large set of values where the pmf or pdf is relatively low.\n",
    "* __Expected value or mean__: the weighted average of the possible values, using their probabilities as their weights; or the continuous analog thereof.\n",
    "* __Median__: the value such that the set of values less than the median, and the set greater than the median, each have probabilities no greater than one-half.\n",
    "* __Variance__: the second moment of the pmf or pdf about the mean; an important measure of the dispersion of the distribution.\n",
    "* __Standard deviation__: the square root of the variance, and hence another measure of dispersion.\n",
    "\n",
    "* __Symmetry__: a property of some distributions in which the portion of the distribution to the left of a specific value is a mirror image of the portion to its right.\n",
    "* __Skewness__: a measure of the extent to which a pmf or pdf \"leans\" to one side of its mean. The third standardized moment of the distribution.\n",
    "* __Kurtosis__: a measure of the \"fatness\" of the tails of a pmf or pdf. The fourth standardized moment of the distribution.\n",
    "\n",
    "![kurtosis](https://anotherbloodybullshitblog.files.wordpress.com/2016/01/normal-not-always-the-norm.gif?w=809)"
   ]
  },
  {
   "cell_type": "markdown",
   "metadata": {
    "colab_type": "text",
    "id": "utYJm1BN-eC7"
   },
   "source": [
    "## Bernoulii distribution\n",
    "\n",
    "The Bernoulli distribution, named after Swiss mathematician [Jacob Bernoulli](https://en.wikipedia.org/wiki/Jacob_Bernoulli), is the probability distribution of a random variable which takes the value 1 with probability $p$ and the value 0 with probability $q = 1 − p$ — i.e., the probability distribution of any single experiment that asks a ___yes–no question___; the question results in a boolean-valued outcome, a single bit of information whose value is success/yes/true/one with probability $p$ and failure/no/false/zero with probability $q$. This distribution has only two possible outcomes and a single trial.\n",
    "\n",
    "It can be used to represent a coin toss where 1 and 0 would represent \"head\" and \"tail\" (or vice versa), respectively. In particular, unfair coins would have $p ≠ 0.5$.\n",
    "\n",
    "The probability mass function $f$ of this distribution, over possible outcomes $k$, is\n",
    "\n",
    "$${\\displaystyle f(k;p)={\\begin{cases}p&{\\text{if }}k=1,\\\\[6pt]1-p&{\\text{if }}k=0.\\end{cases}}}$$"
   ]
  },
  {
   "cell_type": "code",
   "execution_count": 1,
   "metadata": {
    "ExecuteTime": {
     "end_time": "2020-07-02T07:27:50.704292Z",
     "start_time": "2020-07-02T07:27:31.557688Z"
    },
    "colab": {
     "base_uri": "https://localhost:8080/",
     "height": 71
    },
    "colab_type": "code",
    "executionInfo": {
     "elapsed": 1943,
     "status": "ok",
     "timestamp": 1593449358323,
     "user": {
      "displayName": "Elhadji Moustapha SECK",
      "photoUrl": "https://lh3.googleusercontent.com/a-/AOh14Gh5NxFlpdpvdX-LrlXwlabzlFmOqcoFB_h86YA5=s64",
      "userId": "13258444337705004773"
     },
     "user_tz": 420
    },
    "id": "U-hrY6Ys-eC7",
    "outputId": "b514a3c0-b21f-4c07-87c1-1717a4fc48ff"
   },
   "outputs": [],
   "source": [
    "import numpy as np\n",
    "from matplotlib import pyplot as plt\n",
    "from numpy import random\n",
    "import seaborn as sns"
   ]
  },
  {
   "cell_type": "code",
   "execution_count": 2,
   "metadata": {
    "ExecuteTime": {
     "end_time": "2020-07-02T07:27:50.720284Z",
     "start_time": "2020-07-02T07:27:50.712289Z"
    },
    "colab": {},
    "colab_type": "code",
    "executionInfo": {
     "elapsed": 1935,
     "status": "ok",
     "timestamp": 1593449358325,
     "user": {
      "displayName": "Elhadji Moustapha SECK",
      "photoUrl": "https://lh3.googleusercontent.com/a-/AOh14Gh5NxFlpdpvdX-LrlXwlabzlFmOqcoFB_h86YA5=s64",
      "userId": "13258444337705004773"
     },
     "user_tz": 420
    },
    "id": "hJEyTqQU-eC_"
   },
   "outputs": [],
   "source": [
    "from scipy.stats import bernoulli"
   ]
  },
  {
   "cell_type": "markdown",
   "metadata": {
    "colab_type": "text",
    "id": "s90sJUia-eDE"
   },
   "source": [
    "#### Generate random variates"
   ]
  },
  {
   "cell_type": "code",
   "execution_count": 3,
   "metadata": {
    "ExecuteTime": {
     "end_time": "2020-07-02T07:27:51.024207Z",
     "start_time": "2020-07-02T07:27:50.724284Z"
    },
    "colab": {
     "base_uri": "https://localhost:8080/",
     "height": 34
    },
    "colab_type": "code",
    "executionInfo": {
     "elapsed": 1908,
     "status": "ok",
     "timestamp": 1593449358327,
     "user": {
      "displayName": "Elhadji Moustapha SECK",
      "photoUrl": "https://lh3.googleusercontent.com/a-/AOh14Gh5NxFlpdpvdX-LrlXwlabzlFmOqcoFB_h86YA5=s64",
      "userId": "13258444337705004773"
     },
     "user_tz": 420
    },
    "id": "9OrcfFji-eDE",
    "outputId": "8640b77a-1592-4a93-bda2-dfe26341f206"
   },
   "outputs": [
    {
     "data": {
      "text/plain": [
       "array([0, 0, 1, 1, 0, 0, 1, 1, 0, 1])"
      ]
     },
     "execution_count": 3,
     "metadata": {},
     "output_type": "execute_result"
    }
   ],
   "source": [
    "# p=0.5 i.e. fair coin\n",
    "bernoulli.rvs(p=0.5,size=10)"
   ]
  },
  {
   "cell_type": "code",
   "execution_count": 4,
   "metadata": {
    "ExecuteTime": {
     "end_time": "2020-07-02T07:27:51.156188Z",
     "start_time": "2020-07-02T07:27:51.028206Z"
    },
    "colab": {
     "base_uri": "https://localhost:8080/",
     "height": 34
    },
    "colab_type": "code",
    "executionInfo": {
     "elapsed": 1885,
     "status": "ok",
     "timestamp": 1593449358328,
     "user": {
      "displayName": "Elhadji Moustapha SECK",
      "photoUrl": "https://lh3.googleusercontent.com/a-/AOh14Gh5NxFlpdpvdX-LrlXwlabzlFmOqcoFB_h86YA5=s64",
      "userId": "13258444337705004773"
     },
     "user_tz": 420
    },
    "id": "pOkbwxMD-eDJ",
    "outputId": "789ff470-f2f2-49ad-9853-47c4d9b97b83"
   },
   "outputs": [
    {
     "data": {
      "text/plain": [
       "array([0, 0, 1, 0, 0, 0, 0, 0, 0, 0])"
      ]
     },
     "execution_count": 4,
     "metadata": {},
     "output_type": "execute_result"
    }
   ],
   "source": [
    "# p=0.2 i.e. more tails than heads\n",
    "bernoulli.rvs(p=0.2,size=10)"
   ]
  },
  {
   "cell_type": "code",
   "execution_count": 5,
   "metadata": {
    "ExecuteTime": {
     "end_time": "2020-07-02T07:27:51.268443Z",
     "start_time": "2020-07-02T07:27:51.160174Z"
    },
    "colab": {
     "base_uri": "https://localhost:8080/",
     "height": 34
    },
    "colab_type": "code",
    "executionInfo": {
     "elapsed": 1868,
     "status": "ok",
     "timestamp": 1593449358329,
     "user": {
      "displayName": "Elhadji Moustapha SECK",
      "photoUrl": "https://lh3.googleusercontent.com/a-/AOh14Gh5NxFlpdpvdX-LrlXwlabzlFmOqcoFB_h86YA5=s64",
      "userId": "13258444337705004773"
     },
     "user_tz": 420
    },
    "id": "n-0fCOe1-eDM",
    "outputId": "84c088c0-1484-49eb-c5c9-9b1ab3b4982a"
   },
   "outputs": [
    {
     "data": {
      "text/plain": [
       "array([1, 0, 1, 1, 1, 1, 1, 1, 0, 1])"
      ]
     },
     "execution_count": 5,
     "metadata": {},
     "output_type": "execute_result"
    }
   ],
   "source": [
    "# p=0.8 i.e. more heads than tails\n",
    "bernoulli.rvs(p=0.8,size=10)"
   ]
  },
  {
   "cell_type": "markdown",
   "metadata": {
    "colab_type": "text",
    "id": "dI54zC7P-eDP"
   },
   "source": [
    "#### Mean, variance, skew, and kurtosis"
   ]
  },
  {
   "cell_type": "code",
   "execution_count": 6,
   "metadata": {
    "ExecuteTime": {
     "end_time": "2020-07-02T07:27:51.640349Z",
     "start_time": "2020-07-02T07:27:51.268443Z"
    },
    "colab": {
     "base_uri": "https://localhost:8080/",
     "height": 238
    },
    "colab_type": "code",
    "executionInfo": {
     "elapsed": 1852,
     "status": "ok",
     "timestamp": 1593449358330,
     "user": {
      "displayName": "Elhadji Moustapha SECK",
      "photoUrl": "https://lh3.googleusercontent.com/a-/AOh14Gh5NxFlpdpvdX-LrlXwlabzlFmOqcoFB_h86YA5=s64",
      "userId": "13258444337705004773"
     },
     "user_tz": 420
    },
    "id": "E8hCgIcF-eDQ",
    "outputId": "ba7887b5-1310-432d-9559-9db6a2fe9654"
   },
   "outputs": [
    {
     "name": "stdout",
     "output_type": "stream",
     "text": [
      "A fair coin is spinning...\n",
      "------------------------------\n",
      "Mean: 0.5\n",
      "Variance: 0.25\n",
      "Skew: 0.0\n",
      "Kurtosis: -2.0\n",
      "\n",
      "Now a biased coin is spinning...\n",
      "-----------------------------------\n",
      "Mean: 0.7\n",
      "Variance: 0.21000000000000002\n",
      "Skew: -0.8728715609439686\n",
      "Kurtosis: -1.238095238095243\n"
     ]
    }
   ],
   "source": [
    "print(\"A fair coin is spinning...\\n\"+\"-\"*30)\n",
    "pr=0.5 # Fair coin toss probability\n",
    "mean, var, skew, kurt = bernoulli.stats(p=pr, moments='mvsk')\n",
    "print(\"Mean:\",mean)\n",
    "print(\"Variance:\",var)\n",
    "print(\"Skew:\",skew)\n",
    "print(\"Kurtosis:\",kurt)\n",
    "print(\"\\nNow a biased coin is spinning...\\n\"+\"-\"*35)\n",
    "pr=0.7 # Biased coin toss probability\n",
    "mean, var, skew, kurt = bernoulli.stats(p=pr, moments='mvsk')\n",
    "print(\"Mean:\",mean)\n",
    "print(\"Variance:\",var)\n",
    "print(\"Skew:\",skew)\n",
    "print(\"Kurtosis:\",kurt)"
   ]
  },
  {
   "cell_type": "markdown",
   "metadata": {
    "colab_type": "text",
    "id": "cxERfpoI-eDV"
   },
   "source": [
    "#### Standard deviation, mean, median"
   ]
  },
  {
   "cell_type": "code",
   "execution_count": 7,
   "metadata": {
    "ExecuteTime": {
     "end_time": "2020-07-02T07:27:51.656345Z",
     "start_time": "2020-07-02T07:27:51.644348Z"
    },
    "colab": {
     "base_uri": "https://localhost:8080/",
     "height": 119
    },
    "colab_type": "code",
    "executionInfo": {
     "elapsed": 1820,
     "status": "ok",
     "timestamp": 1593449358332,
     "user": {
      "displayName": "Elhadji Moustapha SECK",
      "photoUrl": "https://lh3.googleusercontent.com/a-/AOh14Gh5NxFlpdpvdX-LrlXwlabzlFmOqcoFB_h86YA5=s64",
      "userId": "13258444337705004773"
     },
     "user_tz": 420
    },
    "id": "w5omY72k-eDW",
    "outputId": "320dfc4e-dc1a-4d02-cf5e-bc54d36839f4"
   },
   "outputs": [
    {
     "name": "stdout",
     "output_type": "stream",
     "text": [
      "\n",
      "A biased coin with likelihood 0.3 is spinning...\n",
      "--------------------------------------------------\n",
      "Std. dev: 0.458257569495584\n",
      "Mean: 0.3\n",
      "Median: 0.0\n"
     ]
    }
   ],
   "source": [
    "print(\"\\nA biased coin with likelihood 0.3 is spinning...\\n\"+\"-\"*50)\n",
    "pr=0.3\n",
    "print(\"Std. dev:\",bernoulli.std(p=pr))\n",
    "print(\"Mean:\",bernoulli.mean(p=pr))\n",
    "print(\"Median:\",bernoulli.median(p=pr))"
   ]
  },
  {
   "cell_type": "markdown",
   "metadata": {
    "colab_type": "text",
    "id": "HTFpPL6j-eDb"
   },
   "source": [
    "## Binomial distribution\n",
    "\n",
    "The Binomial Distribution can instead be thought as the sum of outcomes of an event following a Bernoulli distribution. The Binomial Distribution is therefore used in binary outcome events and the probability of success and failure is the same in all the successive trials. This distribution takes two parameters as inputs: the number of times an event takes place and the probability assigned to one of the two classes.\n",
    "\n",
    "The binomial distribution is frequently used to model the number of successes in a sample of size n drawn with replacement from a population of size N. A simple example of a Binomial Distribution in action can be the toss of a biased/unbiased coin repeated a certain amount of times.\n",
    "\n",
    "In general, if the random variable $X$ follows the binomial distribution with parameters n ∈ ℕ and p ∈ [0,1], we write X ~ B(n, p). The probability of getting exactly $k$ successes in $n$ trials is given by the probability mass function:\n",
    "\n",
    "$${\\Pr(k;n,p)=\\Pr(X=k)={n \\choose k}p^{k}(1-p)^{n-k}}$$\n",
    "\n",
    "for k = 0, 1, 2, ..., n, where\n",
    "\n",
    "$${\\displaystyle {\\binom {n}{k}}={\\frac {n!}{k!(n-k)!}}}$$"
   ]
  },
  {
   "cell_type": "code",
   "execution_count": 8,
   "metadata": {
    "ExecuteTime": {
     "end_time": "2020-07-02T07:27:51.936276Z",
     "start_time": "2020-07-02T07:27:51.656345Z"
    },
    "colab": {},
    "colab_type": "code",
    "executionInfo": {
     "elapsed": 1808,
     "status": "ok",
     "timestamp": 1593449358336,
     "user": {
      "displayName": "Elhadji Moustapha SECK",
      "photoUrl": "https://lh3.googleusercontent.com/a-/AOh14Gh5NxFlpdpvdX-LrlXwlabzlFmOqcoFB_h86YA5=s64",
      "userId": "13258444337705004773"
     },
     "user_tz": 420
    },
    "id": "9ZVuISzD-eDb"
   },
   "outputs": [],
   "source": [
    "from scipy.stats import binom"
   ]
  },
  {
   "cell_type": "markdown",
   "metadata": {
    "colab_type": "text",
    "id": "ocFMSwl6-eDe"
   },
   "source": [
    "#### Generate random variates"
   ]
  },
  {
   "cell_type": "markdown",
   "metadata": {
    "colab_type": "text",
    "id": "6S3L-U7v-eDf"
   },
   "source": [
    "8 coins are flipped (or 1 coin is flipped 8 times), each with probability of success (1) of 0.25 This trial/experiment is repeated for 10 times"
   ]
  },
  {
   "cell_type": "code",
   "execution_count": 9,
   "metadata": {
    "ExecuteTime": {
     "end_time": "2020-07-02T07:27:52.028251Z",
     "start_time": "2020-07-02T07:27:51.944287Z"
    },
    "colab": {
     "base_uri": "https://localhost:8080/",
     "height": 51
    },
    "colab_type": "code",
    "executionInfo": {
     "elapsed": 1778,
     "status": "ok",
     "timestamp": 1593449358337,
     "user": {
      "displayName": "Elhadji Moustapha SECK",
      "photoUrl": "https://lh3.googleusercontent.com/a-/AOh14Gh5NxFlpdpvdX-LrlXwlabzlFmOqcoFB_h86YA5=s64",
      "userId": "13258444337705004773"
     },
     "user_tz": 420
    },
    "id": "SwsMeQiP-eDf",
    "outputId": "d2b4eaea-42c4-4a13-95e3-c8f164d152bc"
   },
   "outputs": [
    {
     "name": "stdout",
     "output_type": "stream",
     "text": [
      "Number of success for each trial: [1 3 2 1 0 1 2 1 3 1]\n",
      "Average of the success: 1.5\n"
     ]
    }
   ],
   "source": [
    "k=binom.rvs(8,0.25,size=10)\n",
    "print(\"Number of success for each trial:\",k)\n",
    "print(\"Average of the success:\", np.mean(k))"
   ]
  },
  {
   "cell_type": "code",
   "execution_count": 10,
   "metadata": {
    "ExecuteTime": {
     "end_time": "2020-07-02T07:27:53.600486Z",
     "start_time": "2020-07-02T07:27:52.028251Z"
    },
    "colab": {
     "base_uri": "https://localhost:8080/",
     "height": 265
    },
    "colab_type": "code",
    "executionInfo": {
     "elapsed": 1739,
     "status": "ok",
     "timestamp": 1593449358339,
     "user": {
      "displayName": "Elhadji Moustapha SECK",
      "photoUrl": "https://lh3.googleusercontent.com/a-/AOh14Gh5NxFlpdpvdX-LrlXwlabzlFmOqcoFB_h86YA5=s64",
      "userId": "13258444337705004773"
     },
     "user_tz": 420
    },
    "id": "AyWkDx9q-eDi",
    "outputId": "599dd21a-5e99-4ec4-a59c-80ecb20c9232"
   },
   "outputs": [
    {
     "name": "stderr",
     "output_type": "stream",
     "text": [
      "C:\\Users\\OWNER\\Anaconda3\\lib\\site-packages\\scipy\\stats\\stats.py:1713: FutureWarning: Using a non-tuple sequence for multidimensional indexing is deprecated; use `arr[tuple(seq)]` instead of `arr[seq]`. In the future this will be interpreted as an array index, `arr[np.array(seq)]`, which will result either in an error or a different result.\n",
      "  return np.add.reduce(sorted[indexer] * weights, axis=axis) / sumval\n"
     ]
    },
    {
     "data": {
      "image/png": "[encoded data removed]",
      "text/plain": [
       "<Figure size 432x288 with 1 Axes>"
      ]
     },
     "metadata": {
      "needs_background": "light"
     },
     "output_type": "display_data"
    }
   ],
   "source": [
    "sns.distplot(binom.rvs(n=10, p=0.5, size=1000), hist=True, kde=False)\n",
    "\n",
    "plt.show()"
   ]
  },
  {
   "cell_type": "code",
   "execution_count": 11,
   "metadata": {
    "ExecuteTime": {
     "end_time": "2020-07-02T07:27:53.620480Z",
     "start_time": "2020-07-02T07:27:53.604499Z"
    },
    "colab": {
     "base_uri": "https://localhost:8080/",
     "height": 238
    },
    "colab_type": "code",
    "executionInfo": {
     "elapsed": 1703,
     "status": "ok",
     "timestamp": 1593449358339,
     "user": {
      "displayName": "Elhadji Moustapha SECK",
      "photoUrl": "https://lh3.googleusercontent.com/a-/AOh14Gh5NxFlpdpvdX-LrlXwlabzlFmOqcoFB_h86YA5=s64",
      "userId": "13258444337705004773"
     },
     "user_tz": 420
    },
    "id": "FBwswzeK-eDm",
    "outputId": "d889848b-4dbb-478b-f9a2-f4ac84dd6eea"
   },
   "outputs": [
    {
     "name": "stdout",
     "output_type": "stream",
     "text": [
      "A fair coin is spinning 5 times\n",
      "-----------------------------------\n",
      "Mean: 2.5\n",
      "Variance: 1.25\n",
      "Skew: 0.0\n",
      "Kurtosis: -0.4\n",
      "\n",
      "Now a biased coin is spinning 5 times...\n",
      "---------------------------------------------\n",
      "Mean: 3.5\n",
      "Variance: 1.0500000000000003\n",
      "Skew: -0.39036002917941315\n",
      "Kurtosis: -0.24761904761904757\n"
     ]
    }
   ],
   "source": [
    "print(\"A fair coin is spinning 5 times\\n\"+\"-\"*35)\n",
    "pr=0.5 # Fair coin toss probability\n",
    "n=5\n",
    "mean, var, skew, kurt = binom.stats(n=n,p=pr, moments='mvsk')\n",
    "print(\"Mean:\",mean)\n",
    "print(\"Variance:\",var)\n",
    "print(\"Skew:\",skew)\n",
    "print(\"Kurtosis:\",kurt)\n",
    "print(\"\\nNow a biased coin is spinning 5 times...\\n\"+\"-\"*45)\n",
    "pr=0.7 # Biased coin toss probability\n",
    "n=5\n",
    "mean, var, skew, kurt = binom.stats(n=n,p=pr, moments='mvsk')\n",
    "print(\"Mean:\",mean)\n",
    "print(\"Variance:\",var)\n",
    "print(\"Skew:\",skew)\n",
    "print(\"Kurtosis:\",kurt)"
   ]
  },
  {
   "cell_type": "markdown",
   "metadata": {
    "colab_type": "text",
    "id": "Cvz1FLhd-eDp"
   },
   "source": [
    "#### Standard deviation, mean, median"
   ]
  },
  {
   "cell_type": "code",
   "execution_count": 12,
   "metadata": {
    "ExecuteTime": {
     "end_time": "2020-07-02T07:27:53.708458Z",
     "start_time": "2020-07-02T07:27:53.620480Z"
    },
    "colab": {
     "base_uri": "https://localhost:8080/",
     "height": 119
    },
    "colab_type": "code",
    "executionInfo": {
     "elapsed": 1665,
     "status": "ok",
     "timestamp": 1593449358340,
     "user": {
      "displayName": "Elhadji Moustapha SECK",
      "photoUrl": "https://lh3.googleusercontent.com/a-/AOh14Gh5NxFlpdpvdX-LrlXwlabzlFmOqcoFB_h86YA5=s64",
      "userId": "13258444337705004773"
     },
     "user_tz": 420
    },
    "id": "s5k-TUlT-eDp",
    "outputId": "76501c76-1893-4dc2-d46b-92078b34db14"
   },
   "outputs": [
    {
     "name": "stdout",
     "output_type": "stream",
     "text": [
      "\n",
      "5 biased coins with likelihood 0.7 are spinning...\n",
      "--------------------------------------------------\n",
      "Std. dev: 1.02469507659596\n",
      "Mean: 3.5\n",
      "Median: 4.0\n"
     ]
    }
   ],
   "source": [
    "n=5\n",
    "pr=0.7\n",
    "print(\"\\n{} biased coins with likelihood {} are spinning...\\n\".format(n,pr)+\"-\"*50)\n",
    "print(\"Std. dev:\",binom.std(n=n,p=pr))\n",
    "print(\"Mean:\",binom.mean(n=n,p=pr))\n",
    "print(\"Median:\",binom.median(n=n,p=pr))"
   ]
  },
  {
   "cell_type": "markdown",
   "metadata": {
    "colab_type": "text",
    "id": "BmUHUI6w-eDs"
   },
   "source": [
    "#### Visualize the probability mass function (pmf)"
   ]
  },
  {
   "cell_type": "code",
   "execution_count": 13,
   "metadata": {
    "ExecuteTime": {
     "end_time": "2020-07-02T07:27:54.836542Z",
     "start_time": "2020-07-02T07:27:53.708458Z"
    },
    "colab": {
     "base_uri": "https://localhost:8080/",
     "height": 457
    },
    "colab_type": "code",
    "executionInfo": {
     "elapsed": 2619,
     "status": "ok",
     "timestamp": 1593449359328,
     "user": {
      "displayName": "Elhadji Moustapha SECK",
      "photoUrl": "https://lh3.googleusercontent.com/a-/AOh14Gh5NxFlpdpvdX-LrlXwlabzlFmOqcoFB_h86YA5=s64",
      "userId": "13258444337705004773"
     },
     "user_tz": 420
    },
    "id": "EbN-o6k3-eDt",
    "outputId": "d3c56689-86ce-4893-ab5a-08aaf119f376"
   },
   "outputs": [
    {
     "data": {
      "image/png": "[encoded data removed]",
      "text/plain": [
       "<Figure size 864x432 with 1 Axes>"
      ]
     },
     "metadata": {
      "needs_background": "light"
     },
     "output_type": "display_data"
    }
   ],
   "source": [
    "n=40\n",
    "pr=0.5\n",
    "rv = binom(n,pr)\n",
    "x=np.arange(0,41,1)\n",
    "pmf1 = rv.pmf(x)\n",
    "\n",
    "n=40\n",
    "pr=0.15\n",
    "rv = binom(n,pr)\n",
    "x=np.arange(0,41,1)\n",
    "pmf2 = rv.pmf(x)\n",
    "\n",
    "n=50\n",
    "pr=0.6\n",
    "rv = binom(n,pr)\n",
    "x=np.arange(0,41,1)\n",
    "pmf3 = rv.pmf(x)\n",
    "\n",
    "plt.figure(figsize=(12,6))\n",
    "plt.title(\"Probability mass function: $\\\\binom{n}{k}\\, p^k (1-p)^{n-k}$\\n\",fontsize=20)\n",
    "plt.scatter(x,pmf1)\n",
    "plt.scatter(x,pmf2)\n",
    "plt.scatter(x,pmf3,c='k')\n",
    "plt.legend([\"$n=40, p=0.5$\",\"$n=40, p=0.3$\",\"$n=50, p=0.6$\"],fontsize=15)\n",
    "plt.xlabel(\"Number of successful trials ($k$)\",fontsize=15)\n",
    "plt.ylabel(\"Probability of success\",fontsize=15)\n",
    "plt.xticks(fontsize=15)\n",
    "plt.yticks(fontsize=15)\n",
    "plt.grid(True)\n",
    "plt.show()"
   ]
  },
  {
   "cell_type": "markdown",
   "metadata": {
    "colab_type": "text",
    "id": "R3lYe8ow-eDw"
   },
   "source": [
    "## Poisson Distribution\n",
    "\n",
    "The Poisson distribution, is a discrete probability distribution that expresses  the probability that an event might happen or not knowing how often it usually occurs.\n",
    "\n",
    "Poisson Distributions are for example frequently used by insurance companies to conduct risk analysis (eg. predict the number of car crash accidents within a predefined time span) to decide car insurance pricing.\n",
    "\n",
    "Other examples that may follow a Poisson include\n",
    "\n",
    "* number of phone calls received by a call center per hour \n",
    "* The number of patients arriving in an emergency room between 10 and 11 pm"
   ]
  },
  {
   "cell_type": "code",
   "execution_count": 14,
   "metadata": {
    "ExecuteTime": {
     "end_time": "2020-07-02T07:27:54.844537Z",
     "start_time": "2020-07-02T07:27:54.836542Z"
    },
    "colab": {},
    "colab_type": "code",
    "executionInfo": {
     "elapsed": 2616,
     "status": "ok",
     "timestamp": 1593449359330,
     "user": {
      "displayName": "Elhadji Moustapha SECK",
      "photoUrl": "https://lh3.googleusercontent.com/a-/AOh14Gh5NxFlpdpvdX-LrlXwlabzlFmOqcoFB_h86YA5=s64",
      "userId": "13258444337705004773"
     },
     "user_tz": 420
    },
    "id": "f3D6_OBM-eDw"
   },
   "outputs": [],
   "source": [
    "from scipy.stats import poisson"
   ]
  },
  {
   "cell_type": "markdown",
   "metadata": {
    "colab_type": "text",
    "id": "7PNIiyJm-eDz"
   },
   "source": [
    "#### Display probability mass function (pmf)\n",
    "\n",
    "An event can occur 0, 1, 2, … times in an interval. The average number of events in an interval is designated $\\lambda$. This is the event rate, also called the rate parameter. The probability of observing k events in an interval is given by the equation\n",
    "\n",
    "${\\displaystyle P(k{\\text{ events in interval}})=e^{-\\lambda }{\\frac {\\lambda ^{k}}{k!}}}$\n",
    "\n",
    "where,\n",
    "\n",
    "${\\lambda}$ is the average number of events per interval\n",
    "\n",
    "e is the number 2.71828... (Euler's number) the base of the natural logarithms\n",
    "\n",
    "k takes values 0, 1, 2, …\n",
    "k! = k × (k − 1) × (k − 2) × … × 2 × 1 is the factorial of k."
   ]
  },
  {
   "cell_type": "markdown",
   "metadata": {
    "colab_type": "text",
    "id": "Co2gJ8QV-eD0"
   },
   "source": [
    "#### Generate random variates"
   ]
  },
  {
   "cell_type": "code",
   "execution_count": 15,
   "metadata": {
    "ExecuteTime": {
     "end_time": "2020-07-02T07:27:54.948512Z",
     "start_time": "2020-07-02T07:27:54.844537Z"
    },
    "colab": {
     "base_uri": "https://localhost:8080/",
     "height": 51
    },
    "colab_type": "code",
    "executionInfo": {
     "elapsed": 2596,
     "status": "ok",
     "timestamp": 1593449359334,
     "user": {
      "displayName": "Elhadji Moustapha SECK",
      "photoUrl": "https://lh3.googleusercontent.com/a-/AOh14Gh5NxFlpdpvdX-LrlXwlabzlFmOqcoFB_h86YA5=s64",
      "userId": "13258444337705004773"
     },
     "user_tz": 420
    },
    "id": "_HNy0zFF-eD1",
    "outputId": "59d236f0-c20c-4f42-9efd-bdd937d130f1"
   },
   "outputs": [
    {
     "name": "stdout",
     "output_type": "stream",
     "text": [
      "Random variates with lambda=5: [ 8  4  3  6  3  9  2  2  3 12  1  7  5  5  3  5  4  3  0  5]\n",
      "Random variates with lambda=0.5: [0 0 0 0 1 1 1 0 1 0 1 1 1 0 1 0 0 0 0 0]\n"
     ]
    }
   ],
   "source": [
    "la=5\n",
    "r = poisson.rvs(mu=la, size=20)\n",
    "print(\"Random variates with lambda={}: {}\".format(la,r))\n",
    "\n",
    "la=0.5\n",
    "r = poisson.rvs(mu=la, size=20)\n",
    "print(\"Random variates with lambda={}: {}\".format(la,r))"
   ]
  },
  {
   "cell_type": "code",
   "execution_count": 16,
   "metadata": {
    "ExecuteTime": {
     "end_time": "2020-07-02T07:27:55.252752Z",
     "start_time": "2020-07-02T07:27:54.948512Z"
    },
    "colab": {
     "base_uri": "https://localhost:8080/",
     "height": 265
    },
    "colab_type": "code",
    "executionInfo": {
     "elapsed": 2563,
     "status": "ok",
     "timestamp": 1593449359336,
     "user": {
      "displayName": "Elhadji Moustapha SECK",
      "photoUrl": "https://lh3.googleusercontent.com/a-/AOh14Gh5NxFlpdpvdX-LrlXwlabzlFmOqcoFB_h86YA5=s64",
      "userId": "13258444337705004773"
     },
     "user_tz": 420
    },
    "id": "aK4y8_DD-eD7",
    "outputId": "b1baa37f-7a23-4774-a0a9-8303e0743b65"
   },
   "outputs": [
    {
     "data": {
      "image/png": "[encoded data removed]",
      "text/plain": [
       "<Figure size 432x288 with 1 Axes>"
      ]
     },
     "metadata": {
      "needs_background": "light"
     },
     "output_type": "display_data"
    }
   ],
   "source": [
    "data_poisson = poisson.rvs(mu=3, size=10000)\n",
    "\n",
    "sns.distplot(data_poisson, kde=False)\n",
    "\n",
    "plt.show()"
   ]
  },
  {
   "cell_type": "code",
   "execution_count": 17,
   "metadata": {
    "ExecuteTime": {
     "end_time": "2020-07-02T07:27:55.268736Z",
     "start_time": "2020-07-02T07:27:55.252752Z"
    },
    "colab": {
     "base_uri": "https://localhost:8080/",
     "height": 238
    },
    "colab_type": "code",
    "executionInfo": {
     "elapsed": 2546,
     "status": "ok",
     "timestamp": 1593449359337,
     "user": {
      "displayName": "Elhadji Moustapha SECK",
      "photoUrl": "https://lh3.googleusercontent.com/a-/AOh14Gh5NxFlpdpvdX-LrlXwlabzlFmOqcoFB_h86YA5=s64",
      "userId": "13258444337705004773"
     },
     "user_tz": 420
    },
    "id": "i-sKHmmi-eD-",
    "outputId": "07c2d0e6-5992-479d-b165-fe444363f648"
   },
   "outputs": [
    {
     "name": "stdout",
     "output_type": "stream",
     "text": [
      "For small lambda\n",
      "-------------------------\n",
      "Mean: 0.5\n",
      "Variance: 0.5\n",
      "Skew: 1.4142135623730951\n",
      "Kurtosis: 2.0\n",
      "\n",
      "Now for large lambda\n",
      "------------------------------\n",
      "Mean: 5.0\n",
      "Variance: 5.0\n",
      "Skew: 0.4472135954999579\n",
      "Kurtosis: 0.2\n"
     ]
    }
   ],
   "source": [
    "print(\"For small lambda\\n\"+\"-\"*25)\n",
    "la=0.5\n",
    "mean, var, skew, kurt = poisson.stats(mu=la, moments='mvsk')\n",
    "print(\"Mean:\",mean)\n",
    "print(\"Variance:\",var)\n",
    "print(\"Skew:\",skew)\n",
    "print(\"Kurtosis:\",kurt)\n",
    "print(\"\\nNow for large lambda\\n\"+\"-\"*30)\n",
    "la=5\n",
    "mean, var, skew, kurt = poisson.stats(mu=la, moments='mvsk')\n",
    "print(\"Mean:\",mean)\n",
    "print(\"Variance:\",var)\n",
    "print(\"Skew:\",skew)\n",
    "print(\"Kurtosis:\",kurt)"
   ]
  },
  {
   "cell_type": "markdown",
   "metadata": {
    "colab_type": "text",
    "id": "anPSLxTY-eEC"
   },
   "source": [
    "#### Standard deviation, mean, median"
   ]
  },
  {
   "cell_type": "code",
   "execution_count": 18,
   "metadata": {
    "ExecuteTime": {
     "end_time": "2020-07-02T07:27:55.392717Z",
     "start_time": "2020-07-02T07:27:55.284731Z"
    },
    "colab": {
     "base_uri": "https://localhost:8080/",
     "height": 102
    },
    "colab_type": "code",
    "executionInfo": {
     "elapsed": 2521,
     "status": "ok",
     "timestamp": 1593449359338,
     "user": {
      "displayName": "Elhadji Moustapha SECK",
      "photoUrl": "https://lh3.googleusercontent.com/a-/AOh14Gh5NxFlpdpvdX-LrlXwlabzlFmOqcoFB_h86YA5=s64",
      "userId": "13258444337705004773"
     },
     "user_tz": 420
    },
    "id": "nHRDAICL-eEC",
    "outputId": "6a9463d2-7d18-4b8f-fb04-2c7c6c2d861d"
   },
   "outputs": [
    {
     "name": "stdout",
     "output_type": "stream",
     "text": [
      "For lambda = 5\n",
      "-------------------------\n",
      "Std. dev: 2.23606797749979\n",
      "Mean: 5.0\n",
      "Median: 5.0\n"
     ]
    }
   ],
   "source": [
    "la=5\n",
    "print(\"For lambda = {}\\n-------------------------\".format(la))\n",
    "print(\"Std. dev:\",poisson.std(mu=la))\n",
    "print(\"Mean:\",poisson.mean(mu=la))\n",
    "print(\"Median:\",poisson.median(mu=la))"
   ]
  },
  {
   "cell_type": "markdown",
   "metadata": {
    "colab_type": "text",
    "id": "S2FIxEZF-eEF"
   },
   "source": [
    "#### For the complete list of functions and methods please [see this link](https://docs.scipy.org/doc/scipy/reference/generated/scipy.stats.poisson.html#scipy.stats.poisson)."
   ]
  },
  {
   "cell_type": "markdown",
   "metadata": {
    "colab_type": "text",
    "collapsed": true,
    "id": "J4knUNse-eEG"
   },
   "source": [
    "## Normal (Gaussian) distribution\n",
    "\n",
    "In probability theory, the normal (or Gaussian or Gauss or Laplace–Gauss) distribution is a very common continuous probability distribution. Normal distributions are important in statistics and are often used in the natural and social sciences to represent real-valued random variables whose distributions are not known. A random variable with a Gaussian distribution is said to be normally distributed and is called a normal deviate.\n",
    "\n",
    "The normal distribution is useful because of the **[central limit theorem](https://en.wikipedia.org/wiki/Central_limit_theorem)**. In its most general form, under some conditions (which include finite variance), it states that **averages of samples of observations of random variables independently drawn from independent distributions converge in distribution to the normal**, that is, they become normally distributed when the number of observations is sufficiently large. \n",
    "\n",
    "Physical quantities that are expected to be the sum of many independent processes (such as measurement errors) often have distributions that are nearly normal. Moreover, many results and methods (such as propagation of uncertainty and least squares parameter fitting) can be derived analytically in explicit form when the relevant variables are normally distributed.\n",
    "\n",
    "### PDF\n",
    "\n",
    "The probability density function (PDF) is given by,\n",
    "$$ f(x\\mid \\mu ,\\sigma ^{2})={\\frac {1}{\\sqrt {2\\pi \\sigma ^{2}}}}e^{-{\\frac {(x-\\mu )^{2}}{2\\sigma ^{2}}}} $$\n",
    "where,\n",
    "- $\\mu$ is the mean or expectation of the distribution (and also its median and mode),\n",
    "- $\\sigma$ is the standard deviation, and $\\sigma^2$ is the variance."
   ]
  },
  {
   "cell_type": "code",
   "execution_count": 19,
   "metadata": {
    "ExecuteTime": {
     "end_time": "2020-07-02T07:27:55.488691Z",
     "start_time": "2020-07-02T07:27:55.392717Z"
    },
    "colab": {},
    "colab_type": "code",
    "executionInfo": {
     "elapsed": 2516,
     "status": "ok",
     "timestamp": 1593449359339,
     "user": {
      "displayName": "Elhadji Moustapha SECK",
      "photoUrl": "https://lh3.googleusercontent.com/a-/AOh14Gh5NxFlpdpvdX-LrlXwlabzlFmOqcoFB_h86YA5=s64",
      "userId": "13258444337705004773"
     },
     "user_tz": 420
    },
    "id": "9gi2n1If-eEH"
   },
   "outputs": [],
   "source": [
    "from scipy.stats import norm"
   ]
  },
  {
   "cell_type": "code",
   "execution_count": 20,
   "metadata": {
    "ExecuteTime": {
     "end_time": "2020-07-02T07:27:55.840603Z",
     "start_time": "2020-07-02T07:27:55.488691Z"
    },
    "colab": {
     "base_uri": "https://localhost:8080/",
     "height": 358
    },
    "colab_type": "code",
    "executionInfo": {
     "elapsed": 3757,
     "status": "ok",
     "timestamp": 1593449360610,
     "user": {
      "displayName": "Elhadji Moustapha SECK",
      "photoUrl": "https://lh3.googleusercontent.com/a-/AOh14Gh5NxFlpdpvdX-LrlXwlabzlFmOqcoFB_h86YA5=s64",
      "userId": "13258444337705004773"
     },
     "user_tz": 420
    },
    "id": "W8pC6MDT-eEM",
    "outputId": "4fa73ab9-ecf8-4293-b166-efa0c7ddc98c"
   },
   "outputs": [
    {
     "data": {
      "text/plain": [
       "Text(0, 0.5, 'Probability Density')"
      ]
     },
     "execution_count": 20,
     "metadata": {},
     "output_type": "execute_result"
    },
    {
     "data": {
      "image/png": "[encoded data removed]",
      "text/plain": [
       "<Figure size 720x360 with 1 Axes>"
      ]
     },
     "metadata": {
      "needs_background": "light"
     },
     "output_type": "display_data"
    }
   ],
   "source": [
    "x = np.linspace(-3, 3, num = 100)\n",
    "constant = 1.0 / np.sqrt(2*np.pi)\n",
    "pdf_normal_distribution = constant * np.exp((-x**2) / 2.0)\n",
    "\n",
    "fig, ax = plt.subplots(figsize=(10, 5));\n",
    "ax.plot(x, pdf_normal_distribution);\n",
    "ax.set_ylim(0);\n",
    "ax.set_title('Normal Distribution', size = 20);\n",
    "ax.set_ylabel('Probability Density', size = 20)"
   ]
  },
  {
   "cell_type": "code",
   "execution_count": 21,
   "metadata": {
    "ExecuteTime": {
     "end_time": "2020-07-02T07:27:56.300779Z",
     "start_time": "2020-07-02T07:27:55.840603Z"
    },
    "colab": {
     "base_uri": "https://localhost:8080/",
     "height": 265
    },
    "colab_type": "code",
    "executionInfo": {
     "elapsed": 3714,
     "status": "ok",
     "timestamp": 1593449360612,
     "user": {
      "displayName": "Elhadji Moustapha SECK",
      "photoUrl": "https://lh3.googleusercontent.com/a-/AOh14Gh5NxFlpdpvdX-LrlXwlabzlFmOqcoFB_h86YA5=s64",
      "userId": "13258444337705004773"
     },
     "user_tz": 420
    },
    "id": "NqDw_Ps2-eEO",
    "outputId": "5bf53cec-b820-4d89-fa23-65e1d5212add"
   },
   "outputs": [
    {
     "data": {
      "image/png": "[encoded data removed]",
      "text/plain": [
       "<Figure size 432x288 with 1 Axes>"
      ]
     },
     "metadata": {
      "needs_background": "light"
     },
     "output_type": "display_data"
    }
   ],
   "source": [
    "sns.distplot(random.normal(size=1000), hist=False)\n",
    "\n",
    "plt.show()"
   ]
  },
  {
   "cell_type": "code",
   "execution_count": 22,
   "metadata": {
    "ExecuteTime": {
     "end_time": "2020-07-02T07:27:56.336782Z",
     "start_time": "2020-07-02T07:27:56.300779Z"
    },
    "colab": {},
    "colab_type": "code",
    "executionInfo": {
     "elapsed": 3706,
     "status": "ok",
     "timestamp": 1593449360613,
     "user": {
      "displayName": "Elhadji Moustapha SECK",
      "photoUrl": "https://lh3.googleusercontent.com/a-/AOh14Gh5NxFlpdpvdX-LrlXwlabzlFmOqcoFB_h86YA5=s64",
      "userId": "13258444337705004773"
     },
     "user_tz": 420
    },
    "id": "ORt5ivYb-eES"
   },
   "outputs": [],
   "source": [
    "a1 = np.random.normal(loc=0,scale=np.sqrt(0.2),size=100000)\n",
    "a2 = np.random.normal(loc=0,scale=1.0,size=100000)\n",
    "a3 = np.random.normal(loc=0,scale=np.sqrt(5),size=100000)\n",
    "a4 = np.random.normal(loc=-2,scale=np.sqrt(0.5),size=100000)"
   ]
  },
  {
   "cell_type": "code",
   "execution_count": 23,
   "metadata": {
    "ExecuteTime": {
     "end_time": "2020-07-02T07:27:57.484806Z",
     "start_time": "2020-07-02T07:27:56.336782Z"
    },
    "colab": {
     "base_uri": "https://localhost:8080/",
     "height": 320
    },
    "colab_type": "code",
    "executionInfo": {
     "elapsed": 4880,
     "status": "ok",
     "timestamp": 1593449361817,
     "user": {
      "displayName": "Elhadji Moustapha SECK",
      "photoUrl": "https://lh3.googleusercontent.com/a-/AOh14Gh5NxFlpdpvdX-LrlXwlabzlFmOqcoFB_h86YA5=s64",
      "userId": "13258444337705004773"
     },
     "user_tz": 420
    },
    "id": "PBbEegi9-eEW",
    "outputId": "37d86010-60c0-4c65-b302-bf524def7485"
   },
   "outputs": [
    {
     "data": {
      "image/png": "[encoded data removed]",
      "text/plain": [
       "<Figure size 576x360 with 1 Axes>"
      ]
     },
     "metadata": {
      "needs_background": "light"
     },
     "output_type": "display_data"
    }
   ],
   "source": [
    "plt.figure(figsize=(8,5))\n",
    "plt.hist(a1,density=True,bins=100,color='blue',alpha=0.5)\n",
    "plt.hist(a2,density=True,bins=100,color='red',alpha=0.5)\n",
    "plt.hist(a3,density=True,bins=100,color='orange',alpha=0.5)\n",
    "plt.hist(a4,density=True,bins=100,color='green',alpha=0.5)\n",
    "plt.xlim(-7,7)\n",
    "plt.show()"
   ]
  },
  {
   "cell_type": "markdown",
   "metadata": {
    "colab_type": "text",
    "id": "5FE2qWWk-eEa"
   },
   "source": [
    "## References\n",
    "\n",
    "https://www.w3schools.com/python/numpy_random_normal.asp\n",
    "\n",
    "https://towardsdatascience.com/probability-distributions-in-data-science-cce6e64873a7\n",
    "\n",
    "https://statisticsbyjim.com/basics/probabilitydistributions/#:~:text=A%20probability%20distribution%20is%20a,on%20the%20underlying%20probability%20distribution.\n",
    "\n",
    "https://bolt.mph.ufl.edu/6050-6052/unit-3b/binomial-random-variables/"
   ]
  },
  {
   "cell_type": "code",
   "execution_count": null,
   "metadata": {
    "colab": {},
    "colab_type": "code",
    "executionInfo": {
     "elapsed": 4872,
     "status": "ok",
     "timestamp": 1593449361819,
     "user": {
      "displayName": "Elhadji Moustapha SECK",
      "photoUrl": "https://lh3.googleusercontent.com/a-/AOh14Gh5NxFlpdpvdX-LrlXwlabzlFmOqcoFB_h86YA5=s64",
      "userId": "13258444337705004773"
     },
     "user_tz": 420
    },
    "id": "oFk9kBY3-eEa"
   },
   "outputs": [],
   "source": []
  }
 ],
 "metadata": {
  "colab": {
   "name": "Distributions_Tutorial1.ipynb",
   "provenance": []
  },
  "kernelspec": {
   "display_name": "Python 3",
   "language": "python",
   "name": "python3"
  },
  "language_info": {
   "codemirror_mode": {
    "name": "ipython",
    "version": 3
   },
   "file_extension": ".py",
   "mimetype": "text/x-python",
   "name": "python",
   "nbconvert_exporter": "python",
   "pygments_lexer": "ipython3",
   "version": "3.7.1"
  }
 },
 "nbformat": 4,
 "nbformat_minor": 1
}
