{
 "cells": [
  {
   "cell_type": "markdown",
   "metadata": {},
   "source": [
    "**Email:** Lawal1998@yahoo.com  <br />\n",
    "**ID:** 726832020"
   ]
  },
  {
   "cell_type": "markdown",
   "metadata": {},
   "source": [
    "# User Analytics in Telecommunication Industry\n",
    "\n",
    "In this project, as the lead Data Scientist for Mr. Gates Venture Capitalist Enterprise, I would be during an indepth analysis of the financial records of a company, TellCo, my boss has his eyes on. The overall objective is to make a recommendation as to whether it is profitable to invest in the company or not. To do this, I will be using a four-thronged inquiry approach, which are:\n",
    " * Understanding the user overview analysis\n",
    " * User engagement analysis\n",
    " * User experience analysis\n",
    " * User satisfaction analysis\n",
    "I will do this analysis sequentially any my dataset can be found [here](https://drive.google.com/file/d/1OanjZw9oVT6n73q-ZyU0CJn6SGYBuZhp/view?usp=sharing) and the column meaning is stored [here](https://docs.google.com/spreadsheets/d/1_SZmLrmE7CodG52bkNlExLgrlXuH2TJ8Pb7zC0tpDYE/edit#gid=784155610)\n"
   ]
  },
  {
   "cell_type": "code",
   "execution_count": 1,
   "metadata": {
    "ExecuteTime": {
     "end_time": "2020-07-27T22:13:22.193100Z",
     "start_time": "2020-07-27T22:13:08.632290Z"
    }
   },
   "outputs": [],
   "source": [
    "#importing libraries\n",
    "\n",
    "import numpy as np\n",
    "import pandas as pd\n",
    "import seaborn as sns\n",
    "import matplotlib.pyplot as plt\n",
    "from statistics import *\n",
    "from tabulate import tabulate"
   ]
  },
  {
   "cell_type": "markdown",
   "metadata": {},
   "source": [
    "## User Overview Analysis\n",
    "\n",
    "In this section, I will be seeking to understand the dataset, identify the missing values & outliers if any using visual and quantitative methods to get a sense of the story it tells. It suggests the next logical steps, questions, or areas of research for this project."
   ]
  },
  {
   "cell_type": "code",
   "execution_count": 2,
   "metadata": {
    "ExecuteTime": {
     "end_time": "2020-07-27T22:16:19.250764Z",
     "start_time": "2020-07-27T22:13:22.196098Z"
    }
   },
   "outputs": [],
   "source": [
    "#reading in the dataset\n",
    "\n",
    "df = pd.read_excel('Week2_challenge_data_source.xlsx')"
   ]
  },
  {
   "cell_type": "code",
   "execution_count": 3,
   "metadata": {
    "ExecuteTime": {
     "end_time": "2020-07-27T22:16:19.493107Z",
     "start_time": "2020-07-27T22:16:19.255766Z"
    }
   },
   "outputs": [
    {
     "data": {
      "text/html": [
       "<div>\n",
       "<style scoped>\n",
       "    .dataframe tbody tr th:only-of-type {\n",
       "        vertical-align: middle;\n",
       "    }\n",
       "\n",
       "    .dataframe tbody tr th {\n",
       "        vertical-align: top;\n",
       "    }\n",
       "\n",
       "    .dataframe thead th {\n",
       "        text-align: right;\n",
       "    }\n",
       "</style>\n",
       "<table border=\"1\" class=\"dataframe\">\n",
       "  <thead>\n",
       "    <tr style=\"text-align: right;\">\n",
       "      <th></th>\n",
       "      <th>Bearer Id</th>\n",
       "      <th>Start</th>\n",
       "      <th>Start ms</th>\n",
       "      <th>End</th>\n",
       "      <th>End ms</th>\n",
       "      <th>Dur. (ms)</th>\n",
       "      <th>IMSI</th>\n",
       "      <th>MSISDN/Number</th>\n",
       "      <th>IMEI</th>\n",
       "      <th>Last Location Name</th>\n",
       "      <th>...</th>\n",
       "      <th>Youtube DL (Bytes)</th>\n",
       "      <th>Youtube UL (Bytes)</th>\n",
       "      <th>Netflix DL (Bytes)</th>\n",
       "      <th>Netflix UL (Bytes)</th>\n",
       "      <th>Gaming DL (Bytes)</th>\n",
       "      <th>Gaming UL (Bytes)</th>\n",
       "      <th>Other DL (Bytes)</th>\n",
       "      <th>Other UL (Bytes)</th>\n",
       "      <th>Total UL (Bytes)</th>\n",
       "      <th>Total DL (Bytes)</th>\n",
       "    </tr>\n",
       "  </thead>\n",
       "  <tbody>\n",
       "    <tr>\n",
       "      <th>0</th>\n",
       "      <td>13114483460844900352</td>\n",
       "      <td>2019-04-04 12:01:18</td>\n",
       "      <td>770.0</td>\n",
       "      <td>2019-04-25 14:35:31</td>\n",
       "      <td>662.0</td>\n",
       "      <td>1823652.0</td>\n",
       "      <td>2.082014e+14</td>\n",
       "      <td>3.366496e+10</td>\n",
       "      <td>3.552121e+13</td>\n",
       "      <td>9164566995485190</td>\n",
       "      <td>...</td>\n",
       "      <td>15854611.0</td>\n",
       "      <td>2501332.0</td>\n",
       "      <td>8198936.0</td>\n",
       "      <td>9656251.0</td>\n",
       "      <td>278082303.0</td>\n",
       "      <td>14344150.0</td>\n",
       "      <td>171744450.0</td>\n",
       "      <td>8814393.0</td>\n",
       "      <td>36749741.0</td>\n",
       "      <td>308879636.0</td>\n",
       "    </tr>\n",
       "    <tr>\n",
       "      <th>1</th>\n",
       "      <td>13114483482878900224</td>\n",
       "      <td>2019-04-09 13:04:04</td>\n",
       "      <td>235.0</td>\n",
       "      <td>2019-04-25 08:15:48</td>\n",
       "      <td>606.0</td>\n",
       "      <td>1365104.0</td>\n",
       "      <td>2.082019e+14</td>\n",
       "      <td>3.368185e+10</td>\n",
       "      <td>3.579401e+13</td>\n",
       "      <td>L77566A</td>\n",
       "      <td>...</td>\n",
       "      <td>20247395.0</td>\n",
       "      <td>19111729.0</td>\n",
       "      <td>18338413.0</td>\n",
       "      <td>17227132.0</td>\n",
       "      <td>608750074.0</td>\n",
       "      <td>1170709.0</td>\n",
       "      <td>526904238.0</td>\n",
       "      <td>15055145.0</td>\n",
       "      <td>53800391.0</td>\n",
       "      <td>653384965.0</td>\n",
       "    </tr>\n",
       "    <tr>\n",
       "      <th>2</th>\n",
       "      <td>13114483484080500736</td>\n",
       "      <td>2019-04-09 17:42:11</td>\n",
       "      <td>1.0</td>\n",
       "      <td>2019-04-25 11:58:13</td>\n",
       "      <td>652.0</td>\n",
       "      <td>1361762.0</td>\n",
       "      <td>2.082003e+14</td>\n",
       "      <td>3.376063e+10</td>\n",
       "      <td>3.528151e+13</td>\n",
       "      <td>D42335A</td>\n",
       "      <td>...</td>\n",
       "      <td>19725661.0</td>\n",
       "      <td>14699576.0</td>\n",
       "      <td>17587794.0</td>\n",
       "      <td>6163408.0</td>\n",
       "      <td>229584621.0</td>\n",
       "      <td>395630.0</td>\n",
       "      <td>410692588.0</td>\n",
       "      <td>4215763.0</td>\n",
       "      <td>27883638.0</td>\n",
       "      <td>279807335.0</td>\n",
       "    </tr>\n",
       "    <tr>\n",
       "      <th>3</th>\n",
       "      <td>13114483485442799616</td>\n",
       "      <td>2019-04-10 00:31:25</td>\n",
       "      <td>486.0</td>\n",
       "      <td>2019-04-25 07:36:35</td>\n",
       "      <td>171.0</td>\n",
       "      <td>1321509.0</td>\n",
       "      <td>2.082014e+14</td>\n",
       "      <td>3.375034e+10</td>\n",
       "      <td>3.535661e+13</td>\n",
       "      <td>T21824A</td>\n",
       "      <td>...</td>\n",
       "      <td>21388122.0</td>\n",
       "      <td>15146643.0</td>\n",
       "      <td>13994646.0</td>\n",
       "      <td>1097942.0</td>\n",
       "      <td>799538153.0</td>\n",
       "      <td>10849722.0</td>\n",
       "      <td>749039933.0</td>\n",
       "      <td>12797283.0</td>\n",
       "      <td>43324218.0</td>\n",
       "      <td>846028530.0</td>\n",
       "    </tr>\n",
       "    <tr>\n",
       "      <th>4</th>\n",
       "      <td>13114483499480700928</td>\n",
       "      <td>2019-04-12 20:10:23</td>\n",
       "      <td>565.0</td>\n",
       "      <td>2019-04-25 10:40:32</td>\n",
       "      <td>954.0</td>\n",
       "      <td>1089009.0</td>\n",
       "      <td>2.082014e+14</td>\n",
       "      <td>3.369980e+10</td>\n",
       "      <td>3.540701e+13</td>\n",
       "      <td>D88865A</td>\n",
       "      <td>...</td>\n",
       "      <td>15259380.0</td>\n",
       "      <td>18962873.0</td>\n",
       "      <td>17124581.0</td>\n",
       "      <td>415218.0</td>\n",
       "      <td>527707248.0</td>\n",
       "      <td>3529801.0</td>\n",
       "      <td>550709500.0</td>\n",
       "      <td>13910322.0</td>\n",
       "      <td>38542814.0</td>\n",
       "      <td>569138589.0</td>\n",
       "    </tr>\n",
       "  </tbody>\n",
       "</table>\n",
       "<p>5 rows × 55 columns</p>\n",
       "</div>"
      ],
      "text/plain": [
       "              Bearer Id               Start  Start ms                 End  \\\n",
       "0  13114483460844900352 2019-04-04 12:01:18     770.0 2019-04-25 14:35:31   \n",
       "1  13114483482878900224 2019-04-09 13:04:04     235.0 2019-04-25 08:15:48   \n",
       "2  13114483484080500736 2019-04-09 17:42:11       1.0 2019-04-25 11:58:13   \n",
       "3  13114483485442799616 2019-04-10 00:31:25     486.0 2019-04-25 07:36:35   \n",
       "4  13114483499480700928 2019-04-12 20:10:23     565.0 2019-04-25 10:40:32   \n",
       "\n",
       "   End ms  Dur. (ms)          IMSI  MSISDN/Number          IMEI  \\\n",
       "0   662.0  1823652.0  2.082014e+14   3.366496e+10  3.552121e+13   \n",
       "1   606.0  1365104.0  2.082019e+14   3.368185e+10  3.579401e+13   \n",
       "2   652.0  1361762.0  2.082003e+14   3.376063e+10  3.528151e+13   \n",
       "3   171.0  1321509.0  2.082014e+14   3.375034e+10  3.535661e+13   \n",
       "4   954.0  1089009.0  2.082014e+14   3.369980e+10  3.540701e+13   \n",
       "\n",
       "  Last Location Name        ...         Youtube DL (Bytes)  \\\n",
       "0   9164566995485190        ...                 15854611.0   \n",
       "1            L77566A        ...                 20247395.0   \n",
       "2            D42335A        ...                 19725661.0   \n",
       "3            T21824A        ...                 21388122.0   \n",
       "4            D88865A        ...                 15259380.0   \n",
       "\n",
       "   Youtube UL (Bytes)  Netflix DL (Bytes)  Netflix UL (Bytes)  \\\n",
       "0           2501332.0           8198936.0           9656251.0   \n",
       "1          19111729.0          18338413.0          17227132.0   \n",
       "2          14699576.0          17587794.0           6163408.0   \n",
       "3          15146643.0          13994646.0           1097942.0   \n",
       "4          18962873.0          17124581.0            415218.0   \n",
       "\n",
       "   Gaming DL (Bytes)  Gaming UL (Bytes)  Other DL (Bytes)  Other UL (Bytes)  \\\n",
       "0        278082303.0         14344150.0       171744450.0         8814393.0   \n",
       "1        608750074.0          1170709.0       526904238.0        15055145.0   \n",
       "2        229584621.0           395630.0       410692588.0         4215763.0   \n",
       "3        799538153.0         10849722.0       749039933.0        12797283.0   \n",
       "4        527707248.0          3529801.0       550709500.0        13910322.0   \n",
       "\n",
       "   Total UL (Bytes)  Total DL (Bytes)  \n",
       "0        36749741.0       308879636.0  \n",
       "1        53800391.0       653384965.0  \n",
       "2        27883638.0       279807335.0  \n",
       "3        43324218.0       846028530.0  \n",
       "4        38542814.0       569138589.0  \n",
       "\n",
       "[5 rows x 55 columns]"
      ]
     },
     "execution_count": 3,
     "metadata": {},
     "output_type": "execute_result"
    }
   ],
   "source": [
    "df.head()   #previewing the dataset"
   ]
  },
  {
   "cell_type": "code",
   "execution_count": 4,
   "metadata": {
    "ExecuteTime": {
     "end_time": "2020-07-27T22:16:19.600045Z",
     "start_time": "2020-07-27T22:16:19.506101Z"
    },
    "scrolled": false
   },
   "outputs": [
    {
     "data": {
      "text/plain": [
       "Index(['Bearer Id', 'Start', 'Start ms', 'End', 'End ms', 'Dur. (ms)', 'IMSI',\n",
       "       'MSISDN/Number', 'IMEI', 'Last Location Name', 'Avg RTT DL (ms)',\n",
       "       'Avg RTT UL (ms)', 'Avg Bearer TP DL (kbps)', 'Avg Bearer TP UL (kbps)',\n",
       "       'TCP DL Retrans. Vol (Bytes)', 'TCP UL Retrans. Vol (Bytes)',\n",
       "       'DL TP < 50 Kbps (%)', '50 Kbps < DL TP < 250 Kbps (%)',\n",
       "       '250 Kbps < DL TP < 1 Mbps (%)', 'DL TP > 1 Mbps (%)',\n",
       "       'UL TP < 10 Kbps (%)', '10 Kbps < UL TP < 50 Kbps (%)',\n",
       "       '50 Kbps < UL TP < 300 Kbps (%)', 'UL TP > 300 Kbps (%)',\n",
       "       'HTTP DL (Bytes)', 'HTTP UL (Bytes)', 'Activity Duration DL (ms)',\n",
       "       'Activity Duration UL (ms)', 'Dur. (ms).1', 'Handset Manufacturer',\n",
       "       'Handset Type', 'Nb of sec with 125000B < Vol DL',\n",
       "       'Nb of sec with 1250B < Vol UL < 6250B',\n",
       "       'Nb of sec with 31250B < Vol DL < 125000B',\n",
       "       'Nb of sec with 37500B < Vol UL',\n",
       "       'Nb of sec with 6250B < Vol DL < 31250B',\n",
       "       'Nb of sec with 6250B < Vol UL < 37500B',\n",
       "       'Nb of sec with Vol DL < 6250B', 'Nb of sec with Vol UL < 1250B',\n",
       "       'Social Media DL (Bytes)', 'Social Media UL (Bytes)',\n",
       "       'Google DL (Bytes)', 'Google UL (Bytes)', 'Email DL (Bytes)',\n",
       "       'Email UL (Bytes)', 'Youtube DL (Bytes)', 'Youtube UL (Bytes)',\n",
       "       'Netflix DL (Bytes)', 'Netflix UL (Bytes)', 'Gaming DL (Bytes)',\n",
       "       'Gaming UL (Bytes)', 'Other DL (Bytes)', 'Other UL (Bytes)',\n",
       "       'Total UL (Bytes)', 'Total DL (Bytes)'],\n",
       "      dtype='object')"
      ]
     },
     "execution_count": 4,
     "metadata": {},
     "output_type": "execute_result"
    }
   ],
   "source": [
    "df.columns    #viewing the column names"
   ]
  },
  {
   "cell_type": "code",
   "execution_count": 5,
   "metadata": {
    "ExecuteTime": {
     "end_time": "2020-07-27T22:16:21.013246Z",
     "start_time": "2020-07-27T22:16:19.609041Z"
    },
    "scrolled": false
   },
   "outputs": [
    {
     "name": "stdout",
     "output_type": "stream",
     "text": [
      "<class 'pandas.core.frame.DataFrame'>\n",
      "RangeIndex: 150001 entries, 0 to 150000\n",
      "Data columns (total 55 columns):\n",
      "Bearer Id                                   150001 non-null object\n",
      "Start                                       150000 non-null datetime64[ns]\n",
      "Start ms                                    150000 non-null float64\n",
      "End                                         150000 non-null datetime64[ns]\n",
      "End ms                                      150000 non-null float64\n",
      "Dur. (ms)                                   150000 non-null float64\n",
      "IMSI                                        149431 non-null float64\n",
      "MSISDN/Number                               148935 non-null float64\n",
      "IMEI                                        149429 non-null float64\n",
      "Last Location Name                          148848 non-null object\n",
      "Avg RTT DL (ms)                             122172 non-null float64\n",
      "Avg RTT UL (ms)                             122189 non-null float64\n",
      "Avg Bearer TP DL (kbps)                     150000 non-null float64\n",
      "Avg Bearer TP UL (kbps)                     150000 non-null float64\n",
      "TCP DL Retrans. Vol (Bytes)                 61855 non-null float64\n",
      "TCP UL Retrans. Vol (Bytes)                 53352 non-null float64\n",
      "DL TP < 50 Kbps (%)                         149247 non-null float64\n",
      "50 Kbps < DL TP < 250 Kbps (%)              149247 non-null float64\n",
      "250 Kbps < DL TP < 1 Mbps (%)               149247 non-null float64\n",
      "DL TP > 1 Mbps (%)                          149247 non-null float64\n",
      "UL TP < 10 Kbps (%)                         149209 non-null float64\n",
      "10 Kbps < UL TP < 50 Kbps (%)               149209 non-null float64\n",
      "50 Kbps < UL TP < 300 Kbps (%)              149209 non-null float64\n",
      "UL TP > 300 Kbps (%)                        149209 non-null float64\n",
      "HTTP DL (Bytes)                             68527 non-null float64\n",
      "HTTP UL (Bytes)                             68191 non-null float64\n",
      "Activity Duration DL (ms)                   150000 non-null float64\n",
      "Activity Duration UL (ms)                   150000 non-null float64\n",
      "Dur. (ms).1                                 150000 non-null float64\n",
      "Handset Manufacturer                        149429 non-null object\n",
      "Handset Type                                149429 non-null object\n",
      "Nb of sec with 125000B < Vol DL             52463 non-null float64\n",
      "Nb of sec with 1250B < Vol UL < 6250B       57107 non-null float64\n",
      "Nb of sec with 31250B < Vol DL < 125000B    56415 non-null float64\n",
      "Nb of sec with 37500B < Vol UL              19747 non-null float64\n",
      "Nb of sec with 6250B < Vol DL < 31250B      61684 non-null float64\n",
      "Nb of sec with 6250B < Vol UL < 37500B      38158 non-null float64\n",
      "Nb of sec with Vol DL < 6250B               149246 non-null float64\n",
      "Nb of sec with Vol UL < 1250B               149208 non-null float64\n",
      "Social Media DL (Bytes)                     150001 non-null float64\n",
      "Social Media UL (Bytes)                     150001 non-null float64\n",
      "Google DL (Bytes)                           150001 non-null float64\n",
      "Google UL (Bytes)                           150001 non-null float64\n",
      "Email DL (Bytes)                            150001 non-null float64\n",
      "Email UL (Bytes)                            150001 non-null float64\n",
      "Youtube DL (Bytes)                          150001 non-null float64\n",
      "Youtube UL (Bytes)                          150001 non-null float64\n",
      "Netflix DL (Bytes)                          150001 non-null float64\n",
      "Netflix UL (Bytes)                          150001 non-null float64\n",
      "Gaming DL (Bytes)                           150001 non-null float64\n",
      "Gaming UL (Bytes)                           150001 non-null float64\n",
      "Other DL (Bytes)                            150001 non-null float64\n",
      "Other UL (Bytes)                            150001 non-null float64\n",
      "Total UL (Bytes)                            150000 non-null float64\n",
      "Total DL (Bytes)                            150000 non-null float64\n",
      "dtypes: datetime64[ns](2), float64(49), object(4)\n",
      "memory usage: 62.9+ MB\n"
     ]
    }
   ],
   "source": [
    "df.info()"
   ]
  },
  {
   "cell_type": "code",
   "execution_count": 6,
   "metadata": {
    "ExecuteTime": {
     "end_time": "2020-07-27T22:16:34.635559Z",
     "start_time": "2020-07-27T22:16:21.023240Z"
    }
   },
   "outputs": [],
   "source": [
    "#dealing with null values as indicated above\n",
    "df.fillna(df.mean(), inplace=True)"
   ]
  },
  {
   "cell_type": "code",
   "execution_count": 7,
   "metadata": {
    "ExecuteTime": {
     "end_time": "2020-07-27T22:16:34.654550Z",
     "start_time": "2020-07-27T22:16:34.640559Z"
    }
   },
   "outputs": [
    {
     "data": {
      "text/plain": [
       "(150001, 55)"
      ]
     },
     "execution_count": 7,
     "metadata": {},
     "output_type": "execute_result"
    }
   ],
   "source": [
    "df.shape"
   ]
  },
  {
   "cell_type": "code",
   "execution_count": 8,
   "metadata": {
    "ExecuteTime": {
     "end_time": "2020-07-27T22:16:36.243993Z",
     "start_time": "2020-07-27T22:16:34.661546Z"
    }
   },
   "outputs": [
    {
     "data": {
      "text/html": [
       "<div>\n",
       "<style scoped>\n",
       "    .dataframe tbody tr th:only-of-type {\n",
       "        vertical-align: middle;\n",
       "    }\n",
       "\n",
       "    .dataframe tbody tr th {\n",
       "        vertical-align: top;\n",
       "    }\n",
       "\n",
       "    .dataframe thead th {\n",
       "        text-align: right;\n",
       "    }\n",
       "</style>\n",
       "<table border=\"1\" class=\"dataframe\">\n",
       "  <thead>\n",
       "    <tr style=\"text-align: right;\">\n",
       "      <th></th>\n",
       "      <th>Start ms</th>\n",
       "      <th>End ms</th>\n",
       "      <th>Dur. (ms)</th>\n",
       "      <th>IMSI</th>\n",
       "      <th>MSISDN/Number</th>\n",
       "      <th>IMEI</th>\n",
       "      <th>Avg RTT DL (ms)</th>\n",
       "      <th>Avg RTT UL (ms)</th>\n",
       "      <th>Avg Bearer TP DL (kbps)</th>\n",
       "      <th>Avg Bearer TP UL (kbps)</th>\n",
       "      <th>...</th>\n",
       "      <th>Youtube DL (Bytes)</th>\n",
       "      <th>Youtube UL (Bytes)</th>\n",
       "      <th>Netflix DL (Bytes)</th>\n",
       "      <th>Netflix UL (Bytes)</th>\n",
       "      <th>Gaming DL (Bytes)</th>\n",
       "      <th>Gaming UL (Bytes)</th>\n",
       "      <th>Other DL (Bytes)</th>\n",
       "      <th>Other UL (Bytes)</th>\n",
       "      <th>Total UL (Bytes)</th>\n",
       "      <th>Total DL (Bytes)</th>\n",
       "    </tr>\n",
       "  </thead>\n",
       "  <tbody>\n",
       "    <tr>\n",
       "      <th>count</th>\n",
       "      <td>150001.000000</td>\n",
       "      <td>150001.000000</td>\n",
       "      <td>1.500010e+05</td>\n",
       "      <td>1.500010e+05</td>\n",
       "      <td>1.500010e+05</td>\n",
       "      <td>1.500010e+05</td>\n",
       "      <td>150001.000000</td>\n",
       "      <td>150001.000000</td>\n",
       "      <td>150001.000000</td>\n",
       "      <td>150001.000000</td>\n",
       "      <td>...</td>\n",
       "      <td>1.500010e+05</td>\n",
       "      <td>1.500010e+05</td>\n",
       "      <td>1.500010e+05</td>\n",
       "      <td>1.500010e+05</td>\n",
       "      <td>1.500010e+05</td>\n",
       "      <td>1.500010e+05</td>\n",
       "      <td>1.500010e+05</td>\n",
       "      <td>1.500010e+05</td>\n",
       "      <td>1.500010e+05</td>\n",
       "      <td>1.500010e+05</td>\n",
       "    </tr>\n",
       "    <tr>\n",
       "      <th>mean</th>\n",
       "      <td>499.188200</td>\n",
       "      <td>498.800880</td>\n",
       "      <td>1.046086e+05</td>\n",
       "      <td>2.082016e+14</td>\n",
       "      <td>4.188282e+10</td>\n",
       "      <td>4.847455e+13</td>\n",
       "      <td>109.795706</td>\n",
       "      <td>17.662883</td>\n",
       "      <td>13300.045927</td>\n",
       "      <td>1770.428647</td>\n",
       "      <td>...</td>\n",
       "      <td>1.163407e+07</td>\n",
       "      <td>1.100941e+07</td>\n",
       "      <td>1.162685e+07</td>\n",
       "      <td>1.100175e+07</td>\n",
       "      <td>4.220447e+08</td>\n",
       "      <td>8.288398e+06</td>\n",
       "      <td>4.211005e+08</td>\n",
       "      <td>8.264799e+06</td>\n",
       "      <td>4.112121e+07</td>\n",
       "      <td>4.546434e+08</td>\n",
       "    </tr>\n",
       "    <tr>\n",
       "      <th>std</th>\n",
       "      <td>288.610872</td>\n",
       "      <td>288.096693</td>\n",
       "      <td>8.103735e+04</td>\n",
       "      <td>2.144722e+10</td>\n",
       "      <td>2.438731e+12</td>\n",
       "      <td>2.237359e+13</td>\n",
       "      <td>559.342620</td>\n",
       "      <td>76.529933</td>\n",
       "      <td>23971.798635</td>\n",
       "      <td>4625.340082</td>\n",
       "      <td>...</td>\n",
       "      <td>6.710569e+06</td>\n",
       "      <td>6.345423e+06</td>\n",
       "      <td>6.725218e+06</td>\n",
       "      <td>6.359490e+06</td>\n",
       "      <td>2.439675e+08</td>\n",
       "      <td>4.782700e+06</td>\n",
       "      <td>2.432050e+08</td>\n",
       "      <td>4.769004e+06</td>\n",
       "      <td>1.127635e+07</td>\n",
       "      <td>2.441421e+08</td>\n",
       "    </tr>\n",
       "    <tr>\n",
       "      <th>min</th>\n",
       "      <td>0.000000</td>\n",
       "      <td>0.000000</td>\n",
       "      <td>7.142000e+03</td>\n",
       "      <td>2.040471e+14</td>\n",
       "      <td>3.360100e+10</td>\n",
       "      <td>4.400152e+11</td>\n",
       "      <td>0.000000</td>\n",
       "      <td>0.000000</td>\n",
       "      <td>0.000000</td>\n",
       "      <td>0.000000</td>\n",
       "      <td>...</td>\n",
       "      <td>5.300000e+01</td>\n",
       "      <td>1.050000e+02</td>\n",
       "      <td>4.200000e+01</td>\n",
       "      <td>3.500000e+01</td>\n",
       "      <td>2.516000e+03</td>\n",
       "      <td>5.900000e+01</td>\n",
       "      <td>3.290000e+03</td>\n",
       "      <td>1.480000e+02</td>\n",
       "      <td>2.866892e+06</td>\n",
       "      <td>7.114041e+06</td>\n",
       "    </tr>\n",
       "    <tr>\n",
       "      <th>25%</th>\n",
       "      <td>250.000000</td>\n",
       "      <td>251.000000</td>\n",
       "      <td>5.744200e+04</td>\n",
       "      <td>2.082014e+14</td>\n",
       "      <td>3.365151e+10</td>\n",
       "      <td>3.546261e+13</td>\n",
       "      <td>35.000000</td>\n",
       "      <td>3.000000</td>\n",
       "      <td>43.000000</td>\n",
       "      <td>47.000000</td>\n",
       "      <td>...</td>\n",
       "      <td>5.833501e+06</td>\n",
       "      <td>5.517965e+06</td>\n",
       "      <td>5.777156e+06</td>\n",
       "      <td>5.475981e+06</td>\n",
       "      <td>2.104733e+08</td>\n",
       "      <td>4.128476e+06</td>\n",
       "      <td>2.101869e+08</td>\n",
       "      <td>4.145943e+06</td>\n",
       "      <td>3.322203e+07</td>\n",
       "      <td>2.431072e+08</td>\n",
       "    </tr>\n",
       "    <tr>\n",
       "      <th>50%</th>\n",
       "      <td>499.000000</td>\n",
       "      <td>500.000000</td>\n",
       "      <td>8.639900e+04</td>\n",
       "      <td>2.082015e+14</td>\n",
       "      <td>3.366380e+10</td>\n",
       "      <td>3.572241e+13</td>\n",
       "      <td>54.000000</td>\n",
       "      <td>7.000000</td>\n",
       "      <td>63.000000</td>\n",
       "      <td>63.000000</td>\n",
       "      <td>...</td>\n",
       "      <td>1.161602e+07</td>\n",
       "      <td>1.101345e+07</td>\n",
       "      <td>1.164222e+07</td>\n",
       "      <td>1.099638e+07</td>\n",
       "      <td>4.234081e+08</td>\n",
       "      <td>8.291208e+06</td>\n",
       "      <td>4.218030e+08</td>\n",
       "      <td>8.267071e+06</td>\n",
       "      <td>4.114324e+07</td>\n",
       "      <td>4.558409e+08</td>\n",
       "    </tr>\n",
       "    <tr>\n",
       "      <th>75%</th>\n",
       "      <td>749.000000</td>\n",
       "      <td>750.000000</td>\n",
       "      <td>1.324300e+05</td>\n",
       "      <td>2.082018e+14</td>\n",
       "      <td>3.368473e+10</td>\n",
       "      <td>8.611970e+13</td>\n",
       "      <td>109.795706</td>\n",
       "      <td>17.662883</td>\n",
       "      <td>19710.000000</td>\n",
       "      <td>1120.000000</td>\n",
       "      <td>...</td>\n",
       "      <td>1.744852e+07</td>\n",
       "      <td>1.651556e+07</td>\n",
       "      <td>1.747048e+07</td>\n",
       "      <td>1.650727e+07</td>\n",
       "      <td>6.331742e+08</td>\n",
       "      <td>1.243162e+07</td>\n",
       "      <td>6.316918e+08</td>\n",
       "      <td>1.238415e+07</td>\n",
       "      <td>4.903424e+07</td>\n",
       "      <td>6.657051e+08</td>\n",
       "    </tr>\n",
       "    <tr>\n",
       "      <th>max</th>\n",
       "      <td>999.000000</td>\n",
       "      <td>999.000000</td>\n",
       "      <td>1.859336e+06</td>\n",
       "      <td>2.140743e+14</td>\n",
       "      <td>8.823971e+14</td>\n",
       "      <td>9.900120e+13</td>\n",
       "      <td>96923.000000</td>\n",
       "      <td>7120.000000</td>\n",
       "      <td>378160.000000</td>\n",
       "      <td>58613.000000</td>\n",
       "      <td>...</td>\n",
       "      <td>2.325910e+07</td>\n",
       "      <td>2.201196e+07</td>\n",
       "      <td>2.325919e+07</td>\n",
       "      <td>2.201196e+07</td>\n",
       "      <td>8.434419e+08</td>\n",
       "      <td>1.655879e+07</td>\n",
       "      <td>8.434425e+08</td>\n",
       "      <td>1.655882e+07</td>\n",
       "      <td>7.833131e+07</td>\n",
       "      <td>9.029696e+08</td>\n",
       "    </tr>\n",
       "  </tbody>\n",
       "</table>\n",
       "<p>8 rows × 49 columns</p>\n",
       "</div>"
      ],
      "text/plain": [
       "            Start ms         End ms     Dur. (ms)          IMSI  \\\n",
       "count  150001.000000  150001.000000  1.500010e+05  1.500010e+05   \n",
       "mean      499.188200     498.800880  1.046086e+05  2.082016e+14   \n",
       "std       288.610872     288.096693  8.103735e+04  2.144722e+10   \n",
       "min         0.000000       0.000000  7.142000e+03  2.040471e+14   \n",
       "25%       250.000000     251.000000  5.744200e+04  2.082014e+14   \n",
       "50%       499.000000     500.000000  8.639900e+04  2.082015e+14   \n",
       "75%       749.000000     750.000000  1.324300e+05  2.082018e+14   \n",
       "max       999.000000     999.000000  1.859336e+06  2.140743e+14   \n",
       "\n",
       "       MSISDN/Number          IMEI  Avg RTT DL (ms)  Avg RTT UL (ms)  \\\n",
       "count   1.500010e+05  1.500010e+05    150001.000000    150001.000000   \n",
       "mean    4.188282e+10  4.847455e+13       109.795706        17.662883   \n",
       "std     2.438731e+12  2.237359e+13       559.342620        76.529933   \n",
       "min     3.360100e+10  4.400152e+11         0.000000         0.000000   \n",
       "25%     3.365151e+10  3.546261e+13        35.000000         3.000000   \n",
       "50%     3.366380e+10  3.572241e+13        54.000000         7.000000   \n",
       "75%     3.368473e+10  8.611970e+13       109.795706        17.662883   \n",
       "max     8.823971e+14  9.900120e+13     96923.000000      7120.000000   \n",
       "\n",
       "       Avg Bearer TP DL (kbps)  Avg Bearer TP UL (kbps)        ...         \\\n",
       "count            150001.000000            150001.000000        ...          \n",
       "mean              13300.045927              1770.428647        ...          \n",
       "std               23971.798635              4625.340082        ...          \n",
       "min                   0.000000                 0.000000        ...          \n",
       "25%                  43.000000                47.000000        ...          \n",
       "50%                  63.000000                63.000000        ...          \n",
       "75%               19710.000000              1120.000000        ...          \n",
       "max              378160.000000             58613.000000        ...          \n",
       "\n",
       "       Youtube DL (Bytes)  Youtube UL (Bytes)  Netflix DL (Bytes)  \\\n",
       "count        1.500010e+05        1.500010e+05        1.500010e+05   \n",
       "mean         1.163407e+07        1.100941e+07        1.162685e+07   \n",
       "std          6.710569e+06        6.345423e+06        6.725218e+06   \n",
       "min          5.300000e+01        1.050000e+02        4.200000e+01   \n",
       "25%          5.833501e+06        5.517965e+06        5.777156e+06   \n",
       "50%          1.161602e+07        1.101345e+07        1.164222e+07   \n",
       "75%          1.744852e+07        1.651556e+07        1.747048e+07   \n",
       "max          2.325910e+07        2.201196e+07        2.325919e+07   \n",
       "\n",
       "       Netflix UL (Bytes)  Gaming DL (Bytes)  Gaming UL (Bytes)  \\\n",
       "count        1.500010e+05       1.500010e+05       1.500010e+05   \n",
       "mean         1.100175e+07       4.220447e+08       8.288398e+06   \n",
       "std          6.359490e+06       2.439675e+08       4.782700e+06   \n",
       "min          3.500000e+01       2.516000e+03       5.900000e+01   \n",
       "25%          5.475981e+06       2.104733e+08       4.128476e+06   \n",
       "50%          1.099638e+07       4.234081e+08       8.291208e+06   \n",
       "75%          1.650727e+07       6.331742e+08       1.243162e+07   \n",
       "max          2.201196e+07       8.434419e+08       1.655879e+07   \n",
       "\n",
       "       Other DL (Bytes)  Other UL (Bytes)  Total UL (Bytes)  Total DL (Bytes)  \n",
       "count      1.500010e+05      1.500010e+05      1.500010e+05      1.500010e+05  \n",
       "mean       4.211005e+08      8.264799e+06      4.112121e+07      4.546434e+08  \n",
       "std        2.432050e+08      4.769004e+06      1.127635e+07      2.441421e+08  \n",
       "min        3.290000e+03      1.480000e+02      2.866892e+06      7.114041e+06  \n",
       "25%        2.101869e+08      4.145943e+06      3.322203e+07      2.431072e+08  \n",
       "50%        4.218030e+08      8.267071e+06      4.114324e+07      4.558409e+08  \n",
       "75%        6.316918e+08      1.238415e+07      4.903424e+07      6.657051e+08  \n",
       "max        8.434425e+08      1.655882e+07      7.833131e+07      9.029696e+08  \n",
       "\n",
       "[8 rows x 49 columns]"
      ]
     },
     "execution_count": 8,
     "metadata": {},
     "output_type": "execute_result"
    }
   ],
   "source": [
    "df.describe()     #identifying Outliers"
   ]
  },
  {
   "cell_type": "code",
   "execution_count": 9,
   "metadata": {
    "ExecuteTime": {
     "end_time": "2020-07-27T22:16:36.320950Z",
     "start_time": "2020-07-27T22:16:36.248990Z"
    }
   },
   "outputs": [],
   "source": [
    "#knowing the unique handset types in the dataframe and thier counts\n",
    "\n",
    "handset = df['Handset Type'].value_counts()"
   ]
  },
  {
   "cell_type": "code",
   "execution_count": 10,
   "metadata": {
    "ExecuteTime": {
     "end_time": "2020-07-27T22:16:37.061745Z",
     "start_time": "2020-07-27T22:16:36.324947Z"
    }
   },
   "outputs": [
    {
     "data": {
      "text/plain": [
       "Huawei B528S-23A                19752\n",
       "Apple iPhone 6S (A1688)          9419\n",
       "Apple iPhone 6 (A1586)           9023\n",
       "undefined                        8987\n",
       "Apple iPhone 7 (A1778)           6326\n",
       "Apple iPhone Se (A1723)          5187\n",
       "Apple iPhone 8 (A1905)           4993\n",
       "Apple iPhone Xr (A2105)          4568\n",
       "Samsung Galaxy S8 (Sm-G950F)     4520\n",
       "Apple iPhone X (A1901)           3813\n",
       "Name: Handset Type, dtype: int64"
      ]
     },
     "execution_count": 10,
     "metadata": {},
     "output_type": "execute_result"
    }
   ],
   "source": [
    "handset.head(10)"
   ]
  },
  {
   "cell_type": "code",
   "execution_count": 11,
   "metadata": {
    "ExecuteTime": {
     "end_time": "2020-07-27T22:16:37.253873Z",
     "start_time": "2020-07-27T22:16:37.066740Z"
    }
   },
   "outputs": [
    {
     "data": {
      "text/plain": [
       "Huawei B528S-23A                19752\n",
       "Apple iPhone 6S (A1688)          9419\n",
       "Apple iPhone 6 (A1586)           9023\n",
       "Apple iPhone 7 (A1778)           6326\n",
       "Apple iPhone Se (A1723)          5187\n",
       "Apple iPhone 8 (A1905)           4993\n",
       "Apple iPhone Xr (A2105)          4568\n",
       "Samsung Galaxy S8 (Sm-G950F)     4520\n",
       "Apple iPhone X (A1901)           3813\n",
       "Samsung Galaxy A5 Sm-A520F       3724\n",
       "Name: Handset Type, dtype: int64"
      ]
     },
     "execution_count": 11,
     "metadata": {},
     "output_type": "execute_result"
    }
   ],
   "source": [
    "#seeing that one of the values is \"undefined\", we will replace it with the next most used \n",
    "\n",
    "top_10_handset = handset.head(11).drop('undefined')\n",
    "top_10_handset"
   ]
  },
  {
   "cell_type": "code",
   "execution_count": 12,
   "metadata": {
    "ExecuteTime": {
     "end_time": "2020-07-27T22:16:37.556055Z",
     "start_time": "2020-07-27T22:16:37.257869Z"
    }
   },
   "outputs": [
    {
     "data": {
      "text/plain": [
       "Apple      59565\n",
       "Samsung    40839\n",
       "Huawei     34423\n",
       "Name: Handset Manufacturer, dtype: int64"
      ]
     },
     "execution_count": 12,
     "metadata": {},
     "output_type": "execute_result"
    }
   ],
   "source": [
    "#determining the top three handset manufacturer\n",
    "\n",
    "top_3_manufacturer = df['Handset Manufacturer'].value_counts().head(3)\n",
    "top_3_manufacturer"
   ]
  },
  {
   "cell_type": "code",
   "execution_count": 13,
   "metadata": {
    "ExecuteTime": {
     "end_time": "2020-07-27T22:16:38.048260Z",
     "start_time": "2020-07-27T22:16:37.559050Z"
    }
   },
   "outputs": [],
   "source": [
    "#Identifying the top 5 handsets per manufacturer\n",
    "top_manufacturers = ['Apple', 'Samsung', 'Huawei']\n",
    "\n",
    "def top_5(manufacturer):\n",
    "    manufacturer_handset = {}\n",
    "    for i in df.index:\n",
    "        if df['Handset Manufacturer'][i]==manufacturer:\n",
    "            if df['Handset Type'][i] in manufacturer_handset:\n",
    "                manufacturer_handset[df['Handset Type'][i]] += 1\n",
    "            else:\n",
    "                manufacturer_handset[df['Handset Type'][i]] = 1\n",
    "    return sorted(manufacturer_handset.items(), key=lambda x: x[1], reverse=True)[:5]"
   ]
  },
  {
   "cell_type": "code",
   "execution_count": 14,
   "metadata": {
    "ExecuteTime": {
     "end_time": "2020-07-27T22:16:56.490648Z",
     "start_time": "2020-07-27T22:16:38.053258Z"
    },
    "scrolled": false
   },
   "outputs": [
    {
     "name": "stdout",
     "output_type": "stream",
     "text": [
      "The top five handset for Apple are:\n",
      "Apple iPhone 6S (A1688)\n",
      "Apple iPhone 6 (A1586)\n",
      "Apple iPhone 7 (A1778)\n",
      "Apple iPhone Se (A1723)\n",
      "Apple iPhone 8 (A1905)\n",
      "\n",
      "\n",
      "The top five handset for Samsung are:\n",
      "Samsung Galaxy S8 (Sm-G950F)\n",
      "Samsung Galaxy A5 Sm-A520F\n",
      "Samsung Galaxy J5 (Sm-J530)\n",
      "Samsung Galaxy J3 (Sm-J330)\n",
      "Samsung Galaxy S7 (Sm-G930X)\n",
      "\n",
      "\n",
      "The top five handset for Huawei are:\n",
      "Huawei B528S-23A\n",
      "Huawei E5180\n",
      "Huawei P20 Lite Huawei Nova 3E\n",
      "Huawei P20\n",
      "Huawei Y6 2018\n",
      "\n",
      "\n"
     ]
    }
   ],
   "source": [
    "for manufacturer in top_manufacturers:\n",
    "    print('The top five handset for {} are:'.format(manufacturer))\n",
    "    for index in top_5(manufacturer):\n",
    "        print(index[0])\n",
    "    print('\\n')"
   ]
  },
  {
   "cell_type": "markdown",
   "metadata": {},
   "source": [
    "**Recommendation for Marketing**\n",
    "\n",
    "From the analyses I did above, I found that the top three brands TellCo Users use are:\n",
    "* Apple\n",
    "* Samsung\n",
    "* Huawei\n",
    "\n",
    "Also, I got the top five phones per each branch in the cell above. Therefore, it would dwell well for the company if the marketing strategy is such that it reaches more users of those three brands or more specifically the top five handsets.\n",
    "I have two propositions to make on how this information can be used to improve the reach and impact of marketing:\n",
    "* A targeted ads for the users of those brands and top handsets\n",
    "* Collaboration with manufacturer of the top phones to drive more sales at in the Republic of Pefkakia"
   ]
  },
  {
   "cell_type": "markdown",
   "metadata": {},
   "source": [
    "### Aggregating By Users\n",
    "\n",
    "In telecommunication, CDR or Call Detail Record is the voice channel. XDR is the data channel. So here, consider xDR as data sessions Detail Record. In xDR, user behavior can be tracked through the following applications:  Social Media, Google, Email, Youtube, Netflix, Gaming, Other. And Mr. Gates wants to have an overview of the users’ behavior on those applications to inform his investing decision.\n",
    "\n",
    "Therefore, I will be aggregating per user the following information in the column:\n",
    "* number of xDR sessions\n",
    "* Session duration\n",
    "* the total download (DL) and upload (UL) data\n",
    "* the total data volume (in Bytes) during this session for each application"
   ]
  },
  {
   "cell_type": "code",
   "execution_count": 15,
   "metadata": {
    "ExecuteTime": {
     "end_time": "2020-07-27T22:16:56.573599Z",
     "start_time": "2020-07-27T22:16:56.494642Z"
    }
   },
   "outputs": [
    {
     "data": {
      "text/plain": [
       "106857"
      ]
     },
     "execution_count": 15,
     "metadata": {},
     "output_type": "execute_result"
    }
   ],
   "source": [
    "# Each user has a unique MSISDN\n",
    "df['MSISDN/Number'].nunique()"
   ]
  },
  {
   "cell_type": "markdown",
   "metadata": {},
   "source": [
    "There is a 150001 row hence there are cases where one user has more than one session or perhaps some null values."
   ]
  },
  {
   "cell_type": "code",
   "execution_count": 78,
   "metadata": {
    "ExecuteTime": {
     "end_time": "2020-07-28T07:36:54.509646Z",
     "start_time": "2020-07-28T07:36:54.449683Z"
    }
   },
   "outputs": [],
   "source": [
    "# Aggreagating number of xDR sessions\n",
    "\n",
    "# number_session = {}\n",
    "# for i in df.index:\n",
    "#         if df['MSISDN/Number'][i] in number_session:\n",
    "#             number_session[df['MSISDN/Number'][i]] += 1\n",
    "#         else:\n",
    "#             number_session[df['MSISDN/Number'][i]] = 1\n",
    "\n",
    "#another more efficient route \n",
    "number_session = df.groupby('MSISDN/Number')['MSISDN/Number'].count()"
   ]
  },
  {
   "cell_type": "code",
   "execution_count": 79,
   "metadata": {
    "ExecuteTime": {
     "end_time": "2020-07-28T07:36:57.922212Z",
     "start_time": "2020-07-28T07:36:57.839260Z"
    },
    "scrolled": true
   },
   "outputs": [
    {
     "data": {
      "text/plain": [
       "[(41882819545.02736, 1066),\n",
       " (33626320676.0, 18),\n",
       " (33614892860.0, 17),\n",
       " (33625779332.0, 17),\n",
       " (33659725664.0, 16),\n",
       " (33675877202.0, 15),\n",
       " (33760536639.0, 15),\n",
       " (33667163239.0, 13),\n",
       " (33603127838.0, 12),\n",
       " (33604515716.0, 12)]"
      ]
     },
     "execution_count": 79,
     "metadata": {},
     "output_type": "execute_result"
    }
   ],
   "source": [
    "sorted(number_session.items(), key=lambda x: x[1], reverse=True)[:10]     #top 10 users as regards number of sessions"
   ]
  },
  {
   "cell_type": "code",
   "execution_count": 18,
   "metadata": {
    "ExecuteTime": {
     "end_time": "2020-07-27T22:17:05.359147Z",
     "start_time": "2020-07-27T22:17:04.769473Z"
    }
   },
   "outputs": [
    {
     "data": {
      "text/plain": [
       "<matplotlib.axes._subplots.AxesSubplot at 0x2a5759bbeb8>"
      ]
     },
     "execution_count": 18,
     "metadata": {},
     "output_type": "execute_result"
    },
    {
     "data": {
      "image/png": "[encoded data removed]",
      "text/plain": [
       "<Figure size 432x288 with 1 Axes>"
      ]
     },
     "metadata": {
      "needs_background": "light"
     },
     "output_type": "display_data"
    }
   ],
   "source": [
    "#showing with outliers\n",
    "\n",
    "sns.boxplot(x=df['Dur. (ms)'])    #understandable because users have varying duration they use "
   ]
  },
  {
   "cell_type": "code",
   "execution_count": 129,
   "metadata": {
    "ExecuteTime": {
     "end_time": "2020-07-28T13:04:18.773938Z",
     "start_time": "2020-07-28T13:04:18.501069Z"
    }
   },
   "outputs": [],
   "source": [
    "# Aggreagating duration of sessions per user\n",
    "\n",
    "session_duration = df.groupby('MSISDN/Number')['Dur. (ms).1'].sum()"
   ]
  },
  {
   "cell_type": "code",
   "execution_count": 130,
   "metadata": {
    "ExecuteTime": {
     "end_time": "2020-07-28T13:04:22.828953Z",
     "start_time": "2020-07-28T13:04:22.276773Z"
    },
    "scrolled": true
   },
   "outputs": [
    {
     "data": {
      "text/plain": [
       "[(41882819545.02736, 72551547092.54602),\n",
       " (33625779332.0, 18553763486.0),\n",
       " (33614892860.0, 9966905758.0),\n",
       " (33760536639.0, 9279442000.0),\n",
       " (33626320676.0, 8791936680.0),\n",
       " (33667163239.0, 8744922020.0),\n",
       " (33662840755.0, 6614274287.0),\n",
       " (33664693736.0, 6288735771.0),\n",
       " (33603127838.0, 6287767483.0),\n",
       " (33667456716.0, 5649885358.0)]"
      ]
     },
     "execution_count": 130,
     "metadata": {},
     "output_type": "execute_result"
    }
   ],
   "source": [
    "sorted(session_duration.items(), key=lambda x: x[1], reverse=True)[:10]    #top 10 users as regards duration of sessions"
   ]
  },
  {
   "cell_type": "code",
   "execution_count": 21,
   "metadata": {
    "ExecuteTime": {
     "end_time": "2020-07-27T22:17:05.975779Z",
     "start_time": "2020-07-27T22:17:05.702938Z"
    }
   },
   "outputs": [
    {
     "data": {
      "image/png": "[encoded data removed]",
      "text/plain": [
       "<Figure size 432x288 with 1 Axes>"
      ]
     },
     "metadata": {
      "needs_background": "light"
     },
     "output_type": "display_data"
    }
   ],
   "source": [
    "#showing with outliers\n",
    "\n",
    "plt.boxplot(df['Total DL (Bytes)'])     \n",
    "plt.show()     #no outliers"
   ]
  },
  {
   "cell_type": "code",
   "execution_count": 22,
   "metadata": {
    "ExecuteTime": {
     "end_time": "2020-07-27T22:17:06.106703Z",
     "start_time": "2020-07-27T22:17:05.979780Z"
    }
   },
   "outputs": [],
   "source": [
    "#Aggregating using total download data(DL)\n",
    "\n",
    "total_download = df.groupby('MSISDN/Number')['Total DL (Bytes)'].sum()"
   ]
  },
  {
   "cell_type": "code",
   "execution_count": 23,
   "metadata": {
    "ExecuteTime": {
     "end_time": "2020-07-27T22:17:06.279392Z",
     "start_time": "2020-07-27T22:17:06.109704Z"
    },
    "scrolled": false
   },
   "outputs": [
    {
     "data": {
      "text/plain": [
       "[(41882819545.02736, 487378285756.079),\n",
       " (33614892860.0, 8156743493.0),\n",
       " (33760536639.0, 7811295382.0),\n",
       " (33625779332.0, 7770043342.0),\n",
       " (33675877202.0, 7309541816.0),\n",
       " (33626320676.0, 7301516540.0),\n",
       " (33659725664.0, 7081602462.0),\n",
       " (33666464084.0, 6903439962.0),\n",
       " (33760413819.0, 6610851624.0),\n",
       " (33664712899.0, 6400773755.0)]"
      ]
     },
     "execution_count": 23,
     "metadata": {},
     "output_type": "execute_result"
    }
   ],
   "source": [
    "sorted(total_download.items(), key=lambda x: x[1], reverse=True)[:10]    #top 10 users as regards total download data"
   ]
  },
  {
   "cell_type": "code",
   "execution_count": 24,
   "metadata": {
    "ExecuteTime": {
     "end_time": "2020-07-27T22:17:07.075590Z",
     "start_time": "2020-07-27T22:17:06.284387Z"
    }
   },
   "outputs": [
    {
     "name": "stderr",
     "output_type": "stream",
     "text": [
      "C:\\Users\\OWNER\\Anaconda3\\lib\\site-packages\\scipy\\stats\\stats.py:1713: FutureWarning: Using a non-tuple sequence for multidimensional indexing is deprecated; use `arr[tuple(seq)]` instead of `arr[seq]`. In the future this will be interpreted as an array index, `arr[np.array(seq)]`, which will result either in an error or a different result.\n",
      "  return np.add.reduce(sorted[indexer] * weights, axis=axis) / sumval\n"
     ]
    },
    {
     "data": {
      "text/plain": [
       "<matplotlib.axes._subplots.AxesSubplot at 0x2a509ba2cc0>"
      ]
     },
     "execution_count": 24,
     "metadata": {},
     "output_type": "execute_result"
    },
    {
     "data": {
      "image/png": "[encoded data removed]",
      "text/plain": [
       "<Figure size 432x288 with 1 Axes>"
      ]
     },
     "metadata": {
      "needs_background": "light"
     },
     "output_type": "display_data"
    }
   ],
   "source": [
    "sns.distplot(df['Total UL (Bytes)'])    #perfectly shaped, no outlier"
   ]
  },
  {
   "cell_type": "code",
   "execution_count": 25,
   "metadata": {
    "ExecuteTime": {
     "end_time": "2020-07-27T22:17:07.192523Z",
     "start_time": "2020-07-27T22:17:07.078591Z"
    }
   },
   "outputs": [],
   "source": [
    "#Aggregating using total upload data(UL)\n",
    "\n",
    "total_upload = df.groupby('MSISDN/Number')['Total UL (Bytes)'].sum()"
   ]
  },
  {
   "cell_type": "code",
   "execution_count": 26,
   "metadata": {
    "ExecuteTime": {
     "end_time": "2020-07-27T22:17:07.367422Z",
     "start_time": "2020-07-27T22:17:07.197519Z"
    }
   },
   "outputs": [
    {
     "data": {
      "text/plain": [
       "[(41882819545.02736, 44366423488.29211),\n",
       " (33625779332.0, 729577380.0),\n",
       " (33760536639.0, 703478581.0),\n",
       " (33614892860.0, 689483001.0),\n",
       " (33626320676.0, 669650721.0),\n",
       " (33659725664.0, 624260321.0),\n",
       " (33675877202.0, 581568792.0),\n",
       " (33667163239.0, 566326364.0),\n",
       " (33698792269.0, 530343105.0),\n",
       " (33760413819.0, 521518890.0)]"
      ]
     },
     "execution_count": 26,
     "metadata": {},
     "output_type": "execute_result"
    }
   ],
   "source": [
    "sorted(total_upload.items(), key=lambda x: x[1], reverse=True)[:10]    #top 10 users as regards total upload data"
   ]
  },
  {
   "cell_type": "markdown",
   "metadata": {},
   "source": [
    " **Aggregating for each user application: Social Media, Youtube, Netflix, Google, Email, Gaming, Others**"
   ]
  },
  {
   "cell_type": "code",
   "execution_count": 27,
   "metadata": {
    "ExecuteTime": {
     "end_time": "2020-07-27T22:17:07.782595Z",
     "start_time": "2020-07-27T22:17:07.373421Z"
    }
   },
   "outputs": [],
   "source": [
    "#Aggregating using total social media data volume\n",
    "\n",
    "df['total_sm'] = df['Social Media DL (Bytes)'] + df['Social Media UL (Bytes)']\n",
    "total_sm = df.groupby('MSISDN/Number')['total_sm'].sum()"
   ]
  },
  {
   "cell_type": "code",
   "execution_count": 28,
   "metadata": {
    "ExecuteTime": {
     "end_time": "2020-07-27T22:17:07.939625Z",
     "start_time": "2020-07-27T22:17:07.788593Z"
    }
   },
   "outputs": [
    {
     "data": {
      "text/plain": [
       "[(41882819545.02736, 1973817362.2080266),\n",
       " (33626320676.0, 43374779.0),\n",
       " (33760536639.0, 39783189.0),\n",
       " (33659725664.0, 35412358.0),\n",
       " (33614892860.0, 28294544.0),\n",
       " (33625779332.0, 27135500.0),\n",
       " (33667163239.0, 24247850.0),\n",
       " (33786323068.0, 23974919.0),\n",
       " (33669068942.0, 23800834.0),\n",
       " (33603127838.0, 23077825.0)]"
      ]
     },
     "execution_count": 28,
     "metadata": {},
     "output_type": "execute_result"
    }
   ],
   "source": [
    "sorted(total_sm.items(), key=lambda x: x[1], reverse=True)[:10]    #top 10 users as regards total social media data"
   ]
  },
  {
   "cell_type": "code",
   "execution_count": 29,
   "metadata": {
    "ExecuteTime": {
     "end_time": "2020-07-27T22:17:08.208046Z",
     "start_time": "2020-07-27T22:17:07.943622Z"
    }
   },
   "outputs": [],
   "source": [
    "#Aggregating using total Youtube data volume\n",
    "\n",
    "df['total_youtube'] = df['Youtube DL (Bytes)'] + df['Youtube UL (Bytes)']\n",
    "total_youtube = df.groupby('MSISDN/Number')['total_youtube'].sum()"
   ]
  },
  {
   "cell_type": "code",
   "execution_count": 30,
   "metadata": {
    "ExecuteTime": {
     "end_time": "2020-07-27T22:17:08.350976Z",
     "start_time": "2020-07-27T22:17:08.211045Z"
    }
   },
   "outputs": [
    {
     "data": {
      "text/plain": [
       "[(41882819545.02736, 24340725905.6386),\n",
       " (33625779332.0, 452958769.0),\n",
       " (33760536639.0, 396289198.0),\n",
       " (33614892860.0, 394370218.0),\n",
       " (33626320676.0, 374483047.0),\n",
       " (33675877202.0, 317410572.0),\n",
       " (33667163239.0, 315231310.0),\n",
       " (33627080969.0, 308790774.0),\n",
       " (33760413819.0, 303169107.0),\n",
       " (33698792269.0, 302661958.0)]"
      ]
     },
     "execution_count": 30,
     "metadata": {},
     "output_type": "execute_result"
    }
   ],
   "source": [
    "sorted(total_youtube.items(), key=lambda x: x[1], reverse=True)[:10]    #top 10 users as regards total youtube data"
   ]
  },
  {
   "cell_type": "code",
   "execution_count": 31,
   "metadata": {
    "ExecuteTime": {
     "end_time": "2020-07-27T22:17:08.796088Z",
     "start_time": "2020-07-27T22:17:08.353973Z"
    }
   },
   "outputs": [],
   "source": [
    "#Aggregating using total Netflix data volume\n",
    "\n",
    "df['total_netflix'] = df['Netflix DL (Bytes)'] + df['Netflix UL (Bytes)']\n",
    "total_netflix = df.groupby('MSISDN/Number')['total_netflix'].sum()"
   ]
  },
  {
   "cell_type": "code",
   "execution_count": 32,
   "metadata": {
    "ExecuteTime": {
     "end_time": "2020-07-27T22:17:08.966104Z",
     "start_time": "2020-07-27T22:17:08.799086Z"
    }
   },
   "outputs": [
    {
     "data": {
      "text/plain": [
       "[(41882819545.02736, 24253572125.53838),\n",
       " (33659725664.0, 399519079.0),\n",
       " (33614892860.0, 361401046.0),\n",
       " (33625779332.0, 356980607.0),\n",
       " (33760536639.0, 334643269.0),\n",
       " (33626320676.0, 328725740.0),\n",
       " (33760413819.0, 318347546.0),\n",
       " (33667163239.0, 313939488.0),\n",
       " (33675877202.0, 309093159.0),\n",
       " (33786323068.0, 305939790.0)]"
      ]
     },
     "execution_count": 32,
     "metadata": {},
     "output_type": "execute_result"
    }
   ],
   "source": [
    "sorted(total_netflix.items(), key=lambda x: x[1], reverse=True)[:10]    #top 10 users as regards total netflix data"
   ]
  },
  {
   "cell_type": "code",
   "execution_count": 33,
   "metadata": {
    "ExecuteTime": {
     "end_time": "2020-07-27T22:17:09.260107Z",
     "start_time": "2020-07-27T22:17:08.970098Z"
    }
   },
   "outputs": [],
   "source": [
    "#Aggregating using total Google data volume\n",
    "\n",
    "df['total_google'] = df['Google DL (Bytes)'] + df['Google UL (Bytes)']\n",
    "total_google = df.groupby('MSISDN/Number')['total_google'].sum()"
   ]
  },
  {
   "cell_type": "code",
   "execution_count": 34,
   "metadata": {
    "ExecuteTime": {
     "end_time": "2020-07-27T22:17:09.393087Z",
     "start_time": "2020-07-27T22:17:09.262105Z"
    }
   },
   "outputs": [
    {
     "data": {
      "text/plain": [
       "[(41882819545.02736, 8248576910.545573),\n",
       " (33626320676.0, 152191852.0),\n",
       " (33625779332.0, 142307915.0),\n",
       " (33614892860.0, 127973787.0),\n",
       " (33760536639.0, 123223099.0),\n",
       " (33659725664.0, 116516345.0),\n",
       " (33786323068.0, 110254484.0),\n",
       " (33675877202.0, 109860502.0),\n",
       " (33667163239.0, 105032696.0),\n",
       " (33761268199.0, 97089988.0)]"
      ]
     },
     "execution_count": 34,
     "metadata": {},
     "output_type": "execute_result"
    }
   ],
   "source": [
    "sorted(total_google.items(), key=lambda x: x[1], reverse=True)[:10]    #top 10 users as regards total google data"
   ]
  },
  {
   "cell_type": "code",
   "execution_count": 35,
   "metadata": {
    "ExecuteTime": {
     "end_time": "2020-07-27T22:17:09.713036Z",
     "start_time": "2020-07-27T22:17:09.397085Z"
    }
   },
   "outputs": [],
   "source": [
    "#Aggregating using total Email data volume\n",
    "\n",
    "df['total_email'] = df['Email DL (Bytes)'] + df['Email UL (Bytes)']\n",
    "total_email = df.groupby('MSISDN/Number')['total_email'].sum()"
   ]
  },
  {
   "cell_type": "code",
   "execution_count": 36,
   "metadata": {
    "ExecuteTime": {
     "end_time": "2020-07-27T22:17:09.869951Z",
     "start_time": "2020-07-27T22:17:09.716051Z"
    }
   },
   "outputs": [
    {
     "data": {
      "text/plain": [
       "[(41882819545.02736, 2399880433.30996),\n",
       " (33626320676.0, 42418782.0),\n",
       " (33614892860.0, 40788634.0),\n",
       " (33625779332.0, 40633966.0),\n",
       " (33786323068.0, 36310123.0),\n",
       " (33659725664.0, 35999792.0),\n",
       " (33760536639.0, 33693767.0),\n",
       " (33675877202.0, 31514421.0),\n",
       " (33665460546.0, 30417885.0),\n",
       " (33667163239.0, 30335796.0)]"
      ]
     },
     "execution_count": 36,
     "metadata": {},
     "output_type": "execute_result"
    }
   ],
   "source": [
    "sorted(total_email.items(), key=lambda x: x[1], reverse=True)[:10]    #top 10 users as regards total email data"
   ]
  },
  {
   "cell_type": "code",
   "execution_count": 37,
   "metadata": {
    "ExecuteTime": {
     "end_time": "2020-07-27T22:17:10.150786Z",
     "start_time": "2020-07-27T22:17:09.872949Z"
    }
   },
   "outputs": [],
   "source": [
    "#Aggregating using total Gaming data volume\n",
    "\n",
    "df['total_gaming'] = df['Gaming DL (Bytes)'] + df['Gaming UL (Bytes)']\n",
    "total_gaming = df.groupby('MSISDN/Number')['total_gaming'].sum()"
   ]
  },
  {
   "cell_type": "code",
   "execution_count": 38,
   "metadata": {
    "ExecuteTime": {
     "end_time": "2020-07-27T22:17:10.324979Z",
     "start_time": "2020-07-27T22:17:10.154785Z"
    }
   },
   "outputs": [
    {
     "data": {
      "text/plain": [
       "[(41882819545.02736, 461478029804.7061),\n",
       " (33614892860.0, 7749432234.0),\n",
       " (33760536639.0, 7461045228.0),\n",
       " (33625779332.0, 7326673487.0),\n",
       " (33675877202.0, 6970567597.0),\n",
       " (33626320676.0, 6887572116.0),\n",
       " (33659725664.0, 6725559211.0),\n",
       " (33666464084.0, 6646303338.0),\n",
       " (33760413819.0, 6268619592.0),\n",
       " (33664712899.0, 6103856008.0)]"
      ]
     },
     "execution_count": 38,
     "metadata": {},
     "output_type": "execute_result"
    }
   ],
   "source": [
    "sorted(total_gaming.items(), key=lambda x: x[1], reverse=True)[:10]    #top 10 users as regards total gaming data"
   ]
  },
  {
   "cell_type": "code",
   "execution_count": 39,
   "metadata": {
    "ExecuteTime": {
     "end_time": "2020-07-27T22:17:10.621809Z",
     "start_time": "2020-07-27T22:17:10.327977Z"
    }
   },
   "outputs": [],
   "source": [
    "#Aggregating using total Other data volume\n",
    "\n",
    "df['total_other'] = df['Other DL (Bytes)'] + df['Other UL (Bytes)']\n",
    "total_other = df.groupby('MSISDN/Number')['total_other'].sum()"
   ]
  },
  {
   "cell_type": "code",
   "execution_count": 40,
   "metadata": {
    "ExecuteTime": {
     "end_time": "2020-07-27T22:17:10.793718Z",
     "start_time": "2020-07-27T22:17:10.623809Z"
    }
   },
   "outputs": [
    {
     "data": {
      "text/plain": [
       "[(41882819545.02736, 450978392359.6189),\n",
       " (33626320676.0, 8167877776.0),\n",
       " (33614892860.0, 7639263572.0),\n",
       " (33675877202.0, 6798515150.0),\n",
       " (33625779332.0, 6354583086.0),\n",
       " (33603127838.0, 6326670874.0),\n",
       " (33659725664.0, 6317415487.0),\n",
       " (33626948251.0, 5305447882.0),\n",
       " (33627080969.0, 5117790890.0),\n",
       " (33761268199.0, 5077779438.0)]"
      ]
     },
     "execution_count": 40,
     "metadata": {},
     "output_type": "execute_result"
    }
   ],
   "source": [
    "sorted(total_other.items(), key=lambda x: x[1], reverse=True)[:10]    #top 10 users as regards total other data"
   ]
  },
  {
   "cell_type": "markdown",
   "metadata": {},
   "source": [
    "### Analysis of the Aggregated Data\n",
    "\n",
    "In the next couple of cells, I will be performing the analyses below on the aggregated data in the preceding sections\n",
    "* Univariate non-graphical Exploratory Data Analysis\n",
    "* Multivariate non-graphical Exploratory Data Analysis\n",
    "* Univariate graphical Exploratory Data Analysis\n",
    "* Multivariate graphical Exploratory Data Analysis\n"
   ]
  },
  {
   "cell_type": "markdown",
   "metadata": {},
   "source": [
    "#### Non Graphical Univariate Analysis\n",
    "\n",
    "A description of the aggregated data using the describe() function."
   ]
  },
  {
   "cell_type": "code",
   "execution_count": 80,
   "metadata": {
    "ExecuteTime": {
     "end_time": "2020-07-28T07:37:12.473098Z",
     "start_time": "2020-07-28T07:37:12.406136Z"
    }
   },
   "outputs": [
    {
     "data": {
      "text/plain": [
       "count    106857.000000\n",
       "mean          1.403755\n",
       "std           3.355032\n",
       "min           1.000000\n",
       "25%           1.000000\n",
       "50%           1.000000\n",
       "75%           2.000000\n",
       "max        1066.000000\n",
       "Name: MSISDN/Number, dtype: float64"
      ]
     },
     "execution_count": 80,
     "metadata": {},
     "output_type": "execute_result"
    }
   ],
   "source": [
    "#describing number of xDR session per user\n",
    "\n",
    "number_session.describe()"
   ]
  },
  {
   "cell_type": "markdown",
   "metadata": {},
   "source": [
    "The number of sessions users have vary so greatly that the minimum is 1 and the maximum is 1066 with a mean of 1.40. Therefore, there is a wide gap in the users ability to pay for multiple sessions. More analysis will be done to investigate the group of users with more financial capability to use multiple sessions."
   ]
  },
  {
   "cell_type": "code",
   "execution_count": 81,
   "metadata": {
    "ExecuteTime": {
     "end_time": "2020-07-28T08:11:01.049970Z",
     "start_time": "2020-07-28T08:11:01.030981Z"
    }
   },
   "outputs": [
    {
     "data": {
      "text/plain": [
       "count    1.068570e+05\n",
       "mean     1.468447e+05\n",
       "std      2.894646e+05\n",
       "min      7.142000e+03\n",
       "25%      7.130900e+04\n",
       "50%      1.027410e+05\n",
       "75%      1.727990e+05\n",
       "max      7.255100e+07\n",
       "Name: Dur. (ms), dtype: float64"
      ]
     },
     "execution_count": 81,
     "metadata": {},
     "output_type": "execute_result"
    }
   ],
   "source": [
    "#describing duration of xDR session per user\n",
    "\n",
    "session_duration.describe()"
   ]
  },
  {
   "cell_type": "markdown",
   "metadata": {},
   "source": [
    "Again, just as it is with the number of durations the users can afford, there is a significant spread between the minimum and maximum duration each user used. This has a positive correlation with number of session because an increase in the number of sessions a user use will ultimately result in a corresponding increase in their duration."
   ]
  },
  {
   "cell_type": "code",
   "execution_count": 82,
   "metadata": {
    "ExecuteTime": {
     "end_time": "2020-07-28T08:15:31.230745Z",
     "start_time": "2020-07-28T08:15:31.210757Z"
    },
    "scrolled": true
   },
   "outputs": [
    {
     "data": {
      "text/plain": [
       "count    1.068570e+05\n",
       "mean     6.382078e+08\n",
       "std      1.559802e+09\n",
       "min      8.827082e+06\n",
       "25%      3.148302e+08\n",
       "50%      5.703713e+08\n",
       "75%      8.073701e+08\n",
       "max      4.873783e+11\n",
       "Name: Total DL (Bytes), dtype: float64"
      ]
     },
     "execution_count": 82,
     "metadata": {},
     "output_type": "execute_result"
    }
   ],
   "source": [
    "#describing total download during xDR session(s) per user\n",
    "\n",
    "total_download.describe()"
   ]
  },
  {
   "cell_type": "code",
   "execution_count": 83,
   "metadata": {
    "ExecuteTime": {
     "end_time": "2020-07-28T10:12:04.345210Z",
     "start_time": "2020-07-28T10:12:04.120197Z"
    }
   },
   "outputs": [
    {
     "data": {
      "text/plain": [
       "284.43163537998447"
      ]
     },
     "execution_count": 83,
     "metadata": {},
     "output_type": "execute_result"
    }
   ],
   "source": [
    "total_download.skew()"
   ]
  },
  {
   "cell_type": "markdown",
   "metadata": {},
   "source": [
    "The mean of the total download data for users is sort of in the middle of the min and max value. And as expected, there is a large positive skew which shows that a large number of the users have lower amount of total_download as shown below: \n",
    "![image](1.png)"
   ]
  },
  {
   "cell_type": "code",
   "execution_count": 84,
   "metadata": {
    "ExecuteTime": {
     "end_time": "2020-07-28T10:36:03.927006Z",
     "start_time": "2020-07-28T10:36:03.890026Z"
    },
    "scrolled": true
   },
   "outputs": [
    {
     "data": {
      "text/plain": [
       "count    1.068570e+05\n",
       "mean     5.772408e+07\n",
       "std      1.401591e+08\n",
       "min      2.866892e+06\n",
       "25%      3.639554e+07\n",
       "50%      4.679434e+07\n",
       "75%      6.573376e+07\n",
       "max      4.436642e+10\n",
       "Name: Total UL (Bytes), dtype: float64"
      ]
     },
     "execution_count": 84,
     "metadata": {},
     "output_type": "execute_result"
    }
   ],
   "source": [
    "#describing total upload during xDR session(s) per user\n",
    "\n",
    "total_upload.describe()"
   ]
  },
  {
   "cell_type": "markdown",
   "metadata": {},
   "source": [
    "total_upload shows a mean that is more closer to the minimum value as well which implies that the majority of users are clustered on the left side of the spectrum just as it was for the download data. "
   ]
  },
  {
   "cell_type": "code",
   "execution_count": 85,
   "metadata": {
    "ExecuteTime": {
     "end_time": "2020-07-28T11:02:09.070754Z",
     "start_time": "2020-07-28T11:02:08.754641Z"
    }
   },
   "outputs": [
    {
     "data": {
      "text/plain": [
       "count    1.068570e+05\n",
       "mean     2.566415e+06\n",
       "std      6.325032e+06\n",
       "min      1.563000e+03\n",
       "25%      1.211309e+06\n",
       "50%      2.303811e+06\n",
       "75%      3.307524e+06\n",
       "max      1.973817e+09\n",
       "Name: total_sm, dtype: float64"
      ]
     },
     "execution_count": 85,
     "metadata": {},
     "output_type": "execute_result"
    }
   ],
   "source": [
    "#describing total Social Media data during xDR session(s) per user\n",
    "\n",
    "total_sm.describe()"
   ]
  },
  {
   "cell_type": "code",
   "execution_count": 86,
   "metadata": {
    "ExecuteTime": {
     "end_time": "2020-07-28T11:02:57.757047Z",
     "start_time": "2020-07-28T11:02:57.490451Z"
    }
   },
   "outputs": [
    {
     "data": {
      "text/plain": [
       "count    1.068570e+05\n",
       "mean     3.178589e+07\n",
       "std      7.735388e+07\n",
       "min      7.890300e+04\n",
       "25%      1.863145e+07\n",
       "50%      2.680040e+07\n",
       "75%      3.792829e+07\n",
       "max      2.434073e+10\n",
       "Name: total_youtube, dtype: float64"
      ]
     },
     "execution_count": 86,
     "metadata": {},
     "output_type": "execute_result"
    }
   ],
   "source": [
    "#describing total youtube data during xDR session(s) per user\n",
    "\n",
    "total_youtube.describe()"
   ]
  },
  {
   "cell_type": "code",
   "execution_count": 87,
   "metadata": {
    "ExecuteTime": {
     "end_time": "2020-07-28T11:03:30.064412Z",
     "start_time": "2020-07-28T11:03:29.727315Z"
    }
   },
   "outputs": [
    {
     "data": {
      "text/plain": [
       "count    1.068570e+05\n",
       "mean     3.176501e+07\n",
       "std      7.709618e+07\n",
       "min      1.845690e+05\n",
       "25%      1.855607e+07\n",
       "50%      2.671955e+07\n",
       "75%      3.797722e+07\n",
       "max      2.425357e+10\n",
       "Name: total_netflix, dtype: float64"
      ]
     },
     "execution_count": 87,
     "metadata": {},
     "output_type": "execute_result"
    }
   ],
   "source": [
    "#describing total Netflix data during xDR session(s) per user\n",
    "\n",
    "total_netflix.describe()"
   ]
  },
  {
   "cell_type": "code",
   "execution_count": 88,
   "metadata": {
    "ExecuteTime": {
     "end_time": "2020-07-28T11:04:49.744086Z",
     "start_time": "2020-07-28T11:04:49.464138Z"
    }
   },
   "outputs": [
    {
     "data": {
      "text/plain": [
       "count    1.068570e+05\n",
       "mean     1.095953e+07\n",
       "std      2.630542e+07\n",
       "min      4.033000e+04\n",
       "25%      5.942683e+06\n",
       "50%      9.586186e+06\n",
       "75%      1.321496e+07\n",
       "max      8.248577e+09\n",
       "Name: total_google, dtype: float64"
      ]
     },
     "execution_count": 88,
     "metadata": {},
     "output_type": "execute_result"
    }
   ],
   "source": [
    "#describing total Google data during xDR session(s) per user\n",
    "\n",
    "total_google.describe()"
   ]
  },
  {
   "cell_type": "code",
   "execution_count": 89,
   "metadata": {
    "ExecuteTime": {
     "end_time": "2020-07-28T11:05:21.987724Z",
     "start_time": "2020-07-28T11:05:21.764748Z"
    }
   },
   "outputs": [
    {
     "data": {
      "text/plain": [
       "count    1.068570e+05\n",
       "mean     3.171225e+06\n",
       "std      7.661339e+06\n",
       "min      1.817600e+04\n",
       "25%      1.674484e+06\n",
       "50%      2.799854e+06\n",
       "75%      3.847205e+06\n",
       "max      2.399880e+09\n",
       "Name: total_email, dtype: float64"
      ]
     },
     "execution_count": 89,
     "metadata": {},
     "output_type": "execute_result"
    }
   ],
   "source": [
    "#describing total email data during xDR session(s) per user\n",
    "\n",
    "total_email.describe()"
   ]
  },
  {
   "cell_type": "code",
   "execution_count": 90,
   "metadata": {
    "ExecuteTime": {
     "end_time": "2020-07-28T11:05:36.582867Z",
     "start_time": "2020-07-28T11:05:36.175405Z"
    }
   },
   "outputs": [
    {
     "data": {
      "text/plain": [
       "count    1.068570e+05\n",
       "mean     6.040820e+08\n",
       "std      1.479703e+09\n",
       "min      3.063580e+05\n",
       "25%      2.880666e+08\n",
       "50%      5.423501e+08\n",
       "75%      7.773115e+08\n",
       "max      4.614780e+11\n",
       "Name: total_gaming, dtype: float64"
      ]
     },
     "execution_count": 90,
     "metadata": {},
     "output_type": "execute_result"
    }
   ],
   "source": [
    "#describing total gaming data during xDR session(s) per user\n",
    "\n",
    "total_gaming.describe()"
   ]
  },
  {
   "cell_type": "code",
   "execution_count": 91,
   "metadata": {
    "ExecuteTime": {
     "end_time": "2020-07-28T11:06:02.274888Z",
     "start_time": "2020-07-28T11:06:01.996074Z"
    }
   },
   "outputs": [
    {
     "data": {
      "text/plain": [
       "count    1.068570e+05\n",
       "mean     6.027236e+08\n",
       "std      1.449064e+09\n",
       "min      1.490450e+05\n",
       "25%      2.855649e+08\n",
       "50%      5.398401e+08\n",
       "75%      7.754189e+08\n",
       "max      4.509784e+11\n",
       "Name: total_other, dtype: float64"
      ]
     },
     "execution_count": 91,
     "metadata": {},
     "output_type": "execute_result"
    }
   ],
   "source": [
    "#describing total other data during xDR session(s) per user\n",
    "\n",
    "total_other.describe()"
   ]
  },
  {
   "cell_type": "markdown",
   "metadata": {},
   "source": [
    "The data used for the applications show majority using data closer to the minimum value obtained while the minority few who could afford multiple sessions are using very high data in accessing the applications.\n",
    "Therefore, the heavy data users are the minority while there are a lot of less consuming data customers."
   ]
  },
  {
   "cell_type": "markdown",
   "metadata": {},
   "source": [
    "#### Graphical Univariate Analysis\n",
    "\n",
    "For the univariate analysis, I will be using 10000 random samples so that insights can be easily drawn from the plots."
   ]
  },
  {
   "cell_type": "code",
   "execution_count": 114,
   "metadata": {
    "ExecuteTime": {
     "end_time": "2020-07-28T12:26:03.404132Z",
     "start_time": "2020-07-28T12:26:03.175249Z"
    }
   },
   "outputs": [
    {
     "data": {
      "text/plain": [
       "Text(0.5, 1.0, 'Number of Session(s)')"
      ]
     },
     "execution_count": 114,
     "metadata": {},
     "output_type": "execute_result"
    },
    {
     "data": {
      "image/png": "[encoded data removed]",
      "text/plain": [
       "<Figure size 432x288 with 1 Axes>"
      ]
     },
     "metadata": {
      "needs_background": "light"
     },
     "output_type": "display_data"
    }
   ],
   "source": [
    "sns.boxplot(number_session.sample(10000))\n",
    "\n",
    "plt.title('Number of Session(s)')"
   ]
  },
  {
   "cell_type": "markdown",
   "metadata": {},
   "source": [
    "Most of the users have only one sessions or around it while some few outliers had over one thousand sessions"
   ]
  },
  {
   "cell_type": "code",
   "execution_count": 131,
   "metadata": {
    "ExecuteTime": {
     "end_time": "2020-07-28T13:04:40.683085Z",
     "start_time": "2020-07-28T13:04:40.439896Z"
    }
   },
   "outputs": [
    {
     "data": {
      "text/plain": [
       "Text(0.5, 1.0, 'Session Duration')"
      ]
     },
     "execution_count": 131,
     "metadata": {},
     "output_type": "execute_result"
    },
    {
     "data": {
      "image/png": "[encoded data removed]",
      "text/plain": [
       "<Figure size 432x288 with 1 Axes>"
      ]
     },
     "metadata": {
      "needs_background": "light"
     },
     "output_type": "display_data"
    }
   ],
   "source": [
    "sns.boxplot(session_duration.sample(10000))\n",
    "\n",
    "plt.title('Session Duration')"
   ]
  },
  {
   "cell_type": "markdown",
   "metadata": {
    "ExecuteTime": {
     "end_time": "2020-07-28T12:23:37.832522Z",
     "start_time": "2020-07-28T12:23:37.826526Z"
    }
   },
   "source": [
    "Just like the number of of sessions, the aggregated sessions has some outliers corresponding to the same outliers that was seen in the number of sessions."
   ]
  },
  {
   "cell_type": "code",
   "execution_count": 127,
   "metadata": {
    "ExecuteTime": {
     "end_time": "2020-07-28T12:38:45.029519Z",
     "start_time": "2020-07-28T12:38:44.063481Z"
    },
    "scrolled": true
   },
   "outputs": [
    {
     "data": {
      "text/plain": [
       "Text(0.5, 1.0, 'Total Download')"
      ]
     },
     "execution_count": 127,
     "metadata": {},
     "output_type": "execute_result"
    },
    {
     "data": {
      "image/png": "[encoded data removed]",
      "text/plain": [
       "<Figure size 432x288 with 1 Axes>"
      ]
     },
     "metadata": {
      "needs_background": "light"
     },
     "output_type": "display_data"
    }
   ],
   "source": [
    "sns.distplot(total_download.sample(10000))\n",
    "\n",
    "plt.title('Total Download')"
   ]
  },
  {
   "cell_type": "markdown",
   "metadata": {},
   "source": [
    "The skewness of the plot is positive indicating that the majority has lower downloads and the minority has some users with outlying data use."
   ]
  },
  {
   "cell_type": "code",
   "execution_count": 126,
   "metadata": {
    "ExecuteTime": {
     "end_time": "2020-07-28T12:37:00.954173Z",
     "start_time": "2020-07-28T12:36:59.816973Z"
    }
   },
   "outputs": [
    {
     "data": {
      "text/plain": [
       "Text(0.5, 1.0, 'Total Upload')"
      ]
     },
     "execution_count": 126,
     "metadata": {},
     "output_type": "execute_result"
    },
    {
     "data": {
      "image/png": "[encoded data removed]",
      "text/plain": [
       "<Figure size 432x288 with 1 Axes>"
      ]
     },
     "metadata": {
      "needs_background": "light"
     },
     "output_type": "display_data"
    }
   ],
   "source": [
    "sns.distplot(total_upload.sample(10000), kde=True, rug=True)\n",
    "\n",
    "plt.title('Total Upload')"
   ]
  },
  {
   "cell_type": "markdown",
   "metadata": {},
   "source": [
    "Similar to the download plot, the upload plot also has a positive skew albeit tending towards a neutral leaning."
   ]
  },
  {
   "cell_type": "markdown",
   "metadata": {},
   "source": [
    "#### Bivariate Graphical Analysis\n",
    "\n",
    "Here, I will plot the applications data against the total data used (UL + DL) in a bivariate analysis. But to start with, I will compute UL+DL.\n",
    "\n",
    "In this analysis, I will be sampling only 1000 data for the scatter plots to enhance making insights after test running with 100 data points. "
   ]
  },
  {
   "cell_type": "code",
   "execution_count": 139,
   "metadata": {
    "ExecuteTime": {
     "end_time": "2020-07-28T13:21:46.798581Z",
     "start_time": "2020-07-28T13:21:46.393856Z"
    }
   },
   "outputs": [],
   "source": [
    "df['total_data'] = df['Total UL (Bytes)'] + df['Total DL (Bytes)']\n",
    "total_data = df.groupby('MSISDN/Number')['total_data'].sum()"
   ]
  },
  {
   "cell_type": "code",
   "execution_count": 167,
   "metadata": {
    "ExecuteTime": {
     "end_time": "2020-07-28T13:51:56.412410Z",
     "start_time": "2020-07-28T13:51:56.002646Z"
    }
   },
   "outputs": [
    {
     "data": {
      "text/plain": [
       "Text(0.5, 1.0, 'Social Media 100')"
      ]
     },
     "execution_count": 167,
     "metadata": {},
     "output_type": "execute_result"
    },
    {
     "data": {
      "image/png": "[encoded data removed]",
      "text/plain": [
       "<Figure size 432x288 with 1 Axes>"
      ]
     },
     "metadata": {
      "needs_background": "light"
     },
     "output_type": "display_data"
    }
   ],
   "source": [
    "#visualizing 100 data points for Social Media\n",
    "\n",
    "sns.regplot(x='total_sm', y='total_data', data=df.sample(100))\n",
    "plt.title('Social Media 100')"
   ]
  },
  {
   "cell_type": "code",
   "execution_count": 168,
   "metadata": {
    "ExecuteTime": {
     "end_time": "2020-07-28T13:52:02.633466Z",
     "start_time": "2020-07-28T13:52:02.120140Z"
    }
   },
   "outputs": [
    {
     "data": {
      "text/plain": [
       "Text(0.5, 1.0, 'Social Media 1000')"
      ]
     },
     "execution_count": 168,
     "metadata": {},
     "output_type": "execute_result"
    },
    {
     "data": {
      "image/png": "[encoded data removed]",
      "text/plain": [
       "<Figure size 432x288 with 1 Axes>"
      ]
     },
     "metadata": {
      "needs_background": "light"
     },
     "output_type": "display_data"
    }
   ],
   "source": [
    "#visualizing 1000 data points for Social Media\n",
    "\n",
    "sns.regplot(x='total_sm', y='total_data', data=df.sample(1000))\n",
    "\n",
    "plt.title('Social Media 1000')"
   ]
  },
  {
   "cell_type": "markdown",
   "metadata": {},
   "source": [
    "There is a no positive correlation between Social Media data and Total data as the data points are scattered. They clustered that is seen in in the 1000 data points is due to the high number and hence a facade."
   ]
  },
  {
   "cell_type": "code",
   "execution_count": 173,
   "metadata": {
    "ExecuteTime": {
     "end_time": "2020-07-28T13:59:07.159939Z",
     "start_time": "2020-07-28T13:59:06.941051Z"
    }
   },
   "outputs": [
    {
     "data": {
      "text/plain": [
       "Text(0.5, 1.0, 'Youtube Correlation')"
      ]
     },
     "execution_count": 173,
     "metadata": {},
     "output_type": "execute_result"
    },
    {
     "data": {
      "image/png": "[encoded data removed]",
      "text/plain": [
       "<Figure size 432x288 with 2 Axes>"
      ]
     },
     "metadata": {
      "needs_background": "light"
     },
     "output_type": "display_data"
    }
   ],
   "source": [
    "#visualizing relationship between Youtube data usage and total\n",
    "\n",
    "sns.heatmap(df[['total_youtube', 'total_data']].corr(), cmap=\"YlGnBu\", annot=True)\n",
    "plt.title('Youtube Correlation')"
   ]
  },
  {
   "cell_type": "markdown",
   "metadata": {},
   "source": [
    "With a correlation of 0.035, the correlation between the two columns is very low. Hence, the relationship between the total_data and youtube_data is weak."
   ]
  },
  {
   "cell_type": "code",
   "execution_count": 174,
   "metadata": {
    "ExecuteTime": {
     "end_time": "2020-07-28T14:01:24.593250Z",
     "start_time": "2020-07-28T14:01:24.128532Z"
    }
   },
   "outputs": [
    {
     "data": {
      "text/plain": [
       "Text(0.5, 1.0, 'Netflix 100')"
      ]
     },
     "execution_count": 174,
     "metadata": {},
     "output_type": "execute_result"
    },
    {
     "data": {
      "image/png": "[encoded data removed]",
      "text/plain": [
       "<Figure size 432x288 with 1 Axes>"
      ]
     },
     "metadata": {
      "needs_background": "light"
     },
     "output_type": "display_data"
    }
   ],
   "source": [
    "#visualizing 100 data points for Netflix\n",
    "\n",
    "sns.regplot(x='total_netflix', y='total_data', data=df.sample(100))\n",
    "plt.title('Netflix 100')"
   ]
  },
  {
   "cell_type": "code",
   "execution_count": 175,
   "metadata": {
    "ExecuteTime": {
     "end_time": "2020-07-28T14:01:52.602868Z",
     "start_time": "2020-07-28T14:01:51.981784Z"
    }
   },
   "outputs": [
    {
     "data": {
      "text/plain": [
       "Text(0.5, 1.0, 'Netflix 1000')"
      ]
     },
     "execution_count": 175,
     "metadata": {},
     "output_type": "execute_result"
    },
    {
     "data": {
      "image/png": "[encoded data removed]",
      "text/plain": [
       "<Figure size 432x288 with 1 Axes>"
      ]
     },
     "metadata": {
      "needs_background": "light"
     },
     "output_type": "display_data"
    }
   ],
   "source": [
    "#visualizing 1000 data points for Netflix\n",
    "\n",
    "sns.regplot(x='total_netflix', y='total_data', data=df.sample(1000))\n",
    "plt.title('Netflix 1000')"
   ]
  },
  {
   "cell_type": "markdown",
   "metadata": {},
   "source": [
    "Compared with the scatter plot for Social Media, the Netflix chart is more clustered supporting the notion that netflix users will use more data than is required for social media like Twitter, Facebook etc. "
   ]
  },
  {
   "cell_type": "code",
   "execution_count": 176,
   "metadata": {
    "ExecuteTime": {
     "end_time": "2020-07-28T14:03:55.033644Z",
     "start_time": "2020-07-28T14:03:54.816768Z"
    },
    "scrolled": true
   },
   "outputs": [
    {
     "data": {
      "text/plain": [
       "Text(0.5, 1.0, 'Google Correlation')"
      ]
     },
     "execution_count": 176,
     "metadata": {},
     "output_type": "execute_result"
    },
    {
     "data": {
      "image/png": "[encoded data removed]",
      "text/plain": [
       "<Figure size 432x288 with 2 Axes>"
      ]
     },
     "metadata": {
      "needs_background": "light"
     },
     "output_type": "display_data"
    }
   ],
   "source": [
    "#visualizing relationship between Google data usage and total\n",
    "\n",
    "sns.heatmap(df[['total_google', 'total_data']].corr(), annot=True)\n",
    "plt.title('Google Correlation')"
   ]
  },
  {
   "cell_type": "markdown",
   "metadata": {},
   "source": [
    "The correlation value for Google applications is even more lower than was seen for Youtube. This is because Google applications are mostly low weight (in terms of data requirement) and youtube is a video based platform."
   ]
  },
  {
   "cell_type": "code",
   "execution_count": 177,
   "metadata": {
    "ExecuteTime": {
     "end_time": "2020-07-28T14:08:41.879991Z",
     "start_time": "2020-07-28T14:08:41.507191Z"
    },
    "code_folding": []
   },
   "outputs": [
    {
     "data": {
      "text/plain": [
       "Text(0.5, 1.0, 'Email 100')"
      ]
     },
     "execution_count": 177,
     "metadata": {},
     "output_type": "execute_result"
    },
    {
     "data": {
      "image/png": "[encoded data removed]",
      "text/plain": [
       "<Figure size 432x288 with 1 Axes>"
      ]
     },
     "metadata": {
      "needs_background": "light"
     },
     "output_type": "display_data"
    }
   ],
   "source": [
    "#visualizing 100 data points for Email\n",
    "\n",
    "sns.regplot(x='total_email', y='total_data', data=df.sample(100))\n",
    "plt.title('Email 100')"
   ]
  },
  {
   "cell_type": "code",
   "execution_count": 178,
   "metadata": {
    "ExecuteTime": {
     "end_time": "2020-07-28T14:09:20.452285Z",
     "start_time": "2020-07-28T14:09:19.680965Z"
    }
   },
   "outputs": [
    {
     "data": {
      "text/plain": [
       "Text(0.5, 1.0, 'Email 1000')"
      ]
     },
     "execution_count": 178,
     "metadata": {},
     "output_type": "execute_result"
    },
    {
     "data": {
      "image/png": "[encoded data removed]",
      "text/plain": [
       "<Figure size 432x288 with 1 Axes>"
      ]
     },
     "metadata": {
      "needs_background": "light"
     },
     "output_type": "display_data"
    }
   ],
   "source": [
    "#visualizing 1000 data points for Email\n",
    "\n",
    "sns.regplot(x='total_email', y='total_data', data=df.sample(1000))\n",
    "plt.title('Email 1000')"
   ]
  },
  {
   "cell_type": "markdown",
   "metadata": {},
   "source": [
    "Expectedly, the Email applications have very little correlation with the Total data since they contribute so little to the overall data that is being used by users."
   ]
  },
  {
   "cell_type": "code",
   "execution_count": 180,
   "metadata": {
    "ExecuteTime": {
     "end_time": "2020-07-28T14:25:06.904473Z",
     "start_time": "2020-07-28T14:25:06.630630Z"
    }
   },
   "outputs": [
    {
     "data": {
      "text/plain": [
       "Text(0.5, 1.0, 'Gaming Correlation')"
      ]
     },
     "execution_count": 180,
     "metadata": {},
     "output_type": "execute_result"
    },
    {
     "data": {
      "image/png": "[encoded data removed]",
      "text/plain": [
       "<Figure size 432x288 with 2 Axes>"
      ]
     },
     "metadata": {
      "needs_background": "light"
     },
     "output_type": "display_data"
    }
   ],
   "source": [
    "#visualizing relationship between Gaming data usage and total\n",
    "\n",
    "sns.heatmap(df[['total_gaming', 'total_data']].corr(), cmap=\"YlGnBu\", annot=True)\n",
    "plt.title('Gaming Correlation')"
   ]
  },
  {
   "cell_type": "code",
   "execution_count": 183,
   "metadata": {
    "ExecuteTime": {
     "end_time": "2020-07-28T14:50:36.066237Z",
     "start_time": "2020-07-28T14:50:35.405182Z"
    }
   },
   "outputs": [
    {
     "data": {
      "text/plain": [
       "Text(0.5, 1.0, 'Gaming 1000')"
      ]
     },
     "execution_count": 183,
     "metadata": {},
     "output_type": "execute_result"
    },
    {
     "data": {
      "image/png": "[encoded data removed]",
      "text/plain": [
       "<Figure size 432x288 with 1 Axes>"
      ]
     },
     "metadata": {
      "needs_background": "light"
     },
     "output_type": "display_data"
    }
   ],
   "source": [
    "#To confirm the perfect correlation of Gaming apps\n",
    "\n",
    "sns.regplot(x='total_gaming', y='total_data', data=df.sample(1000))\n",
    "plt.title('Gaming 1000')"
   ]
  },
  {
   "cell_type": "markdown",
   "metadata": {},
   "source": [
    "The gaming data has a perfect correlation with the total data the users use. This implies that the majority of the data usage is on the gaming apps and this makes perfect sense as video games are more data consuming. "
   ]
  },
  {
   "cell_type": "code",
   "execution_count": 184,
   "metadata": {
    "ExecuteTime": {
     "end_time": "2020-07-28T14:50:51.438644Z",
     "start_time": "2020-07-28T14:50:51.198783Z"
    }
   },
   "outputs": [
    {
     "data": {
      "text/plain": [
       "Text(0.5, 1.0, 'Other Correlation')"
      ]
     },
     "execution_count": 184,
     "metadata": {},
     "output_type": "execute_result"
    },
    {
     "data": {
      "image/png": "[encoded data removed]",
      "text/plain": [
       "<Figure size 432x288 with 2 Axes>"
      ]
     },
     "metadata": {
      "needs_background": "light"
     },
     "output_type": "display_data"
    }
   ],
   "source": [
    "#visualizing relationship between Other data usage and total\n",
    "\n",
    "sns.heatmap(df[['total_other', 'total_data']].corr(), cmap=\"YlGnBu\", annot=True)\n",
    "plt.title('Other Correlation')"
   ]
  },
  {
   "cell_type": "markdown",
   "metadata": {},
   "source": [
    "The correlation for Other apps is the lowest and there is so little comments that can be said here since I do not know the sets of apps that make up this category. But definitely, they contribute little to the total_data usage."
   ]
  }
 ],
 "metadata": {
  "kernelspec": {
   "display_name": "Python 3",
   "language": "python",
   "name": "python3"
  },
  "language_info": {
   "codemirror_mode": {
    "name": "ipython",
    "version": 3
   },
   "file_extension": ".py",
   "mimetype": "text/x-python",
   "name": "python",
   "nbconvert_exporter": "python",
   "pygments_lexer": "ipython3",
   "version": "3.7.1"
  }
 },
 "nbformat": 4,
 "nbformat_minor": 2
}
