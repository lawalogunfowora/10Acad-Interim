{
 "cells": [
  {
   "cell_type": "markdown",
   "metadata": {},
   "source": [
    "* **ID: 726832020**\n",
    "* **Email: Lawal1998@yahoo.com** "
   ]
  },
  {
   "cell_type": "markdown",
   "metadata": {
    "heading_collapsed": true
   },
   "source": [
    "# Web Scraping Challenge\n",
    "In this project, I will scrape data from several web pages to make Identify influencer's rank position on Twitter. Some of the site I will be using to obtain the data are:\n",
    "* [100 most influential Twitter users in Africa](https://africafreak.com/100-most-influential-twitter-users-in-africa)\n",
    "* [African leaders respond to coronavirus… on Twitter](https://www.atlanticcouncil.org/blogs/africasource/african-leaders-respond-to-coronavirus-on-twitter/#east-africa)\n",
    "* [Top 18 African Heads of State on Twitter: it’s a mixed bag](https://enitiate.solutions/top-18-african-heads-of-states-on-twitter/)\n"
   ]
  },
  {
   "cell_type": "code",
   "execution_count": 1,
   "metadata": {
    "ExecuteTime": {
     "end_time": "2020-07-16T17:57:28.822893Z",
     "start_time": "2020-07-16T17:57:00.008904Z"
    },
    "hidden": true
   },
   "outputs": [
    {
     "name": "stdout",
     "output_type": "stream",
     "text": [
      "Requirement already satisfied: requests in c:\\users\\owner\\anaconda3\\lib\\site-packages (2.21.0)\n",
      "Requirement already satisfied: BeautifulSoup4 in c:\\users\\owner\\anaconda3\\lib\\site-packages (4.6.3)\n",
      "Requirement already satisfied: fire in c:\\users\\owner\\anaconda3\\lib\\site-packages (0.3.1)\n",
      "Requirement already satisfied: idna<2.9,>=2.5 in c:\\users\\owner\\anaconda3\\lib\\site-packages (from requests) (2.8)\n",
      "Requirement already satisfied: certifi>=2017.4.17 in c:\\users\\owner\\anaconda3\\lib\\site-packages (from requests) (2020.6.20)\n",
      "Requirement already satisfied: chardet<3.1.0,>=3.0.2 in c:\\users\\owner\\anaconda3\\lib\\site-packages (from requests) (3.0.4)\n",
      "Requirement already satisfied: urllib3<1.25,>=1.21.1 in c:\\users\\owner\\anaconda3\\lib\\site-packages (from requests) (1.24.1)\n",
      "Requirement already satisfied: six in c:\\users\\owner\\anaconda3\\lib\\site-packages (from fire) (1.12.0)\n",
      "Requirement already satisfied: termcolor in c:\\users\\owner\\anaconda3\\lib\\site-packages (from fire) (1.1.0)\n"
     ]
    }
   ],
   "source": [
    "# Installing and importing neccesary packages\n",
    "!pip install requests BeautifulSoup4 fire\n",
    "\n",
    "import pandas as pd\n",
    "import numpy as np\n",
    "import matplotlib.pyplot as plt\n",
    "import seaborn as sns\n",
    "%matplotlib inline\n",
    "\n",
    "from urllib.request import urlopen\n",
    "from bs4 import BeautifulSoup"
   ]
  },
  {
   "cell_type": "code",
   "execution_count": 2,
   "metadata": {
    "ExecuteTime": {
     "end_time": "2020-07-16T17:57:29.315827Z",
     "start_time": "2020-07-16T17:57:28.830884Z"
    },
    "hidden": true
   },
   "outputs": [],
   "source": [
    "from requests import get\n",
    "from requests.exceptions import RequestException\n",
    "from contextlib import closing\n",
    "from bs4 import BeautifulSoup\n",
    "import pandas as pd\n",
    "import os, sys\n",
    "\n",
    "import fire"
   ]
  },
  {
   "cell_type": "markdown",
   "metadata": {
    "hidden": true
   },
   "source": [
    "## Hundred Most Influential Twitter Users in Africa\n",
    "\n",
    "In the next series of cells, I will be scraping the Name and Twitter handle of the 100 most influential users in Africa according to the website provided in [100 most influential Twitter users in Africa](https://africafreak.com/100-most-influential-twitter-users-in-africa). This website uses three key metrics to find the top 100 influencers:\n",
    "\n",
    "* Popularity (Retweet Influence): measured by the number of Retweets and Likes users get \n",
    "* Reach (Indegree Influence): measured by the size of their audience \n",
    "* Relevance (Mentions Influence): measured by the relevancy of their content\n",
    " "
   ]
  },
  {
   "cell_type": "code",
   "execution_count": 3,
   "metadata": {
    "ExecuteTime": {
     "end_time": "2020-07-16T17:57:35.341719Z",
     "start_time": "2020-07-16T17:57:29.317774Z"
    },
    "hidden": true,
    "scrolled": false
   },
   "outputs": [],
   "source": [
    "#getting the html page\n",
    "\n",
    "url = \"https://africafreak.com/100-most-influential-twitter-users-in-africa\"\n",
    "html = urlopen(url)"
   ]
  },
  {
   "cell_type": "code",
   "execution_count": 281,
   "metadata": {
    "ExecuteTime": {
     "end_time": "2020-07-19T10:23:33.756782Z",
     "start_time": "2020-07-19T10:23:33.726802Z"
    },
    "hidden": true
   },
   "outputs": [],
   "source": [
    "# #converting the html to a BeautifulSoup object\n",
    "soup_obj = BeautifulSoup(html, 'lxml')\n",
    "\n",
    "#extracting the needed headers\n",
    "headers_30 = [i.text for i in soup_obj.findAll(\"h2\") if '@' in i.text]"
   ]
  },
  {
   "cell_type": "code",
   "execution_count": 5,
   "metadata": {
    "ExecuteTime": {
     "end_time": "2020-07-16T17:57:36.311163Z",
     "start_time": "2020-07-16T17:57:36.292174Z"
    },
    "hidden": true
   },
   "outputs": [
    {
     "data": {
      "text/plain": [
       "[['100', ' Jeffrey Gettleman '],\n",
       " ['99', ' Africa24 Media '],\n",
       " ['98', ' Scapegoat '],\n",
       " ['97', ' Africa Check '],\n",
       " ['96', ' James Copnall '],\n",
       " ['95', ' Online Africa '],\n",
       " ['94', ' Patrick Ngowi '],\n",
       " ['93', ' DOS African Affairs '],\n",
       " ['92', ' MoadowAJE '],\n",
       " ['91', ' Brendan Boyle ']]"
      ]
     },
     "execution_count": 5,
     "metadata": {},
     "output_type": "execute_result"
    }
   ],
   "source": [
    "#Cleaning the Data\n",
    "\n",
    "names = []\n",
    "handle = []\n",
    "for i in headers_30:\n",
    "    i = i.split('(')\n",
    "    i[0] = i[0].split('.')\n",
    "    handle.append(i[1].replace(')', ''))\n",
    "    names.append(i[0])\n",
    "    \n",
    "names[:10]  #Cleaned name and position data"
   ]
  },
  {
   "cell_type": "code",
   "execution_count": 6,
   "metadata": {
    "ExecuteTime": {
     "end_time": "2020-07-16T17:57:36.422100Z",
     "start_time": "2020-07-16T17:57:36.313162Z"
    },
    "hidden": true
   },
   "outputs": [],
   "source": [
    "for i in names:     #removing extra spaces in the name\n",
    "    i[1] = i[1].strip()"
   ]
  },
  {
   "cell_type": "code",
   "execution_count": 7,
   "metadata": {
    "ExecuteTime": {
     "end_time": "2020-07-16T17:57:36.518046Z",
     "start_time": "2020-07-16T17:57:36.424097Z"
    },
    "hidden": true
   },
   "outputs": [
    {
     "data": {
      "text/plain": [
       "[['100', 'Jeffrey Gettleman'],\n",
       " ['99', 'Africa24 Media'],\n",
       " ['98', 'Scapegoat'],\n",
       " ['97', 'Africa Check'],\n",
       " ['96', 'James Copnall'],\n",
       " ['95', 'Online Africa'],\n",
       " ['94', 'Patrick Ngowi'],\n",
       " ['93', 'DOS African Affairs'],\n",
       " ['92', 'MoadowAJE'],\n",
       " ['91', 'Brendan Boyle']]"
      ]
     },
     "execution_count": 7,
     "metadata": {},
     "output_type": "execute_result"
    }
   ],
   "source": [
    "names[:10]"
   ]
  },
  {
   "cell_type": "code",
   "execution_count": 8,
   "metadata": {
    "ExecuteTime": {
     "end_time": "2020-07-16T17:57:36.602994Z",
     "start_time": "2020-07-16T17:57:36.520045Z"
    },
    "hidden": true
   },
   "outputs": [
    {
     "data": {
      "text/plain": [
       "['@gettleman',\n",
       " '@a24media',\n",
       " '@andiMakinana',\n",
       " '@AfricaCheck',\n",
       " '@JamesCopnall',\n",
       " '@oafrica',\n",
       " '@PatrickNgowi',\n",
       " '@StateAfrica',\n",
       " '@Moadow',\n",
       " '@BrendanSAfrica']"
      ]
     },
     "execution_count": 8,
     "metadata": {},
     "output_type": "execute_result"
    }
   ],
   "source": [
    "handle[:10]   #cleaned influencer twitter handle "
   ]
  },
  {
   "cell_type": "code",
   "execution_count": 9,
   "metadata": {
    "ExecuteTime": {
     "end_time": "2020-07-16T17:57:37.240950Z",
     "start_time": "2020-07-16T17:57:36.605992Z"
    },
    "hidden": true,
    "scrolled": true
   },
   "outputs": [
    {
     "data": {
      "text/html": [
       "<div>\n",
       "<style scoped>\n",
       "    .dataframe tbody tr th:only-of-type {\n",
       "        vertical-align: middle;\n",
       "    }\n",
       "\n",
       "    .dataframe tbody tr th {\n",
       "        vertical-align: top;\n",
       "    }\n",
       "\n",
       "    .dataframe thead th {\n",
       "        text-align: right;\n",
       "    }\n",
       "</style>\n",
       "<table border=\"1\" class=\"dataframe\">\n",
       "  <thead>\n",
       "    <tr style=\"text-align: right;\">\n",
       "      <th></th>\n",
       "      <th>Position</th>\n",
       "      <th>Name</th>\n",
       "      <th>Handle</th>\n",
       "    </tr>\n",
       "  </thead>\n",
       "  <tbody>\n",
       "    <tr>\n",
       "      <th>0</th>\n",
       "      <td>1</td>\n",
       "      <td>Trevor Noah</td>\n",
       "      <td>@Trevornoah</td>\n",
       "    </tr>\n",
       "    <tr>\n",
       "      <th>1</th>\n",
       "      <td>2</td>\n",
       "      <td>Gareth Cliff</td>\n",
       "      <td>@GarethCliff</td>\n",
       "    </tr>\n",
       "    <tr>\n",
       "      <th>2</th>\n",
       "      <td>3</td>\n",
       "      <td>Jacob G</td>\n",
       "      <td>@SAPresident</td>\n",
       "    </tr>\n",
       "    <tr>\n",
       "      <th>3</th>\n",
       "      <td>4</td>\n",
       "      <td>News24</td>\n",
       "      <td>@News24</td>\n",
       "    </tr>\n",
       "    <tr>\n",
       "      <th>4</th>\n",
       "      <td>5</td>\n",
       "      <td>Julius Sello Malema</td>\n",
       "      <td>@Julius_S_Malema</td>\n",
       "    </tr>\n",
       "    <tr>\n",
       "      <th>5</th>\n",
       "      <td>6</td>\n",
       "      <td>Helen Zille</td>\n",
       "      <td>@helenzille</td>\n",
       "    </tr>\n",
       "    <tr>\n",
       "      <th>6</th>\n",
       "      <td>7</td>\n",
       "      <td>mailandguardian</td>\n",
       "      <td>@mailandguardian</td>\n",
       "    </tr>\n",
       "    <tr>\n",
       "      <th>7</th>\n",
       "      <td>8</td>\n",
       "      <td>5FM</td>\n",
       "      <td>@5FM</td>\n",
       "    </tr>\n",
       "    <tr>\n",
       "      <th>8</th>\n",
       "      <td>9</td>\n",
       "      <td>loyiso gola</td>\n",
       "      <td>@loyisogola</td>\n",
       "    </tr>\n",
       "    <tr>\n",
       "      <th>9</th>\n",
       "      <td>10</td>\n",
       "      <td>Computicket</td>\n",
       "      <td>@Computicket</td>\n",
       "    </tr>\n",
       "  </tbody>\n",
       "</table>\n",
       "</div>"
      ],
      "text/plain": [
       "   Position                 Name            Handle\n",
       "0         1          Trevor Noah       @Trevornoah\n",
       "1         2         Gareth Cliff      @GarethCliff\n",
       "2         3              Jacob G      @SAPresident\n",
       "3         4               News24           @News24\n",
       "4         5  Julius Sello Malema  @Julius_S_Malema\n",
       "5         6          Helen Zille       @helenzille\n",
       "6         7      mailandguardian  @mailandguardian\n",
       "7         8                  5FM              @5FM\n",
       "8         9          loyiso gola       @loyisogola\n",
       "9        10          Computicket      @Computicket"
      ]
     },
     "execution_count": 9,
     "metadata": {},
     "output_type": "execute_result"
    }
   ],
   "source": [
    "#presenting as a DataFrame\n",
    "\n",
    "pd_name = pd.DataFrame(names, columns=['Position', 'Name', 'Trailing'])\n",
    "del pd_name['Trailing']\n",
    "\n",
    "mod_pd = pd_name.apply(lambda x: x.astype(int) if x.name == 'Position' else x)\n",
    "mod_pd[\"Handle\"] = handle      #adding the handle as a column\n",
    "# pd_0.set_index('Position', inplace=True)\n",
    "\n",
    "mod_pd.sort_values(by=['Position'], inplace=True)\n",
    "\n",
    "mod_pd.reset_index(drop=True, inplace=True)\n",
    "\n",
    "mod_pd.head(10)    #pandas DataFrame of the influencers and their handles."
   ]
  },
  {
   "cell_type": "code",
   "execution_count": 10,
   "metadata": {
    "ExecuteTime": {
     "end_time": "2020-07-16T17:57:37.348888Z",
     "start_time": "2020-07-16T17:57:37.245947Z"
    },
    "hidden": true
   },
   "outputs": [],
   "source": [
    "mod_pd.to_csv('cleaned_influencers.csv')     #saving the cleaned influencer list"
   ]
  },
  {
   "cell_type": "markdown",
   "metadata": {
    "hidden": true
   },
   "source": [
    "``\n",
    "Above, I scrapped the top 100 Twitter in Africa, cleaned the data, presented it in a DataFrame format and finally saved it as a csv file: cleaned_influencers.csv\n",
    "``"
   ]
  },
  {
   "cell_type": "markdown",
   "metadata": {
    "ExecuteTime": {
     "end_time": "2020-07-14T21:41:39.354192Z",
     "start_time": "2020-07-14T21:41:38.403961Z"
    },
    "heading_collapsed": true,
    "hidden": true,
    "scrolled": false
   },
   "source": [
    "## Top African Government Official\n",
    "In this section, I will be scrapping [African leaders respond to coronavirus… on Twitter](https://www.atlanticcouncil.org/blogs/africasource/african-leaders-respond-to-coronavirus-on-twitter/#east-africa) to obtain the account of influencial African leaders."
   ]
  },
  {
   "cell_type": "code",
   "execution_count": 11,
   "metadata": {
    "ExecuteTime": {
     "end_time": "2020-07-16T17:57:37.623729Z",
     "start_time": "2020-07-16T17:57:37.350886Z"
    },
    "hidden": true
   },
   "outputs": [],
   "source": [
    "def simple_get(url):\n",
    "    \"\"\"\n",
    "    Attempts to get the content at `url` by making an HTTP GET request.\n",
    "    If the content-type of response is some kind of HTML/XML, return the\n",
    "    text content, otherwise return None.\n",
    "    \"\"\"\n",
    "    try:\n",
    "        with closing(get(url, stream=True)) as resp:\n",
    "            if is_good_response(resp):\n",
    "                return resp.content  #.encode(BeautifulSoup.original_encoding)\n",
    "            else:\n",
    "                return None\n",
    "\n",
    "    except RequestException as e:\n",
    "        log_error('Error during requests to {0} : {1}'.format(url, str(e)))\n",
    "        return None\n",
    "\n",
    "\n",
    "def is_good_response(resp):\n",
    "    \"\"\"\n",
    "    Returns True if the response seems to be HTML, False otherwise.\n",
    "    \"\"\"\n",
    "    content_type = resp.headers['Content-Type'].lower()\n",
    "    return (resp.status_code == 200 \n",
    "            and content_type is not None \n",
    "            and content_type.find('html') > -1)\n",
    "\n",
    "\n",
    "def log_error(e):\n",
    "    \"\"\"\n",
    "    It is always a good idea to log errors. \n",
    "    This function just prints them, but you can\n",
    "    make it do anything.\n",
    "    \"\"\"\n",
    "    print(e)\n",
    "    \n",
    "def get_elements(url, tag='',search={}, fname=None):\n",
    "    \"\"\"\n",
    "    Downloads a page specified by the url parameter\n",
    "    and returns a list of strings, one per tag element\n",
    "    \"\"\"\n",
    "    \n",
    "    if isinstance(url,str):\n",
    "        response = simple_get(url)\n",
    "    else:\n",
    "        #if already it is a loaded html page\n",
    "        response = url\n",
    "\n",
    "    if response is not None:\n",
    "        html = BeautifulSoup(response, 'html.parser')\n",
    "        \n",
    "        res = []\n",
    "        if tag:    \n",
    "            for li in html.select(tag):\n",
    "                for name in li.text.split('\\n'):\n",
    "                    if len(name) > 0:\n",
    "                        res.append(name.strip())\n",
    "                       \n",
    "                \n",
    "        if search:\n",
    "            soup = html            \n",
    "            \n",
    "            \n",
    "            r = ''\n",
    "            if 'find' in search.keys():\n",
    "                print('findaing',search['find'])\n",
    "                soup = soup.find(**search['find'])\n",
    "                r = soup\n",
    "\n",
    "                \n",
    "            if 'find_all' in search.keys():\n",
    "                print('findaing all of',search['find_all'])\n",
    "                r = soup.find_all(**search['find_all'])\n",
    "   \n",
    "            if r:\n",
    "                for x in list(r):\n",
    "                    if len(x) > 0:\n",
    "                        res.extend(x)\n",
    "            \n",
    "        return res\n",
    "\n",
    "    # Raise an exception if we failed to get any data from the url\n",
    "    raise Exception('Error retrieving contents at {}'.format(url))    \n",
    "    \n",
    "    \n",
    "if get_ipython().__class__.__name__ == '__main__':\n",
    "    fire(get_tag_elements)"
   ]
  },
  {
   "cell_type": "code",
   "execution_count": 12,
   "metadata": {
    "ExecuteTime": {
     "end_time": "2020-07-16T17:57:39.107645Z",
     "start_time": "2020-07-16T17:57:37.627728Z"
    },
    "hidden": true
   },
   "outputs": [],
   "source": [
    "url= 'https://www.atlanticcouncil.org/blogs/africasource/african-leaders-respond-to-coronavirus-on-twitter/#east-africa'\n",
    "response = simple_get(url)"
   ]
  },
  {
   "cell_type": "code",
   "execution_count": 278,
   "metadata": {
    "ExecuteTime": {
     "end_time": "2020-07-19T10:22:25.784578Z",
     "start_time": "2020-07-19T10:22:25.781580Z"
    },
    "hidden": true,
    "scrolled": true
   },
   "outputs": [],
   "source": [
    "res = get_elements(response, search={'find_all':{'class_':'wp-block-embed__wrapper'}})"
   ]
  },
  {
   "cell_type": "code",
   "execution_count": 276,
   "metadata": {
    "ExecuteTime": {
     "end_time": "2020-07-19T10:21:27.545318Z",
     "start_time": "2020-07-19T10:21:27.533329Z"
    },
    "hidden": true,
    "scrolled": true
   },
   "outputs": [],
   "source": [
    "# #converting res to string\n",
    "\n",
    "list_str = str(res)"
   ]
  },
  {
   "cell_type": "code",
   "execution_count": 1,
   "metadata": {
    "ExecuteTime": {
     "end_time": "2020-07-19T10:34:02.089648Z",
     "start_time": "2020-07-19T10:34:02.084650Z"
    },
    "hidden": true
   },
   "outputs": [],
   "source": [
    "list_str = list_str.split('<blockquote')  # spliting at the blockquote since that is the point where each account can be extracted"
   ]
  },
  {
   "cell_type": "code",
   "execution_count": 17,
   "metadata": {
    "ExecuteTime": {
     "end_time": "2020-07-16T17:57:39.713258Z",
     "start_time": "2020-07-16T17:57:39.560345Z"
    },
    "hidden": true
   },
   "outputs": [
    {
     "data": {
      "text/html": [
       "<div>\n",
       "<style scoped>\n",
       "    .dataframe tbody tr th:only-of-type {\n",
       "        vertical-align: middle;\n",
       "    }\n",
       "\n",
       "    .dataframe tbody tr th {\n",
       "        vertical-align: top;\n",
       "    }\n",
       "\n",
       "    .dataframe thead th {\n",
       "        text-align: right;\n",
       "    }\n",
       "</style>\n",
       "<table border=\"1\" class=\"dataframe\">\n",
       "  <thead>\n",
       "    <tr style=\"text-align: right;\">\n",
       "      <th></th>\n",
       "      <th>0</th>\n",
       "    </tr>\n",
       "  </thead>\n",
       "  <tbody>\n",
       "    <tr>\n",
       "      <th>0</th>\n",
       "      <td>NaN</td>\n",
       "    </tr>\n",
       "    <tr>\n",
       "      <th>1</th>\n",
       "      <td>@EswatiniGovern1</td>\n",
       "    </tr>\n",
       "    <tr>\n",
       "      <th>2</th>\n",
       "      <td>@MalawiGovt</td>\n",
       "    </tr>\n",
       "    <tr>\n",
       "      <th>3</th>\n",
       "      <td>@hagegeingob</td>\n",
       "    </tr>\n",
       "    <tr>\n",
       "      <th>4</th>\n",
       "      <td>@FinanceSC</td>\n",
       "    </tr>\n",
       "    <tr>\n",
       "      <th>5</th>\n",
       "      <td>@PresidencyZA</td>\n",
       "    </tr>\n",
       "    <tr>\n",
       "      <th>6</th>\n",
       "      <td>@mohzambia</td>\n",
       "    </tr>\n",
       "    <tr>\n",
       "      <th>7</th>\n",
       "      <td>@edmnangagwa</td>\n",
       "    </tr>\n",
       "    <tr>\n",
       "      <th>8</th>\n",
       "      <td>@MinSantedj</td>\n",
       "    </tr>\n",
       "    <tr>\n",
       "      <th>9</th>\n",
       "      <td>@hawelti</td>\n",
       "    </tr>\n",
       "    <tr>\n",
       "      <th>10</th>\n",
       "      <td>@StateHouseKenya</td>\n",
       "    </tr>\n",
       "    <tr>\n",
       "      <th>11</th>\n",
       "      <td>@PaulKagame</td>\n",
       "    </tr>\n",
       "    <tr>\n",
       "      <th>12</th>\n",
       "      <td>@M_Farmaajo</td>\n",
       "    </tr>\n",
       "    <tr>\n",
       "      <th>13</th>\n",
       "      <td>@SouthSudanGov</td>\n",
       "    </tr>\n",
       "    <tr>\n",
       "      <th>14</th>\n",
       "      <td>@SudanPMHamdok</td>\n",
       "    </tr>\n",
       "    <tr>\n",
       "      <th>15</th>\n",
       "      <td>@TZSpokesperson</td>\n",
       "    </tr>\n",
       "    <tr>\n",
       "      <th>16</th>\n",
       "      <td>@KagutaMuseveni</td>\n",
       "    </tr>\n",
       "    <tr>\n",
       "      <th>17</th>\n",
       "      <td>@angola_Mirex</td>\n",
       "    </tr>\n",
       "    <tr>\n",
       "      <th>18</th>\n",
       "      <td>@willynyamitwe</td>\n",
       "    </tr>\n",
       "    <tr>\n",
       "      <th>19</th>\n",
       "      <td>@Cherif_MZ</td>\n",
       "    </tr>\n",
       "  </tbody>\n",
       "</table>\n",
       "</div>"
      ],
      "text/plain": [
       "                   0\n",
       "0                NaN\n",
       "1   @EswatiniGovern1\n",
       "2        @MalawiGovt\n",
       "3       @hagegeingob\n",
       "4         @FinanceSC\n",
       "5      @PresidencyZA\n",
       "6         @mohzambia\n",
       "7       @edmnangagwa\n",
       "8        @MinSantedj\n",
       "9           @hawelti\n",
       "10  @StateHouseKenya\n",
       "11       @PaulKagame\n",
       "12       @M_Farmaajo\n",
       "13    @SouthSudanGov\n",
       "14    @SudanPMHamdok\n",
       "15   @TZSpokesperson\n",
       "16   @KagutaMuseveni\n",
       "17     @angola_Mirex\n",
       "18    @willynyamitwe\n",
       "19        @Cherif_MZ"
      ]
     },
     "execution_count": 17,
     "metadata": {},
     "output_type": "execute_result"
    }
   ],
   "source": [
    "import re\n",
    "\n",
    "series_list = pd.Series(list_str)    #converting the list Series format\n",
    "pattern = r\"\\((@.+)\\)\"\n",
    "\n",
    "new_list = series_list.str.extract(pattern)\n",
    "\n",
    "new_list.head(20)"
   ]
  },
  {
   "cell_type": "markdown",
   "metadata": {
    "hidden": true
   },
   "source": [
    "So, apparently the data has some NaN values which we would have to drop. I will do that in the next cell, then save the file as a csv format. "
   ]
  },
  {
   "cell_type": "code",
   "execution_count": 18,
   "metadata": {
    "ExecuteTime": {
     "end_time": "2020-07-16T17:57:39.963114Z",
     "start_time": "2020-07-16T17:57:39.721254Z"
    },
    "hidden": true
   },
   "outputs": [],
   "source": [
    "new_list.dropna(inplace=True)    #dropping NaN\n",
    "\n",
    "new_list.columns = ['Handles']    #renaming the column"
   ]
  },
  {
   "cell_type": "code",
   "execution_count": 28,
   "metadata": {
    "ExecuteTime": {
     "end_time": "2020-07-16T17:59:32.507744Z",
     "start_time": "2020-07-16T17:59:32.495751Z"
    },
    "hidden": true
   },
   "outputs": [
    {
     "data": {
      "text/html": [
       "<div>\n",
       "<style scoped>\n",
       "    .dataframe tbody tr th:only-of-type {\n",
       "        vertical-align: middle;\n",
       "    }\n",
       "\n",
       "    .dataframe tbody tr th {\n",
       "        vertical-align: top;\n",
       "    }\n",
       "\n",
       "    .dataframe thead th {\n",
       "        text-align: right;\n",
       "    }\n",
       "</style>\n",
       "<table border=\"1\" class=\"dataframe\">\n",
       "  <thead>\n",
       "    <tr style=\"text-align: right;\">\n",
       "      <th></th>\n",
       "      <th>Handles</th>\n",
       "    </tr>\n",
       "  </thead>\n",
       "  <tbody>\n",
       "    <tr>\n",
       "      <th>1</th>\n",
       "      <td>@EswatiniGovern1</td>\n",
       "    </tr>\n",
       "    <tr>\n",
       "      <th>2</th>\n",
       "      <td>@MalawiGovt</td>\n",
       "    </tr>\n",
       "    <tr>\n",
       "      <th>3</th>\n",
       "      <td>@hagegeingob</td>\n",
       "    </tr>\n",
       "    <tr>\n",
       "      <th>4</th>\n",
       "      <td>@FinanceSC</td>\n",
       "    </tr>\n",
       "    <tr>\n",
       "      <th>5</th>\n",
       "      <td>@PresidencyZA</td>\n",
       "    </tr>\n",
       "    <tr>\n",
       "      <th>6</th>\n",
       "      <td>@mohzambia</td>\n",
       "    </tr>\n",
       "    <tr>\n",
       "      <th>7</th>\n",
       "      <td>@edmnangagwa</td>\n",
       "    </tr>\n",
       "    <tr>\n",
       "      <th>8</th>\n",
       "      <td>@MinSantedj</td>\n",
       "    </tr>\n",
       "    <tr>\n",
       "      <th>9</th>\n",
       "      <td>@hawelti</td>\n",
       "    </tr>\n",
       "    <tr>\n",
       "      <th>10</th>\n",
       "      <td>@StateHouseKenya</td>\n",
       "    </tr>\n",
       "  </tbody>\n",
       "</table>\n",
       "</div>"
      ],
      "text/plain": [
       "             Handles\n",
       "1   @EswatiniGovern1\n",
       "2        @MalawiGovt\n",
       "3       @hagegeingob\n",
       "4         @FinanceSC\n",
       "5      @PresidencyZA\n",
       "6         @mohzambia\n",
       "7       @edmnangagwa\n",
       "8        @MinSantedj\n",
       "9           @hawelti\n",
       "10  @StateHouseKenya"
      ]
     },
     "execution_count": 28,
     "metadata": {},
     "output_type": "execute_result"
    }
   ],
   "source": [
    "new_list.head(10)"
   ]
  },
  {
   "cell_type": "code",
   "execution_count": 29,
   "metadata": {
    "ExecuteTime": {
     "end_time": "2020-07-16T17:59:37.246574Z",
     "start_time": "2020-07-16T17:59:37.240564Z"
    },
    "hidden": true
   },
   "outputs": [
    {
     "data": {
      "text/plain": [
       "36"
      ]
     },
     "execution_count": 29,
     "metadata": {},
     "output_type": "execute_result"
    }
   ],
   "source": [
    "len(new_list)   #the number of handles recovered"
   ]
  },
  {
   "cell_type": "code",
   "execution_count": 30,
   "metadata": {
    "ExecuteTime": {
     "end_time": "2020-07-16T17:59:40.891381Z",
     "start_time": "2020-07-16T17:59:40.882374Z"
    },
    "hidden": true
   },
   "outputs": [],
   "source": [
    "new_list.to_csv('african_leaders.csv')     #saving the series as a csv"
   ]
  },
  {
   "cell_type": "markdown",
   "metadata": {
    "heading_collapsed": true,
    "hidden": true
   },
   "source": [
    "## Analyzing Influencers and Government Officials Tweets\n",
    "\n",
    "In the next couple of cells, I will be extracting the tweets of  tweets posted by all the 100 influencers and top government officials using tweepy."
   ]
  },
  {
   "cell_type": "code",
   "execution_count": 31,
   "metadata": {
    "ExecuteTime": {
     "end_time": "2020-07-16T17:59:46.637633Z",
     "start_time": "2020-07-16T17:59:46.627639Z"
    },
    "hidden": true
   },
   "outputs": [
    {
     "name": "stderr",
     "output_type": "stream",
     "text": [
      "[nltk_data] Downloading package punkt to\n",
      "[nltk_data]     C:\\Users\\OWNER\\AppData\\Roaming\\nltk_data...\n",
      "[nltk_data]   Package punkt is already up-to-date!\n"
     ]
    }
   ],
   "source": [
    "#Import the necessary methods from tweepy library  \n",
    "\n",
    "#install tweepy if you don't have it\n",
    "#!pip install tweepy\n",
    "import tweepy\n",
    "from tweepy.streaming import StreamListener\n",
    "from tweepy import OAuthHandler\n",
    "from tweepy import Stream\n",
    "\n",
    "#sentiment analysis package\n",
    "#!pip install textblob\n",
    "from textblob import TextBlob\n",
    "\n",
    "#general text pre-processor\n",
    "#!pip install nltk\n",
    "import nltk\n",
    "from nltk.corpus import stopwords\n",
    "nltk.download('punkt')\n",
    "\n",
    "#tweet pre-processor \n",
    "#!pip install tweet-preprocessor\n",
    "import preprocessor as p"
   ]
  },
  {
   "cell_type": "code",
   "execution_count": 32,
   "metadata": {
    "ExecuteTime": {
     "end_time": "2020-07-16T17:59:53.263635Z",
     "start_time": "2020-07-16T17:59:53.256640Z"
    },
    "hidden": true
   },
   "outputs": [],
   "source": [
    "def print_full(x):\n",
    "  '''\n",
    "  This is to print nicely DataFrame wide tables\n",
    "  '''\n",
    "  pd.set_option('display.max_rows', len(x))\n",
    "  pd.set_option('display.max_columns', None)\n",
    "  pd.set_option('display.width', 2000)\n",
    "  pd.set_option('display.float_format', '{:20,.2f}'.format)\n",
    "  pd.set_option('display.max_colwidth', -1)\n",
    "  print(x)\n",
    "  pd.reset_option('display.max_rows')\n",
    "  pd.reset_option('display.max_columns')\n",
    "  pd.reset_option('display.width')\n",
    "  pd.reset_option('display.float_format')\n",
    "  pd.reset_option('display.max_colwidth')"
   ]
  },
  {
   "cell_type": "code",
   "execution_count": 33,
   "metadata": {
    "ExecuteTime": {
     "end_time": "2020-07-16T17:59:55.273324Z",
     "start_time": "2020-07-16T17:59:55.269309Z"
    },
    "hidden": true
   },
   "outputs": [],
   "source": [
    "consumer_key = \"\"\n",
    "consumer_secret = \"\"\n",
    "access_token = \"\"\n",
    "access_token_secret = \"\""
   ]
  },
  {
   "cell_type": "code",
   "execution_count": 34,
   "metadata": {
    "ExecuteTime": {
     "end_time": "2020-07-16T17:59:59.478719Z",
     "start_time": "2020-07-16T17:59:59.474724Z"
    },
    "hidden": true
   },
   "outputs": [],
   "source": [
    "# Creating the authentication object\n",
    "auth = tweepy.OAuthHandler(consumer_key, consumer_secret)\n",
    "# Setting your access token and secret\n",
    "auth.set_access_token(access_token, access_token_secret)\n",
    "# Creating the API object while passing in auth information\n",
    "api = tweepy.API(auth, wait_on_rate_limit=True,\n",
    "                     wait_on_rate_limit_notify=True)"
   ]
  },
  {
   "cell_type": "code",
   "execution_count": 47,
   "metadata": {
    "ExecuteTime": {
     "end_time": "2020-07-16T19:57:13.361980Z",
     "start_time": "2020-07-16T19:55:31.598986Z"
    },
    "hidden": true
   },
   "outputs": [
    {
     "data": {
      "text/plain": [
       "['Trevornoah',\n",
       " 'GarethCliff',\n",
       " 'SAPresident',\n",
       " 'News24',\n",
       " 'Julius_S_Malema',\n",
       " 'helenzille',\n",
       " 'mailandguardian',\n",
       " '5FM',\n",
       " 'loyisogola',\n",
       " 'Computicket']"
      ]
     },
     "execution_count": 47,
     "metadata": {},
     "output_type": "execute_result"
    }
   ],
   "source": [
    "#To obtain valid screen name avoiding Tweepy error 404\n",
    "\n",
    "names = []\n",
    "for influencer in mod_pd['Handle']:      \n",
    "    try:\n",
    "        u=api.get_user(influencer)\n",
    "        names.append(u.screen_name)\n",
    "    except Exception:\n",
    "            pass\n",
    "names[:10]"
   ]
  },
  {
   "cell_type": "code",
   "execution_count": 48,
   "metadata": {
    "ExecuteTime": {
     "end_time": "2020-07-16T20:01:08.309504Z",
     "start_time": "2020-07-16T20:01:08.302509Z"
    },
    "hidden": true
   },
   "outputs": [
    {
     "data": {
      "text/plain": [
       "93"
      ]
     },
     "execution_count": 48,
     "metadata": {},
     "output_type": "execute_result"
    }
   ],
   "source": [
    "len(names)     #seven invalid usernames"
   ]
  },
  {
   "cell_type": "code",
   "execution_count": 51,
   "metadata": {
    "ExecuteTime": {
     "end_time": "2020-07-16T20:22:01.010843Z",
     "start_time": "2020-07-16T20:20:36.590024Z"
    },
    "hidden": true
   },
   "outputs": [
    {
     "data": {
      "text/plain": [
       "[10801764,\n",
       " 1974454,\n",
       " 18,\n",
       " 3574787,\n",
       " 3125323,\n",
       " 1443227,\n",
       " 1059929,\n",
       " 1164162,\n",
       " 1085138,\n",
       " 200299]"
      ]
     },
     "execution_count": 51,
     "metadata": {},
     "output_type": "execute_result"
    }
   ],
   "source": [
    "#getting follower counts\n",
    "\n",
    "followers = []\n",
    "for screen_nm in names:\n",
    "    u=api.get_user(screen_nm)\n",
    "    followers.append(u.followers_count)\n",
    "    \n",
    "followers[:10]"
   ]
  },
  {
   "cell_type": "code",
   "execution_count": 52,
   "metadata": {
    "ExecuteTime": {
     "end_time": "2020-07-16T20:23:24.617080Z",
     "start_time": "2020-07-16T20:22:01.014839Z"
    },
    "hidden": true
   },
   "outputs": [
    {
     "data": {
      "text/plain": [
       "[11185, 31623, 19, 322577, 37190, 72335, 144198, 62810, 5653, 45108]"
      ]
     },
     "execution_count": 52,
     "metadata": {},
     "output_type": "execute_result"
    }
   ],
   "source": [
    "#getting the number of tweets\n",
    "no_tweets = []\n",
    "for screen_nm in names:\n",
    "    u=api.get_user(screen_nm)\n",
    "    no_tweets.append(u.statuses_count)\n",
    "    \n",
    "no_tweets[:10]"
   ]
  },
  {
   "cell_type": "code",
   "execution_count": 53,
   "metadata": {
    "ExecuteTime": {
     "end_time": "2020-07-16T20:24:49.075038Z",
     "start_time": "2020-07-16T20:23:24.625075Z"
    },
    "hidden": true
   },
   "outputs": [
    {
     "data": {
      "text/plain": [
       "[11185, 31623, 19, 322577, 37190, 72335, 144198, 62810, 5653, 45108]"
      ]
     },
     "execution_count": 53,
     "metadata": {},
     "output_type": "execute_result"
    }
   ],
   "source": [
    "#no of friends influencer is following\n",
    "\n",
    "friends = []\n",
    "for screen_nm in names:\n",
    "    u=api.get_user(screen_nm)\n",
    "    friends.append(u.friends_count)\n",
    "    \n",
    "no_tweets[:10]"
   ]
  },
  {
   "cell_type": "code",
   "execution_count": 54,
   "metadata": {
    "ExecuteTime": {
     "end_time": "2020-07-16T20:29:06.390684Z",
     "start_time": "2020-07-16T20:24:49.079037Z"
    },
    "hidden": true
   },
   "outputs": [],
   "source": [
    "#getting the number of retweets\n",
    "rt_count = []    \n",
    "for influencer in names:\n",
    "    influencers_tweets = api.user_timeline(screen_name =influencer, count=200)\n",
    "    rt = 0\n",
    "    for tweet in influencers_tweets:\n",
    "        rt += tweet.retweet_count\n",
    "    rt_count.append(rt)"
   ]
  },
  {
   "cell_type": "code",
   "execution_count": 69,
   "metadata": {
    "ExecuteTime": {
     "end_time": "2020-07-16T20:31:18.831802Z",
     "start_time": "2020-07-16T20:31:18.233460Z"
    },
    "hidden": true
   },
   "outputs": [
    {
     "data": {
      "text/plain": [
       "[4609962, 39668, 851, 7710, 143963, 16562, 2979, 779, 560184, 433]"
      ]
     },
     "execution_count": 69,
     "metadata": {},
     "output_type": "execute_result"
    }
   ],
   "source": [
    "rt_count[:10]"
   ]
  },
  {
   "cell_type": "code",
   "execution_count": 70,
   "metadata": {
    "ExecuteTime": {
     "end_time": "2020-07-16T22:08:00.948056Z",
     "start_time": "2020-07-16T22:03:33.090060Z"
    },
    "hidden": true
   },
   "outputs": [],
   "source": [
    "#getting the number of likes\n",
    "likes_count = []    \n",
    "for influencer in names:\n",
    "    influencers_tweets = api.user_timeline(screen_name =influencer, count=200)\n",
    "    lk = 0\n",
    "    for tweet in influencers_tweets:\n",
    "        lk += tweet.favorite_count\n",
    "    likes_count.append(lk)"
   ]
  },
  {
   "cell_type": "code",
   "execution_count": 71,
   "metadata": {
    "ExecuteTime": {
     "end_time": "2020-07-16T22:12:48.809361Z",
     "start_time": "2020-07-16T22:12:48.793364Z"
    },
    "hidden": true
   },
   "outputs": [
    {
     "data": {
      "text/plain": [
       "[1235122, 13190, 0, 14020, 117026, 15859, 922, 5675, 6642, 134]"
      ]
     },
     "execution_count": 71,
     "metadata": {},
     "output_type": "execute_result"
    }
   ],
   "source": [
    "likes_count[:10]"
   ]
  },
  {
   "cell_type": "code",
   "execution_count": 143,
   "metadata": {
    "ExecuteTime": {
     "end_time": "2020-07-17T22:30:14.300422Z",
     "start_time": "2020-07-17T22:25:22.296848Z"
    },
    "hidden": true
   },
   "outputs": [],
   "source": [
    "#getting the number of comments \n",
    "\n",
    "\n",
    "comment_count = []    \n",
    "for influencer in names:\n",
    "    influencers_tweets = api.user_timeline(screen_name =influencer, count=200)\n",
    "    cm = 0\n",
    "    for tweet in influencers_tweets:\n",
    "        cm += tweet.reply_count\n",
    "    comment_count.append(cm)    \n",
    "    \n",
    "#! ONLY AVAILABLE FOR PREMIUM USERS ON TWITTER API"
   ]
  },
  {
   "cell_type": "code",
   "execution_count": 253,
   "metadata": {
    "ExecuteTime": {
     "end_time": "2020-07-19T07:06:47.703985Z",
     "start_time": "2020-07-18T21:37:50.032829Z"
    },
    "hidden": true
   },
   "outputs": [],
   "source": [
    "#collecting mentions\n",
    "\n",
    "from datetime import datetime, date, time, timedelta\n",
    "mentions = []\n",
    "    \n",
    "for influencer in mod_pd['Handle']:\n",
    "  try:\n",
    "    for status in tweepy.Cursor(api.user_timeline, id=influencer).items():\n",
    "      if hasattr(status, \"entities\"):\n",
    "        entities = status.entities\n",
    "        if \"user_mentions\" in entities:\n",
    "          for ent in entities[\"user_mentions\"]:\n",
    "            if ent is not None:\n",
    "              if \"screen_name\" in ent:\n",
    "                name = ent[\"screen_name\"]\n",
    "                if name is not None:\n",
    "                  mentions.append(name)\n",
    "  except Exception:\n",
    "            pass      "
   ]
  },
  {
   "cell_type": "code",
   "execution_count": 254,
   "metadata": {
    "ExecuteTime": {
     "end_time": "2020-07-19T07:08:05.718642Z",
     "start_time": "2020-07-19T07:08:05.628568Z"
    },
    "hidden": true,
    "scrolled": false
   },
   "outputs": [
    {
     "data": {
      "text/plain": [
       "['KingBach',\n",
       " 'franklinleonard',\n",
       " 'SawyerHackett',\n",
       " 'kimlatricejones',\n",
       " 'DEADLINE',\n",
       " 'Sensational_Dre',\n",
       " 'maleeezy_',\n",
       " 'sarahcpr',\n",
       " 'michaelharriot',\n",
       " 'GaryChambersJr']"
      ]
     },
     "execution_count": 254,
     "metadata": {},
     "output_type": "execute_result"
    }
   ],
   "source": [
    "mentions[:10]    #it's a list of their twitter handle not screen name ()"
   ]
  },
  {
   "cell_type": "code",
   "execution_count": 255,
   "metadata": {
    "ExecuteTime": {
     "end_time": "2020-07-19T07:08:24.901037Z",
     "start_time": "2020-07-19T07:08:23.680264Z"
    },
    "hidden": true
   },
   "outputs": [
    {
     "data": {
      "text/html": [
       "<div>\n",
       "<style scoped>\n",
       "    .dataframe tbody tr th:only-of-type {\n",
       "        vertical-align: middle;\n",
       "    }\n",
       "\n",
       "    .dataframe tbody tr th {\n",
       "        vertical-align: top;\n",
       "    }\n",
       "\n",
       "    .dataframe thead th {\n",
       "        text-align: right;\n",
       "    }\n",
       "</style>\n",
       "<table border=\"1\" class=\"dataframe\">\n",
       "  <thead>\n",
       "    <tr style=\"text-align: right;\">\n",
       "      <th></th>\n",
       "      <th>mention</th>\n",
       "    </tr>\n",
       "  </thead>\n",
       "  <tbody>\n",
       "    <tr>\n",
       "      <th>0</th>\n",
       "      <td>KingBach</td>\n",
       "    </tr>\n",
       "    <tr>\n",
       "      <th>1</th>\n",
       "      <td>franklinleonard</td>\n",
       "    </tr>\n",
       "    <tr>\n",
       "      <th>2</th>\n",
       "      <td>SawyerHackett</td>\n",
       "    </tr>\n",
       "    <tr>\n",
       "      <th>3</th>\n",
       "      <td>kimlatricejones</td>\n",
       "    </tr>\n",
       "    <tr>\n",
       "      <th>4</th>\n",
       "      <td>DEADLINE</td>\n",
       "    </tr>\n",
       "  </tbody>\n",
       "</table>\n",
       "</div>"
      ],
      "text/plain": [
       "           mention\n",
       "0         KingBach\n",
       "1  franklinleonard\n",
       "2    SawyerHackett\n",
       "3  kimlatricejones\n",
       "4         DEADLINE"
      ]
     },
     "execution_count": 255,
     "metadata": {},
     "output_type": "execute_result"
    }
   ],
   "source": [
    "mention_csv=pd.DataFrame(mentions)\n",
    "mention_csv.columns=['mention']\n",
    "\n",
    "mention_csv.to_csv('mention.csv')\n",
    "\n",
    "mention_csv.head()"
   ]
  },
  {
   "cell_type": "code",
   "execution_count": 132,
   "metadata": {
    "ExecuteTime": {
     "end_time": "2020-07-17T19:45:42.148395Z",
     "start_time": "2020-07-17T14:01:53.558148Z"
    },
    "hidden": true
   },
   "outputs": [],
   "source": [
    "hashtags = {}\n",
    "\n",
    "for influencer in mod_pd['Handle']:  \n",
    "  hs = []\n",
    "  try:  \n",
    "    for status in tweepy.Cursor(api.user_timeline, id=influencer).items():\n",
    "      if hasattr(status, \"entities\"):\n",
    "        entities = status.entities\n",
    "        if \"hashtags\" in entities:\n",
    "          for ent in entities[\"hashtags\"]:\n",
    "            if ent is not None:\n",
    "              if \"text\" in ent:\n",
    "                hashtag = ent[\"text\"]\n",
    "                if hashtag is not None:\n",
    "                  hs.append(hashtag)\n",
    "    hashtags[influencer] = hs\n",
    "  except Exception:\n",
    "        pass              "
   ]
  },
  {
   "cell_type": "code",
   "execution_count": 157,
   "metadata": {
    "ExecuteTime": {
     "end_time": "2020-07-18T08:04:37.490917Z",
     "start_time": "2020-07-18T08:04:37.473591Z"
    },
    "hidden": true,
    "scrolled": false
   },
   "outputs": [
    {
     "data": {
      "text/plain": [
       "['BlackPeoplePenance',\n",
       " 'BlackLivesMatter',\n",
       " 'BlackOutTuesday',\n",
       " 'JusticeForGeorgeFloyd',\n",
       " 'CincUp',\n",
       " 'coronavirus',\n",
       " 'FallonAtHome',\n",
       " 'ClubQuarantine',\n",
       " 'WithMe',\n",
       " 'AwholeNewSong']"
      ]
     },
     "execution_count": 157,
     "metadata": {},
     "output_type": "execute_result"
    }
   ],
   "source": [
    "hashtags['@Trevornoah'][:10]   #ten hashtag for Trevornoah"
   ]
  },
  {
   "cell_type": "code",
   "execution_count": 158,
   "metadata": {
    "ExecuteTime": {
     "end_time": "2020-07-18T08:05:28.292309Z",
     "start_time": "2020-07-18T08:05:26.798299Z"
    },
    "hidden": true,
    "scrolled": false
   },
   "outputs": [
    {
     "data": {
      "text/html": [
       "<div>\n",
       "<style scoped>\n",
       "    .dataframe tbody tr th:only-of-type {\n",
       "        vertical-align: middle;\n",
       "    }\n",
       "\n",
       "    .dataframe tbody tr th {\n",
       "        vertical-align: top;\n",
       "    }\n",
       "\n",
       "    .dataframe thead th {\n",
       "        text-align: right;\n",
       "    }\n",
       "</style>\n",
       "<table border=\"1\" class=\"dataframe\">\n",
       "  <thead>\n",
       "    <tr style=\"text-align: right;\">\n",
       "      <th></th>\n",
       "      <th>@Trevornoah</th>\n",
       "      <th>@GarethCliff</th>\n",
       "      <th>@SAPresident</th>\n",
       "      <th>@News24</th>\n",
       "      <th>@Julius_S_Malema</th>\n",
       "      <th>@helenzille</th>\n",
       "      <th>@mailandguardian</th>\n",
       "      <th>@5FM</th>\n",
       "      <th>@loyisogola</th>\n",
       "      <th>@Computicket</th>\n",
       "      <th>...</th>\n",
       "      <th>@iamsuede</th>\n",
       "      <th>@JamalMOsman</th>\n",
       "      <th>@KahnMorbee</th>\n",
       "      <th>@artsouthafrica</th>\n",
       "      <th>@malonebarry</th>\n",
       "      <th>@InvestInAfrica</th>\n",
       "      <th>@TheEIU_Africa</th>\n",
       "      <th>@sarzss</th>\n",
       "      <th>@VISI_Mag</th>\n",
       "      <th>@BrendanSAfrica</th>\n",
       "    </tr>\n",
       "  </thead>\n",
       "  <tbody>\n",
       "    <tr>\n",
       "      <th>0</th>\n",
       "      <td>BlackPeoplePenance</td>\n",
       "      <td>SoWhatNow</td>\n",
       "      <td>FridayFelling</td>\n",
       "      <td>TheBacheloretteSA</td>\n",
       "      <td>TBTChallenge</td>\n",
       "      <td>GBV</td>\n",
       "      <td>Eskom</td>\n",
       "      <td>MandelaDay2020</td>\n",
       "      <td>CRYMUN</td>\n",
       "      <td>VanPletzen</td>\n",
       "      <td>...</td>\n",
       "      <td>TheNod</td>\n",
       "      <td>Africa</td>\n",
       "      <td>BoxOffice</td>\n",
       "      <td>Art</td>\n",
       "      <td>Ethiopia</td>\n",
       "      <td>stockexchange</td>\n",
       "      <td>Mali</td>\n",
       "      <td>lockdown</td>\n",
       "      <td>PicksOfTheWeek</td>\n",
       "      <td>StopTheBantustanBills</td>\n",
       "    </tr>\n",
       "    <tr>\n",
       "      <th>1</th>\n",
       "      <td>BlackLivesMatter</td>\n",
       "      <td>SoWhatNow</td>\n",
       "      <td>FullLoadWorkPresure</td>\n",
       "      <td>StateCaptureInquiry</td>\n",
       "      <td>SAMA26</td>\n",
       "      <td>Women</td>\n",
       "      <td>67minutes</td>\n",
       "      <td>67Minutes</td>\n",
       "      <td>LaLiga</td>\n",
       "      <td>GMABenefitConcert</td>\n",
       "      <td>...</td>\n",
       "      <td>DefundThePolice</td>\n",
       "      <td>Chinese</td>\n",
       "      <td>meatfreemonday</td>\n",
       "      <td>ArtistOfTheMonthASA</td>\n",
       "      <td>QAnon</td>\n",
       "      <td>tokens</td>\n",
       "      <td>SSA</td>\n",
       "      <td>COVID19</td>\n",
       "      <td>PicksOfTheWeek</td>\n",
       "      <td>Right2SayNo</td>\n",
       "    </tr>\n",
       "    <tr>\n",
       "      <th>2</th>\n",
       "      <td>BlackOutTuesday</td>\n",
       "      <td>SoWhatNow</td>\n",
       "      <td>business</td>\n",
       "      <td>MapitiMatsena</td>\n",
       "      <td>Loadshedding</td>\n",
       "      <td>VBSArrests</td>\n",
       "      <td>COVID__19</td>\n",
       "      <td>MandelaDay2020</td>\n",
       "      <td>LaLiga</td>\n",
       "      <td>GMABenefitConcert</td>\n",
       "      <td>...</td>\n",
       "      <td>PVALLEYPremiere</td>\n",
       "      <td>Malawi</td>\n",
       "      <td>CollinsKhosa</td>\n",
       "      <td>ArtSouthAfrica</td>\n",
       "      <td>RIP</td>\n",
       "      <td>DLT</td>\n",
       "      <td>Malawi</td>\n",
       "      <td>coronavirus</td>\n",
       "      <td>VISIDecor</td>\n",
       "      <td>Xolobeni</td>\n",
       "    </tr>\n",
       "    <tr>\n",
       "      <th>3</th>\n",
       "      <td>JusticeForGeorgeFloyd</td>\n",
       "      <td>SoWhatNow</td>\n",
       "      <td>Self</td>\n",
       "      <td>MapitiMatsena</td>\n",
       "      <td>Eskom</td>\n",
       "      <td>VBS</td>\n",
       "      <td>EndHighSchoolInSawa</td>\n",
       "      <td>67Minutes</td>\n",
       "      <td>ARSLIV</td>\n",
       "      <td>MissSa2020</td>\n",
       "      <td>...</td>\n",
       "      <td>PVALLEYPremiere</td>\n",
       "      <td>Thread</td>\n",
       "      <td>theshowmustbepaused</td>\n",
       "      <td>LoveOfArt</td>\n",
       "      <td>Syria</td>\n",
       "      <td>blockchain</td>\n",
       "      <td>Zimbabwe</td>\n",
       "      <td>Covid_19</td>\n",
       "      <td>VISIArt</td>\n",
       "      <td>CyrilRamaphosa</td>\n",
       "    </tr>\n",
       "    <tr>\n",
       "      <th>4</th>\n",
       "      <td>CincUp</td>\n",
       "      <td>CliffCentralApp</td>\n",
       "      <td>Motivation</td>\n",
       "      <td>MapitiMatsena</td>\n",
       "      <td>EFFTurns7</td>\n",
       "      <td>day78oflockdown</td>\n",
       "      <td>Eritrea</td>\n",
       "      <td>ForbesAndFix</td>\n",
       "      <td>Sopranos</td>\n",
       "      <td>FaceYourPower</td>\n",
       "      <td>...</td>\n",
       "      <td>REDTABLETALK</td>\n",
       "      <td>Ethiopia</td>\n",
       "      <td>notoracism</td>\n",
       "      <td>Painting</td>\n",
       "      <td>GrenfellInquiry</td>\n",
       "      <td>equities</td>\n",
       "      <td>Malawi</td>\n",
       "      <td>coronavirus</td>\n",
       "      <td>VISILifestyle</td>\n",
       "      <td>media</td>\n",
       "    </tr>\n",
       "    <tr>\n",
       "      <th>5</th>\n",
       "      <td>coronavirus</td>\n",
       "      <td>GCS</td>\n",
       "      <td>confidence</td>\n",
       "      <td>ExtendTheLicence</td>\n",
       "      <td>EFFOnlineStore</td>\n",
       "      <td>ClassicFawlty</td>\n",
       "      <td>Covid19</td>\n",
       "      <td>UnpopularOpinion</td>\n",
       "      <td>SaveLiveComedy</td>\n",
       "      <td>EmbraceYourFuture</td>\n",
       "      <td>...</td>\n",
       "      <td>WillSmith</td>\n",
       "      <td>Egypt</td>\n",
       "      <td>GeorgeFloyd</td>\n",
       "      <td>Inspiration</td>\n",
       "      <td>BBCAfricaEye</td>\n",
       "      <td>bonds</td>\n",
       "      <td>IEA</td>\n",
       "      <td>USAmbassador</td>\n",
       "      <td>VISIDesign</td>\n",
       "      <td>Bosasa</td>\n",
       "    </tr>\n",
       "    <tr>\n",
       "      <th>6</th>\n",
       "      <td>FallonAtHome</td>\n",
       "      <td>SoWhatNow</td>\n",
       "      <td>Tesla</td>\n",
       "      <td>LoadShedding</td>\n",
       "      <td>cyrilramaphosa</td>\n",
       "      <td>FawltyTowers</td>\n",
       "      <td>ServiceDelivery</td>\n",
       "      <td>MidMorningsOn5</td>\n",
       "      <td>ARSLEI</td>\n",
       "      <td>MissSATop15</td>\n",
       "      <td>...</td>\n",
       "      <td>JadaSmith</td>\n",
       "      <td>Somalia</td>\n",
       "      <td>StayAtHomeLive</td>\n",
       "      <td>Retweet</td>\n",
       "      <td>SexForGrades</td>\n",
       "      <td>Ethiopia</td>\n",
       "      <td>Coronavirus</td>\n",
       "      <td>BurkinaFaso</td>\n",
       "      <td>PicksOfTheWeek</td>\n",
       "      <td>MTBPS2018</td>\n",
       "    </tr>\n",
       "    <tr>\n",
       "      <th>7</th>\n",
       "      <td>ClubQuarantine</td>\n",
       "      <td>OneMillionGraves</td>\n",
       "      <td>None</td>\n",
       "      <td>Covid19</td>\n",
       "      <td>alcoholmustfall</td>\n",
       "      <td>CoronaCast</td>\n",
       "      <td>SouthAfrica</td>\n",
       "      <td>NewMusicFriday</td>\n",
       "      <td>ARSLEI</td>\n",
       "      <td>SARIEGESELS</td>\n",
       "      <td>...</td>\n",
       "      <td>AugustAlsina</td>\n",
       "      <td>Mogadishu</td>\n",
       "      <td>GoodMorningsOFM</td>\n",
       "      <td>Creativity</td>\n",
       "      <td>BREAKING</td>\n",
       "      <td>stockexchange</td>\n",
       "      <td>Nigeria</td>\n",
       "      <td>Covid</td>\n",
       "      <td>PicksOfTheWeek</td>\n",
       "      <td>journalists</td>\n",
       "    </tr>\n",
       "    <tr>\n",
       "      <th>8</th>\n",
       "      <td>WithMe</td>\n",
       "      <td>SoWhatNow</td>\n",
       "      <td>None</td>\n",
       "      <td>LoadShedding</td>\n",
       "      <td>IMMEDIATE</td>\n",
       "      <td>CoronaCast</td>\n",
       "      <td>Covid19</td>\n",
       "      <td>NewMusicFriday</td>\n",
       "      <td>CRYCHE</td>\n",
       "      <td>1stOfAll</td>\n",
       "      <td>...</td>\n",
       "      <td>soaugust</td>\n",
       "      <td>African</td>\n",
       "      <td>capetown</td>\n",
       "      <td>ArtistOfTheMonthASA</td>\n",
       "      <td>DC</td>\n",
       "      <td>Ghana</td>\n",
       "      <td>B2B</td>\n",
       "      <td>Appalled</td>\n",
       "      <td>VISIDecor</td>\n",
       "      <td>media</td>\n",
       "    </tr>\n",
       "    <tr>\n",
       "      <th>9</th>\n",
       "      <td>AwholeNewSong</td>\n",
       "      <td>SoWhatNow</td>\n",
       "      <td>None</td>\n",
       "      <td>LoadShedding</td>\n",
       "      <td>EFFTurns7</td>\n",
       "      <td>UCT</td>\n",
       "      <td>EducationMatters</td>\n",
       "      <td>BraaiJuly</td>\n",
       "      <td>SOUMCI</td>\n",
       "      <td>1stOfAll</td>\n",
       "      <td>...</td>\n",
       "      <td>redtabletalk</td>\n",
       "      <td>Britain</td>\n",
       "      <td>flipflopday</td>\n",
       "      <td>ArtSouthAfrica</td>\n",
       "      <td>wedding</td>\n",
       "      <td>IPO</td>\n",
       "      <td>intelligence</td>\n",
       "      <td>Meghan</td>\n",
       "      <td>PicksOfTheWeek</td>\n",
       "      <td>SBSJA18</td>\n",
       "    </tr>\n",
       "  </tbody>\n",
       "</table>\n",
       "<p>10 rows × 82 columns</p>\n",
       "</div>"
      ],
      "text/plain": [
       "             @Trevornoah      @GarethCliff         @SAPresident  \\\n",
       "0     BlackPeoplePenance         SoWhatNow        FridayFelling   \n",
       "1       BlackLivesMatter         SoWhatNow  FullLoadWorkPresure   \n",
       "2        BlackOutTuesday         SoWhatNow             business   \n",
       "3  JusticeForGeorgeFloyd         SoWhatNow                 Self   \n",
       "4                 CincUp   CliffCentralApp           Motivation   \n",
       "5            coronavirus               GCS           confidence   \n",
       "6           FallonAtHome         SoWhatNow                Tesla   \n",
       "7         ClubQuarantine  OneMillionGraves                 None   \n",
       "8                 WithMe         SoWhatNow                 None   \n",
       "9          AwholeNewSong         SoWhatNow                 None   \n",
       "\n",
       "               @News24 @Julius_S_Malema      @helenzille     @mailandguardian  \\\n",
       "0    TheBacheloretteSA     TBTChallenge              GBV                Eskom   \n",
       "1  StateCaptureInquiry           SAMA26            Women            67minutes   \n",
       "2        MapitiMatsena     Loadshedding       VBSArrests            COVID__19   \n",
       "3        MapitiMatsena            Eskom              VBS  EndHighSchoolInSawa   \n",
       "4        MapitiMatsena        EFFTurns7  day78oflockdown              Eritrea   \n",
       "5     ExtendTheLicence   EFFOnlineStore    ClassicFawlty              Covid19   \n",
       "6         LoadShedding   cyrilramaphosa     FawltyTowers      ServiceDelivery   \n",
       "7              Covid19  alcoholmustfall       CoronaCast          SouthAfrica   \n",
       "8         LoadShedding        IMMEDIATE       CoronaCast              Covid19   \n",
       "9         LoadShedding        EFFTurns7              UCT     EducationMatters   \n",
       "\n",
       "               @5FM     @loyisogola       @Computicket          ...            \\\n",
       "0    MandelaDay2020          CRYMUN         VanPletzen          ...             \n",
       "1         67Minutes          LaLiga  GMABenefitConcert          ...             \n",
       "2    MandelaDay2020          LaLiga  GMABenefitConcert          ...             \n",
       "3         67Minutes          ARSLIV         MissSa2020          ...             \n",
       "4      ForbesAndFix        Sopranos      FaceYourPower          ...             \n",
       "5  UnpopularOpinion  SaveLiveComedy  EmbraceYourFuture          ...             \n",
       "6    MidMorningsOn5          ARSLEI        MissSATop15          ...             \n",
       "7    NewMusicFriday          ARSLEI        SARIEGESELS          ...             \n",
       "8    NewMusicFriday          CRYCHE           1stOfAll          ...             \n",
       "9         BraaiJuly          SOUMCI           1stOfAll          ...             \n",
       "\n",
       "         @iamsuede @JamalMOsman          @KahnMorbee      @artsouthafrica  \\\n",
       "0           TheNod       Africa            BoxOffice                  Art   \n",
       "1  DefundThePolice      Chinese       meatfreemonday  ArtistOfTheMonthASA   \n",
       "2  PVALLEYPremiere       Malawi         CollinsKhosa       ArtSouthAfrica   \n",
       "3  PVALLEYPremiere       Thread  theshowmustbepaused            LoveOfArt   \n",
       "4     REDTABLETALK     Ethiopia           notoracism             Painting   \n",
       "5        WillSmith        Egypt          GeorgeFloyd          Inspiration   \n",
       "6        JadaSmith      Somalia       StayAtHomeLive              Retweet   \n",
       "7     AugustAlsina    Mogadishu      GoodMorningsOFM           Creativity   \n",
       "8         soaugust      African             capetown  ArtistOfTheMonthASA   \n",
       "9     redtabletalk      Britain          flipflopday       ArtSouthAfrica   \n",
       "\n",
       "      @malonebarry @InvestInAfrica @TheEIU_Africa       @sarzss  \\\n",
       "0         Ethiopia   stockexchange           Mali      lockdown   \n",
       "1            QAnon          tokens            SSA       COVID19   \n",
       "2              RIP             DLT         Malawi   coronavirus   \n",
       "3            Syria      blockchain       Zimbabwe      Covid_19   \n",
       "4  GrenfellInquiry        equities         Malawi   coronavirus   \n",
       "5     BBCAfricaEye           bonds            IEA  USAmbassador   \n",
       "6     SexForGrades        Ethiopia    Coronavirus   BurkinaFaso   \n",
       "7         BREAKING   stockexchange        Nigeria         Covid   \n",
       "8               DC           Ghana            B2B      Appalled   \n",
       "9          wedding             IPO   intelligence        Meghan   \n",
       "\n",
       "        @VISI_Mag        @BrendanSAfrica  \n",
       "0  PicksOfTheWeek  StopTheBantustanBills  \n",
       "1  PicksOfTheWeek            Right2SayNo  \n",
       "2       VISIDecor               Xolobeni  \n",
       "3         VISIArt         CyrilRamaphosa  \n",
       "4   VISILifestyle                  media  \n",
       "5      VISIDesign                 Bosasa  \n",
       "6  PicksOfTheWeek              MTBPS2018  \n",
       "7  PicksOfTheWeek            journalists  \n",
       "8       VISIDecor                  media  \n",
       "9  PicksOfTheWeek                SBSJA18  \n",
       "\n",
       "[10 rows x 82 columns]"
      ]
     },
     "execution_count": 158,
     "metadata": {},
     "output_type": "execute_result"
    }
   ],
   "source": [
    "df=pd.DataFrame.from_dict(hashtags, orient='index')\n",
    "df=df.transpose()\n",
    "df.head(10)    #the dataframe for 10 hashtage for "
   ]
  },
  {
   "cell_type": "code",
   "execution_count": 141,
   "metadata": {
    "ExecuteTime": {
     "end_time": "2020-07-17T20:12:38.780233Z",
     "start_time": "2020-07-17T20:12:38.368440Z"
    },
    "hidden": true
   },
   "outputs": [],
   "source": [
    "df.to_csv('hashtag.csv') "
   ]
  },
  {
   "cell_type": "markdown",
   "metadata": {
    "heading_collapsed": true,
    "hidden": true
   },
   "source": [
    "### African Leaders \n",
    "All through the cells above, I have been getting information for influencers, in the next couple of cells, I will be obtaining similar information for African leaders and subsequently joining their dataframe to make analysis.  "
   ]
  },
  {
   "cell_type": "code",
   "execution_count": 161,
   "metadata": {
    "ExecuteTime": {
     "end_time": "2020-07-18T08:21:36.635702Z",
     "start_time": "2020-07-18T08:21:05.705679Z"
    },
    "hidden": true
   },
   "outputs": [
    {
     "data": {
      "text/plain": [
       "['EswatiniGovern1',\n",
       " 'MalawiGovt',\n",
       " 'hagegeingob',\n",
       " 'FinanceSC',\n",
       " 'PresidencyZA',\n",
       " 'mohzambia',\n",
       " 'edmnangagwa',\n",
       " 'MinSantedj',\n",
       " 'hawelti',\n",
       " 'StateHouseKenya']"
      ]
     },
     "execution_count": 161,
     "metadata": {},
     "output_type": "execute_result"
    }
   ],
   "source": [
    "#To obtain valid screen name avoiding Tweepy error 404\n",
    "\n",
    "leader_names = []\n",
    "for leader in new_list['Handles']:      \n",
    "    try:\n",
    "        u=api.get_user(leader)\n",
    "        leader_names.append(u.screen_name)\n",
    "    except Exception:\n",
    "            pass\n",
    "leader_names[:10]"
   ]
  },
  {
   "cell_type": "code",
   "execution_count": 162,
   "metadata": {
    "ExecuteTime": {
     "end_time": "2020-07-18T08:23:18.341867Z",
     "start_time": "2020-07-18T08:23:18.288895Z"
    },
    "hidden": true
   },
   "outputs": [
    {
     "data": {
      "text/plain": [
       "36"
      ]
     },
     "execution_count": 162,
     "metadata": {},
     "output_type": "execute_result"
    }
   ],
   "source": [
    "len(leader_names)     #no invalid usernames"
   ]
  },
  {
   "cell_type": "code",
   "execution_count": 165,
   "metadata": {
    "ExecuteTime": {
     "end_time": "2020-07-18T08:26:22.962994Z",
     "start_time": "2020-07-18T08:25:51.603309Z"
    },
    "hidden": true
   },
   "outputs": [
    {
     "data": {
      "text/plain": [
       "[11298, 39220, 192306, 126, 1598283, 7145, 545914, 2928, 66042, 1103172]"
      ]
     },
     "execution_count": 165,
     "metadata": {},
     "output_type": "execute_result"
    }
   ],
   "source": [
    "#getting follower counts\n",
    "\n",
    "leaders_followers = []\n",
    "for screen_nm in leader_names:\n",
    "    u=api.get_user(screen_nm)\n",
    "    leaders_followers.append(u.followers_count)\n",
    "    \n",
    "leaders_followers[:10]"
   ]
  },
  {
   "cell_type": "code",
   "execution_count": 166,
   "metadata": {
    "ExecuteTime": {
     "end_time": "2020-07-18T08:27:37.313239Z",
     "start_time": "2020-07-18T08:27:07.631425Z"
    },
    "hidden": true
   },
   "outputs": [
    {
     "data": {
      "text/plain": [
       "[1673, 4030, 1085, 125, 18854, 837, 628, 1064, 4714, 9044]"
      ]
     },
     "execution_count": 166,
     "metadata": {},
     "output_type": "execute_result"
    }
   ],
   "source": [
    "#getting the number of tweets\n",
    "\n",
    "leaders_no_tweets = []\n",
    "for screen_nm in leader_names:\n",
    "    u=api.get_user(screen_nm)\n",
    "    leaders_no_tweets.append(u.statuses_count)\n",
    "    \n",
    "leaders_no_tweets[:10]"
   ]
  },
  {
   "cell_type": "code",
   "execution_count": 167,
   "metadata": {
    "ExecuteTime": {
     "end_time": "2020-07-18T08:29:10.186874Z",
     "start_time": "2020-07-18T08:28:37.766557Z"
    },
    "hidden": true
   },
   "outputs": [
    {
     "data": {
      "text/plain": [
       "[82, 26, 55, 224, 14, 95, 116, 127, 434, 214]"
      ]
     },
     "execution_count": 167,
     "metadata": {},
     "output_type": "execute_result"
    }
   ],
   "source": [
    "#no of friends leader is following\n",
    "\n",
    "leader_friends = []\n",
    "for screen_nm in leader_names:\n",
    "    u=api.get_user(screen_nm)\n",
    "    leader_friends.append(u.friends_count)\n",
    "    \n",
    "leader_friends[:10]"
   ]
  },
  {
   "cell_type": "code",
   "execution_count": 168,
   "metadata": {
    "ExecuteTime": {
     "end_time": "2020-07-18T08:31:49.920788Z",
     "start_time": "2020-07-18T08:30:26.551689Z"
    },
    "hidden": true
   },
   "outputs": [],
   "source": [
    "#getting the number of retweets\n",
    "leader_rt_count = []    \n",
    "for leader in leader_names:\n",
    "    leaders_tweets = api.user_timeline(screen_name =leader, count=200)\n",
    "    rt = 0\n",
    "    for tweet in leaders_tweets:\n",
    "        rt += tweet.retweet_count\n",
    "    leader_rt_count.append(rt)"
   ]
  },
  {
   "cell_type": "code",
   "execution_count": 169,
   "metadata": {
    "ExecuteTime": {
     "end_time": "2020-07-18T08:31:49.932761Z",
     "start_time": "2020-07-18T08:31:49.924765Z"
    },
    "hidden": true
   },
   "outputs": [
    {
     "data": {
      "text/plain": [
       "[1098, 5078, 10240, 625, 8691, 18566, 54875, 3536, 11106, 24584]"
      ]
     },
     "execution_count": 169,
     "metadata": {},
     "output_type": "execute_result"
    }
   ],
   "source": [
    "leader_rt_count[:10]"
   ]
  },
  {
   "cell_type": "code",
   "execution_count": 170,
   "metadata": {
    "ExecuteTime": {
     "end_time": "2020-07-18T08:39:33.204590Z",
     "start_time": "2020-07-18T08:38:06.192515Z"
    },
    "hidden": true
   },
   "outputs": [
    {
     "data": {
      "text/plain": [
       "[3555, 9321, 68495, 123, 20408, 1319, 175958, 1596, 25839, 99505]"
      ]
     },
     "execution_count": 170,
     "metadata": {},
     "output_type": "execute_result"
    }
   ],
   "source": [
    "#getting the number of likes\n",
    "\n",
    "leader_likes_count = []    \n",
    "for leader in leader_names:\n",
    "    leaders_tweets = api.user_timeline(screen_name =leader, count=200)\n",
    "    lk = 0\n",
    "    for tweet in leaders_tweets:\n",
    "        lk += tweet.favorite_count\n",
    "    leader_likes_count.append(lk)\n",
    "    \n",
    "leader_likes_count[:10]"
   ]
  },
  {
   "cell_type": "code",
   "execution_count": 172,
   "metadata": {
    "ExecuteTime": {
     "end_time": "2020-07-18T08:39:45.080928Z",
     "start_time": "2020-07-18T08:39:45.077932Z"
    },
    "hidden": true
   },
   "outputs": [],
   "source": [
    "#getting the number of comments \n",
    "\n",
    "\n",
    "leader_comment_count = []    \n",
    "for leader in leader_names:\n",
    "    leaders_tweets = api.user_timeline(screen_name =leader, count=200)\n",
    "    cm = 0\n",
    "    for tweet in leaders_tweets:\n",
    "        cm += tweet.reply_count\n",
    "    leader_comment_count.append(cm)    \n",
    "    \n",
    "#! ONLY AVAILABLE FOR PREMIUM USERS ON TWITTER API"
   ]
  },
  {
   "cell_type": "code",
   "execution_count": 264,
   "metadata": {
    "ExecuteTime": {
     "end_time": "2020-07-19T08:27:49.846989Z",
     "start_time": "2020-07-19T07:17:42.047918Z"
    },
    "hidden": true
   },
   "outputs": [],
   "source": [
    "#collecting mentions\n",
    "\n",
    "from datetime import datetime, date, time, timedelta\n",
    "leaders_mentions = []\n",
    "    \n",
    "for leader in new_list['Handles']:\n",
    "  try:\n",
    "    for status in tweepy.Cursor(api.user_timeline, id=leader).items():\n",
    "      if hasattr(status, \"entities\"):\n",
    "        entities = status.entities\n",
    "        if \"user_mentions\" in entities:\n",
    "          for ent in entities[\"user_mentions\"]:\n",
    "            if ent is not None:\n",
    "              if \"screen_name\" in ent:\n",
    "                name = ent[\"screen_name\"]\n",
    "                if name is not None:\n",
    "                  leaders_mentions.append(name)\n",
    "#       if status.created_at < end_date:\n",
    "            break\n",
    "  except Exception:\n",
    "            pass      "
   ]
  },
  {
   "cell_type": "code",
   "execution_count": 265,
   "metadata": {
    "ExecuteTime": {
     "end_time": "2020-07-19T08:39:15.287270Z",
     "start_time": "2020-07-19T08:39:15.232447Z"
    },
    "hidden": true,
    "scrolled": false
   },
   "outputs": [
    {
     "data": {
      "text/plain": [
       "['EUinEswatini',\n",
       " 'UNFPAEswatini',\n",
       " 'TW_Eswatini',\n",
       " 'UEswatini',\n",
       " '_AfricaTimes',\n",
       " 'UNAIDS',\n",
       " 'UN',\n",
       " 'UNFPAEswatini',\n",
       " 'Rolihlahla93',\n",
       " 'ngu_nonsh']"
      ]
     },
     "execution_count": 265,
     "metadata": {},
     "output_type": "execute_result"
    }
   ],
   "source": [
    "leaders_mentions[:10]    #it's a list of their twitter handle not screen name ()"
   ]
  },
  {
   "cell_type": "code",
   "execution_count": 266,
   "metadata": {
    "ExecuteTime": {
     "end_time": "2020-07-19T08:39:22.494540Z",
     "start_time": "2020-07-19T08:39:21.763787Z"
    },
    "hidden": true
   },
   "outputs": [
    {
     "data": {
      "text/html": [
       "<div>\n",
       "<style scoped>\n",
       "    .dataframe tbody tr th:only-of-type {\n",
       "        vertical-align: middle;\n",
       "    }\n",
       "\n",
       "    .dataframe tbody tr th {\n",
       "        vertical-align: top;\n",
       "    }\n",
       "\n",
       "    .dataframe thead th {\n",
       "        text-align: right;\n",
       "    }\n",
       "</style>\n",
       "<table border=\"1\" class=\"dataframe\">\n",
       "  <thead>\n",
       "    <tr style=\"text-align: right;\">\n",
       "      <th></th>\n",
       "      <th>mention</th>\n",
       "    </tr>\n",
       "  </thead>\n",
       "  <tbody>\n",
       "    <tr>\n",
       "      <th>0</th>\n",
       "      <td>EUinEswatini</td>\n",
       "    </tr>\n",
       "    <tr>\n",
       "      <th>1</th>\n",
       "      <td>UNFPAEswatini</td>\n",
       "    </tr>\n",
       "    <tr>\n",
       "      <th>2</th>\n",
       "      <td>TW_Eswatini</td>\n",
       "    </tr>\n",
       "    <tr>\n",
       "      <th>3</th>\n",
       "      <td>UEswatini</td>\n",
       "    </tr>\n",
       "    <tr>\n",
       "      <th>4</th>\n",
       "      <td>_AfricaTimes</td>\n",
       "    </tr>\n",
       "  </tbody>\n",
       "</table>\n",
       "</div>"
      ],
      "text/plain": [
       "         mention\n",
       "0   EUinEswatini\n",
       "1  UNFPAEswatini\n",
       "2    TW_Eswatini\n",
       "3      UEswatini\n",
       "4   _AfricaTimes"
      ]
     },
     "execution_count": 266,
     "metadata": {},
     "output_type": "execute_result"
    }
   ],
   "source": [
    "leaders_mention_csv=pd.DataFrame(leaders_mentions)\n",
    "leaders_mention_csv.columns=['mention']\n",
    "\n",
    "leaders_mention_csv.to_csv('leaders_mention.csv')\n",
    "\n",
    "leaders_mention_csv.head()"
   ]
  },
  {
   "cell_type": "code",
   "execution_count": 186,
   "metadata": {
    "ExecuteTime": {
     "end_time": "2020-07-18T10:49:25.836735Z",
     "start_time": "2020-07-18T09:18:55.584586Z"
    },
    "hidden": true
   },
   "outputs": [],
   "source": [
    "leaders_hashtags = {}\n",
    "\n",
    "for leader in new_list['Handles']:  \n",
    "  hs = []\n",
    "  try:  \n",
    "    for status in tweepy.Cursor(api.user_timeline, id=leader).items():\n",
    "      if hasattr(status, \"entities\"):\n",
    "        entities = status.entities\n",
    "        if \"hashtags\" in entities:\n",
    "          for ent in entities[\"hashtags\"]:\n",
    "            if ent is not None:\n",
    "              if \"text\" in ent:\n",
    "                hashtag = ent[\"text\"]\n",
    "                if hashtag is not None:\n",
    "                  hs.append(hashtag)\n",
    "    leaders_hashtags[leader] = hs\n",
    "  except Exception:\n",
    "        pass            "
   ]
  },
  {
   "cell_type": "code",
   "execution_count": 189,
   "metadata": {
    "ExecuteTime": {
     "end_time": "2020-07-18T12:42:40.361439Z",
     "start_time": "2020-07-18T12:42:40.345444Z"
    },
    "hidden": true,
    "scrolled": true
   },
   "outputs": [
    {
     "data": {
      "text/plain": [
       "['MalawiCabinet',\n",
       " 'MalawiCabinet',\n",
       " 'MalawiCabinet',\n",
       " 'MalawiCabinet',\n",
       " 'MalawiCabinet',\n",
       " 'MalawiCabinet',\n",
       " 'IndependenceDay',\n",
       " 'Malawi',\n",
       " 'InaugurationMalawi2020',\n",
       " 'InaugurationMalawi2020']"
      ]
     },
     "execution_count": 189,
     "metadata": {},
     "output_type": "execute_result"
    }
   ],
   "source": [
    "leaders_hashtags['@MalawiGovt'][:10]"
   ]
  },
  {
   "cell_type": "code",
   "execution_count": 190,
   "metadata": {
    "ExecuteTime": {
     "end_time": "2020-07-18T12:46:30.607740Z",
     "start_time": "2020-07-18T12:46:29.826953Z"
    },
    "hidden": true
   },
   "outputs": [
    {
     "data": {
      "text/html": [
       "<div>\n",
       "<style scoped>\n",
       "    .dataframe tbody tr th:only-of-type {\n",
       "        vertical-align: middle;\n",
       "    }\n",
       "\n",
       "    .dataframe tbody tr th {\n",
       "        vertical-align: top;\n",
       "    }\n",
       "\n",
       "    .dataframe thead th {\n",
       "        text-align: right;\n",
       "    }\n",
       "</style>\n",
       "<table border=\"1\" class=\"dataframe\">\n",
       "  <thead>\n",
       "    <tr style=\"text-align: right;\">\n",
       "      <th></th>\n",
       "      <th>@EswatiniGovern1</th>\n",
       "      <th>@MalawiGovt</th>\n",
       "      <th>@hagegeingob</th>\n",
       "      <th>@FinanceSC</th>\n",
       "      <th>@PresidencyZA</th>\n",
       "      <th>@mohzambia</th>\n",
       "      <th>@edmnangagwa</th>\n",
       "      <th>@MinSantedj</th>\n",
       "      <th>@hawelti</th>\n",
       "      <th>@StateHouseKenya</th>\n",
       "      <th>...</th>\n",
       "      <th>@NAkufoAddo</th>\n",
       "      <th>@President_GN</th>\n",
       "      <th>@USEmbalo</th>\n",
       "      <th>@PresidenceMali</th>\n",
       "      <th>@CheikhGhazouani</th>\n",
       "      <th>@IssoufouMhm</th>\n",
       "      <th>@MBuhari</th>\n",
       "      <th>@Macky_Sall</th>\n",
       "      <th>@PresidentBio</th>\n",
       "      <th>@MSPS_Togo</th>\n",
       "    </tr>\n",
       "  </thead>\n",
       "  <tbody>\n",
       "    <tr>\n",
       "      <th>0</th>\n",
       "      <td>COVID19</td>\n",
       "      <td>MalawiCabinet</td>\n",
       "      <td>ZindziMandela</td>\n",
       "      <td>COVID19</td>\n",
       "      <td>NelsonMandelaInternationalDay</td>\n",
       "      <td>COVID19</td>\n",
       "      <td>4thOfJuly</td>\n",
       "      <td>COVID19</td>\n",
       "      <td>Eritrea</td>\n",
       "      <td>Covid19</td>\n",
       "      <td>...</td>\n",
       "      <td>GovtThisWeek</td>\n",
       "      <td>COVID19</td>\n",
       "      <td>Portugal</td>\n",
       "      <td>ORTM</td>\n",
       "      <td>None</td>\n",
       "      <td>ZLECAf</td>\n",
       "      <td>DemocracyDay2020</td>\n",
       "      <td>ConseildesMinistresSn</td>\n",
       "      <td>SierraLeone</td>\n",
       "      <td>BigData</td>\n",
       "    </tr>\n",
       "    <tr>\n",
       "      <th>1</th>\n",
       "      <td>COVID19</td>\n",
       "      <td>MalawiCabinet</td>\n",
       "      <td>DRC</td>\n",
       "      <td>FA4JR</td>\n",
       "      <td>NelsonMandelaInternationalDay</td>\n",
       "      <td>COVID19</td>\n",
       "      <td>AfricaDay2020</td>\n",
       "      <td>Hackathon</td>\n",
       "      <td>Eritrea</td>\n",
       "      <td>Covid_19</td>\n",
       "      <td>...</td>\n",
       "      <td>4MoreToDoMoreForYou</td>\n",
       "      <td>Guinea</td>\n",
       "      <td>Guiné</td>\n",
       "      <td>Urgent</td>\n",
       "      <td>None</td>\n",
       "      <td>13Mai</td>\n",
       "      <td>PTFCOVID19</td>\n",
       "      <td>ConseildesMinistresSn</td>\n",
       "      <td>SierraLeone</td>\n",
       "      <td>esanté</td>\n",
       "    </tr>\n",
       "    <tr>\n",
       "      <th>2</th>\n",
       "      <td>COVID19</td>\n",
       "      <td>MalawiCabinet</td>\n",
       "      <td>HappyFathersDay2020</td>\n",
       "      <td>COVID19</td>\n",
       "      <td>NelsonMandelaInternationalDay</td>\n",
       "      <td>COVID19</td>\n",
       "      <td>mothersday2020</td>\n",
       "      <td>France</td>\n",
       "      <td>Eritrea</td>\n",
       "      <td>JukumuniSisi</td>\n",
       "      <td>...</td>\n",
       "      <td>GovtThisWeek</td>\n",
       "      <td>Fêtedutravail</td>\n",
       "      <td>CEDEAO</td>\n",
       "      <td>ORTM</td>\n",
       "      <td>None</td>\n",
       "      <td>UAE</td>\n",
       "      <td>COVID19</td>\n",
       "      <td>ConseildesMinistresSn</td>\n",
       "      <td>COVID19</td>\n",
       "      <td>sante</td>\n",
       "    </tr>\n",
       "    <tr>\n",
       "      <th>3</th>\n",
       "      <td>COVID19</td>\n",
       "      <td>MalawiCabinet</td>\n",
       "      <td>Periscope</td>\n",
       "      <td>FA4JR</td>\n",
       "      <td>NelsonMandelaInternationalDay</td>\n",
       "      <td>ParentingMonth</td>\n",
       "      <td>COVID19</td>\n",
       "      <td>Djibouti</td>\n",
       "      <td>Eritrea</td>\n",
       "      <td>KomeshaCorona</td>\n",
       "      <td>...</td>\n",
       "      <td>4MoreToDoMoreForYou</td>\n",
       "      <td>Guinée</td>\n",
       "      <td>Guiné</td>\n",
       "      <td>Urgent</td>\n",
       "      <td>None</td>\n",
       "      <td>EAU</td>\n",
       "      <td>COVID19</td>\n",
       "      <td>ConseildesMinistresSn</td>\n",
       "      <td>DPGAlliance</td>\n",
       "      <td>Lassa</td>\n",
       "    </tr>\n",
       "    <tr>\n",
       "      <th>4</th>\n",
       "      <td>COVID19</td>\n",
       "      <td>MalawiCabinet</td>\n",
       "      <td>NamSONA2020</td>\n",
       "      <td>COVID19</td>\n",
       "      <td>NelsonMandelaInternationalDay</td>\n",
       "      <td>COVID19</td>\n",
       "      <td>COVID19</td>\n",
       "      <td>France</td>\n",
       "      <td>Eritrea</td>\n",
       "      <td>COVIDー19</td>\n",
       "      <td>...</td>\n",
       "      <td>RegisterToVote2020</td>\n",
       "      <td>Ramadan</td>\n",
       "      <td>Sénégal</td>\n",
       "      <td>Mali</td>\n",
       "      <td>None</td>\n",
       "      <td>1erMai</td>\n",
       "      <td>COVID19</td>\n",
       "      <td>IGE</td>\n",
       "      <td>SierraLeone</td>\n",
       "      <td>Togo</td>\n",
       "    </tr>\n",
       "    <tr>\n",
       "      <th>5</th>\n",
       "      <td>COVID19</td>\n",
       "      <td>MalawiCabinet</td>\n",
       "      <td>NamSONA2020</td>\n",
       "      <td>FA4JR</td>\n",
       "      <td>NelsonMandelaInternationalDay</td>\n",
       "      <td>COVID19</td>\n",
       "      <td>NationalCommandCouncil</td>\n",
       "      <td>Djibouti</td>\n",
       "      <td>Eritrea</td>\n",
       "      <td>JukumuniSisi</td>\n",
       "      <td>...</td>\n",
       "      <td>4MoreToDoMoreForYou</td>\n",
       "      <td>Ramadan</td>\n",
       "      <td>Covid_19</td>\n",
       "      <td>Mali</td>\n",
       "      <td>None</td>\n",
       "      <td>Niger</td>\n",
       "      <td>PTFCOVID19</td>\n",
       "      <td>diaspora</td>\n",
       "      <td>BudapestBamako</td>\n",
       "      <td>santé</td>\n",
       "    </tr>\n",
       "    <tr>\n",
       "      <th>6</th>\n",
       "      <td>COVID19</td>\n",
       "      <td>IndependenceDay</td>\n",
       "      <td>NamSONA2020</td>\n",
       "      <td>COVID19</td>\n",
       "      <td>Presidentialimbizo</td>\n",
       "      <td>WHA73</td>\n",
       "      <td>FélixTshisekedi</td>\n",
       "      <td>Djibouti</td>\n",
       "      <td>Teleferica</td>\n",
       "      <td>CoronaVirus</td>\n",
       "      <td>...</td>\n",
       "      <td>RegisterToVote2020</td>\n",
       "      <td>Guinée</td>\n",
       "      <td>Covid_19</td>\n",
       "      <td>IBK</td>\n",
       "      <td>None</td>\n",
       "      <td>GlobalVaccine</td>\n",
       "      <td>Coronavirus</td>\n",
       "      <td>Covid19sn</td>\n",
       "      <td>COVID19</td>\n",
       "      <td>Team228</td>\n",
       "    </tr>\n",
       "    <tr>\n",
       "      <th>7</th>\n",
       "      <td>COVID19</td>\n",
       "      <td>Malawi</td>\n",
       "      <td>AU</td>\n",
       "      <td>FA4JR</td>\n",
       "      <td>PresidentialImbizo</td>\n",
       "      <td>EPICENTER</td>\n",
       "      <td>COVID19</td>\n",
       "      <td>COVID19</td>\n",
       "      <td>Italians</td>\n",
       "      <td>KomeshaCorona</td>\n",
       "      <td>...</td>\n",
       "      <td>4MoreToDoMoreForYou</td>\n",
       "      <td>coronavirus</td>\n",
       "      <td>CoronaPandemie</td>\n",
       "      <td>Urgent</td>\n",
       "      <td>None</td>\n",
       "      <td>COVID19</td>\n",
       "      <td>PTFCOVID19</td>\n",
       "      <td>ConseildesMinistresSn</td>\n",
       "      <td>SierraLeone</td>\n",
       "      <td>TgInfo</td>\n",
       "    </tr>\n",
       "    <tr>\n",
       "      <th>8</th>\n",
       "      <td>COVID19</td>\n",
       "      <td>InaugurationMalawi2020</td>\n",
       "      <td>AfricaDay</td>\n",
       "      <td>COVID19</td>\n",
       "      <td>PresidentialImbizo</td>\n",
       "      <td>COVID</td>\n",
       "      <td>ZimLockdown</td>\n",
       "      <td>COVID19</td>\n",
       "      <td>Eritrea</td>\n",
       "      <td>KomeshaCorona</td>\n",
       "      <td>...</td>\n",
       "      <td>RegisterToVote2020</td>\n",
       "      <td>Coronavirus</td>\n",
       "      <td>GuineaBissau</td>\n",
       "      <td>Mali</td>\n",
       "      <td>None</td>\n",
       "      <td>CEDEAO</td>\n",
       "      <td>thread</td>\n",
       "      <td>ConseildesMinistresSn</td>\n",
       "      <td>coronavirus</td>\n",
       "      <td>Santé</td>\n",
       "    </tr>\n",
       "    <tr>\n",
       "      <th>9</th>\n",
       "      <td>COVID19</td>\n",
       "      <td>InaugurationMalawi2020</td>\n",
       "      <td>Agenda2063</td>\n",
       "      <td>FA4JR</td>\n",
       "      <td>ZindziMandela</td>\n",
       "      <td>Zambia</td>\n",
       "      <td>COVID19</td>\n",
       "      <td>COVID19</td>\n",
       "      <td>Eritrea</td>\n",
       "      <td>Coronavirus</td>\n",
       "      <td>...</td>\n",
       "      <td>4MoreToDoMoreForYou</td>\n",
       "      <td>coronavirus</td>\n",
       "      <td>AsoVillaToday</td>\n",
       "      <td>Mali</td>\n",
       "      <td>None</td>\n",
       "      <td>G5Sahel</td>\n",
       "      <td>30yearsweddinganniversary</td>\n",
       "      <td>ConseildesMinistresSn</td>\n",
       "      <td>COVID</td>\n",
       "      <td>OMS</td>\n",
       "    </tr>\n",
       "  </tbody>\n",
       "</table>\n",
       "<p>10 rows × 36 columns</p>\n",
       "</div>"
      ],
      "text/plain": [
       "  @EswatiniGovern1             @MalawiGovt         @hagegeingob @FinanceSC  \\\n",
       "0          COVID19           MalawiCabinet        ZindziMandela    COVID19   \n",
       "1          COVID19           MalawiCabinet                  DRC      FA4JR   \n",
       "2          COVID19           MalawiCabinet  HappyFathersDay2020    COVID19   \n",
       "3          COVID19           MalawiCabinet            Periscope      FA4JR   \n",
       "4          COVID19           MalawiCabinet          NamSONA2020    COVID19   \n",
       "5          COVID19           MalawiCabinet          NamSONA2020      FA4JR   \n",
       "6          COVID19         IndependenceDay          NamSONA2020    COVID19   \n",
       "7          COVID19                  Malawi                   AU      FA4JR   \n",
       "8          COVID19  InaugurationMalawi2020            AfricaDay    COVID19   \n",
       "9          COVID19  InaugurationMalawi2020           Agenda2063      FA4JR   \n",
       "\n",
       "                   @PresidencyZA      @mohzambia            @edmnangagwa  \\\n",
       "0  NelsonMandelaInternationalDay         COVID19               4thOfJuly   \n",
       "1  NelsonMandelaInternationalDay         COVID19           AfricaDay2020   \n",
       "2  NelsonMandelaInternationalDay         COVID19          mothersday2020   \n",
       "3  NelsonMandelaInternationalDay  ParentingMonth                 COVID19   \n",
       "4  NelsonMandelaInternationalDay         COVID19                 COVID19   \n",
       "5  NelsonMandelaInternationalDay         COVID19  NationalCommandCouncil   \n",
       "6             Presidentialimbizo           WHA73         FélixTshisekedi   \n",
       "7             PresidentialImbizo       EPICENTER                 COVID19   \n",
       "8             PresidentialImbizo           COVID             ZimLockdown   \n",
       "9                  ZindziMandela          Zambia                 COVID19   \n",
       "\n",
       "  @MinSantedj    @hawelti @StateHouseKenya    ...              @NAkufoAddo  \\\n",
       "0     COVID19     Eritrea          Covid19    ...             GovtThisWeek   \n",
       "1   Hackathon     Eritrea         Covid_19    ...      4MoreToDoMoreForYou   \n",
       "2      France     Eritrea     JukumuniSisi    ...             GovtThisWeek   \n",
       "3    Djibouti     Eritrea    KomeshaCorona    ...      4MoreToDoMoreForYou   \n",
       "4      France     Eritrea         COVIDー19    ...       RegisterToVote2020   \n",
       "5    Djibouti     Eritrea     JukumuniSisi    ...      4MoreToDoMoreForYou   \n",
       "6    Djibouti  Teleferica      CoronaVirus    ...       RegisterToVote2020   \n",
       "7     COVID19    Italians    KomeshaCorona    ...      4MoreToDoMoreForYou   \n",
       "8     COVID19     Eritrea    KomeshaCorona    ...       RegisterToVote2020   \n",
       "9     COVID19     Eritrea      Coronavirus    ...      4MoreToDoMoreForYou   \n",
       "\n",
       "   @President_GN       @USEmbalo @PresidenceMali @CheikhGhazouani  \\\n",
       "0        COVID19        Portugal            ORTM             None   \n",
       "1         Guinea           Guiné          Urgent             None   \n",
       "2  Fêtedutravail          CEDEAO            ORTM             None   \n",
       "3         Guinée           Guiné          Urgent             None   \n",
       "4        Ramadan         Sénégal            Mali             None   \n",
       "5        Ramadan        Covid_19            Mali             None   \n",
       "6         Guinée        Covid_19             IBK             None   \n",
       "7    coronavirus  CoronaPandemie          Urgent             None   \n",
       "8    Coronavirus    GuineaBissau            Mali             None   \n",
       "9    coronavirus   AsoVillaToday            Mali             None   \n",
       "\n",
       "    @IssoufouMhm                   @MBuhari            @Macky_Sall  \\\n",
       "0         ZLECAf           DemocracyDay2020  ConseildesMinistresSn   \n",
       "1          13Mai                 PTFCOVID19  ConseildesMinistresSn   \n",
       "2            UAE                    COVID19  ConseildesMinistresSn   \n",
       "3            EAU                    COVID19  ConseildesMinistresSn   \n",
       "4         1erMai                    COVID19                    IGE   \n",
       "5          Niger                 PTFCOVID19               diaspora   \n",
       "6  GlobalVaccine                Coronavirus              Covid19sn   \n",
       "7        COVID19                 PTFCOVID19  ConseildesMinistresSn   \n",
       "8         CEDEAO                     thread  ConseildesMinistresSn   \n",
       "9        G5Sahel  30yearsweddinganniversary  ConseildesMinistresSn   \n",
       "\n",
       "    @PresidentBio @MSPS_Togo  \n",
       "0     SierraLeone    BigData  \n",
       "1     SierraLeone     esanté  \n",
       "2         COVID19      sante  \n",
       "3     DPGAlliance      Lassa  \n",
       "4     SierraLeone       Togo  \n",
       "5  BudapestBamako      santé  \n",
       "6         COVID19    Team228  \n",
       "7     SierraLeone     TgInfo  \n",
       "8     coronavirus      Santé  \n",
       "9           COVID        OMS  \n",
       "\n",
       "[10 rows x 36 columns]"
      ]
     },
     "execution_count": 190,
     "metadata": {},
     "output_type": "execute_result"
    }
   ],
   "source": [
    "df1=pd.DataFrame.from_dict(leaders_hashtags, orient='index')\n",
    "df1=df1.transpose()\n",
    "df1.head(10)    #the dataframe for 10 hashtage for "
   ]
  },
  {
   "cell_type": "code",
   "execution_count": 191,
   "metadata": {
    "ExecuteTime": {
     "end_time": "2020-07-18T12:47:02.547182Z",
     "start_time": "2020-07-18T12:47:02.288031Z"
    },
    "hidden": true
   },
   "outputs": [],
   "source": [
    "df1.to_csv('leaders_hashtag.csv') "
   ]
  },
  {
   "cell_type": "markdown",
   "metadata": {
    "heading_collapsed": true,
    "hidden": true
   },
   "source": [
    "### Calculating popularity_score, reach_score and relevance_scores.\n",
    "In the cells above, I have gotten the information for both the government and influencers handles. In the next couple of cells, I will be calculating their popularity_score, reach_score and relevance_scores "
   ]
  },
  {
   "cell_type": "code",
   "execution_count": 196,
   "metadata": {
    "ExecuteTime": {
     "end_time": "2020-07-18T15:08:11.332858Z",
     "start_time": "2020-07-18T15:08:11.322843Z"
    },
    "hidden": true
   },
   "outputs": [
    {
     "data": {
      "text/plain": [
       "129"
      ]
     },
     "execution_count": 196,
     "metadata": {},
     "output_type": "execute_result"
    }
   ],
   "source": [
    "#joining their screen names as a list\n",
    "\n",
    "total_name = names + leader_names\n",
    "len(total_name)   ##93+36 (7 invalid influeuncer handles)"
   ]
  },
  {
   "cell_type": "code",
   "execution_count": 198,
   "metadata": {
    "ExecuteTime": {
     "end_time": "2020-07-18T15:11:18.027721Z",
     "start_time": "2020-07-18T15:11:18.017722Z"
    },
    "hidden": true
   },
   "outputs": [
    {
     "data": {
      "text/plain": [
       "129"
      ]
     },
     "execution_count": 198,
     "metadata": {},
     "output_type": "execute_result"
    }
   ],
   "source": [
    "#joining their retweet count\n",
    "\n",
    "total_retweet = rt_count + leader_rt_count\n",
    "len(total_retweet)"
   ]
  },
  {
   "cell_type": "code",
   "execution_count": 199,
   "metadata": {
    "ExecuteTime": {
     "end_time": "2020-07-18T15:14:49.228231Z",
     "start_time": "2020-07-18T15:14:49.145085Z"
    },
    "hidden": true
   },
   "outputs": [
    {
     "data": {
      "text/plain": [
       "129"
      ]
     },
     "execution_count": 199,
     "metadata": {},
     "output_type": "execute_result"
    }
   ],
   "source": [
    "#joining their number of likes\n",
    "\n",
    "total_like = likes_count + leader_likes_count\n",
    "len(total_like)"
   ]
  },
  {
   "cell_type": "code",
   "execution_count": 200,
   "metadata": {
    "ExecuteTime": {
     "end_time": "2020-07-18T15:16:33.981081Z",
     "start_time": "2020-07-18T15:16:33.971096Z"
    },
    "hidden": true
   },
   "outputs": [
    {
     "data": {
      "text/plain": [
       "129"
      ]
     },
     "execution_count": 200,
     "metadata": {},
     "output_type": "execute_result"
    }
   ],
   "source": [
    "#joining their follower count\n",
    "\n",
    "total_follower = followers + leaders_followers\n",
    "len(total_follower)"
   ]
  },
  {
   "cell_type": "code",
   "execution_count": 201,
   "metadata": {
    "ExecuteTime": {
     "end_time": "2020-07-18T15:17:53.992829Z",
     "start_time": "2020-07-18T15:17:53.901383Z"
    },
    "hidden": true
   },
   "outputs": [
    {
     "data": {
      "text/plain": [
       "129"
      ]
     },
     "execution_count": 201,
     "metadata": {},
     "output_type": "execute_result"
    }
   ],
   "source": [
    "#joining their following count\n",
    "\n",
    "total_following = friends + leader_friends\n",
    "len(total_following)"
   ]
  },
  {
   "cell_type": "code",
   "execution_count": 267,
   "metadata": {
    "ExecuteTime": {
     "end_time": "2020-07-19T08:39:40.200801Z",
     "start_time": "2020-07-19T08:39:38.424700Z"
    },
    "hidden": true,
    "scrolled": false
   },
   "outputs": [
    {
     "data": {
      "text/plain": [
       "129"
      ]
     },
     "execution_count": 267,
     "metadata": {},
     "output_type": "execute_result"
    }
   ],
   "source": [
    "# To get mentions, I need to extract their user name from the list I got above\n",
    "\n",
    "total_mentions = mentions + leaders_mentions\n",
    "mention_dict = {}\n",
    "for name in total_name:\n",
    "    mn = 0\n",
    "    for mention in total_mentions:\n",
    "        if name == mention:\n",
    "            mn += 1\n",
    "    mention_dict[name] = mn\n",
    "\n",
    "len(mention_dict)    "
   ]
  },
  {
   "cell_type": "code",
   "execution_count": 257,
   "metadata": {
    "ExecuteTime": {
     "end_time": "2020-07-19T07:09:09.807537Z",
     "start_time": "2020-07-19T07:09:09.707509Z"
    },
    "hidden": true
   },
   "outputs": [
    {
     "data": {
      "text/html": [
       "<div>\n",
       "<style scoped>\n",
       "    .dataframe tbody tr th:only-of-type {\n",
       "        vertical-align: middle;\n",
       "    }\n",
       "\n",
       "    .dataframe tbody tr th {\n",
       "        vertical-align: top;\n",
       "    }\n",
       "\n",
       "    .dataframe thead th {\n",
       "        text-align: right;\n",
       "    }\n",
       "</style>\n",
       "<table border=\"1\" class=\"dataframe\">\n",
       "  <thead>\n",
       "    <tr style=\"text-align: right;\">\n",
       "      <th></th>\n",
       "      <th>handle</th>\n",
       "      <th>retweet_count</th>\n",
       "      <th>like_count</th>\n",
       "      <th>follower_count</th>\n",
       "      <th>following_count</th>\n",
       "    </tr>\n",
       "  </thead>\n",
       "  <tbody>\n",
       "    <tr>\n",
       "      <th>0</th>\n",
       "      <td>Trevornoah</td>\n",
       "      <td>4609962</td>\n",
       "      <td>1235122</td>\n",
       "      <td>10801764</td>\n",
       "      <td>325</td>\n",
       "    </tr>\n",
       "    <tr>\n",
       "      <th>1</th>\n",
       "      <td>GarethCliff</td>\n",
       "      <td>39668</td>\n",
       "      <td>13190</td>\n",
       "      <td>1974454</td>\n",
       "      <td>356</td>\n",
       "    </tr>\n",
       "    <tr>\n",
       "      <th>2</th>\n",
       "      <td>SAPresident</td>\n",
       "      <td>851</td>\n",
       "      <td>0</td>\n",
       "      <td>18</td>\n",
       "      <td>14</td>\n",
       "    </tr>\n",
       "    <tr>\n",
       "      <th>3</th>\n",
       "      <td>News24</td>\n",
       "      <td>7710</td>\n",
       "      <td>14020</td>\n",
       "      <td>3574787</td>\n",
       "      <td>632</td>\n",
       "    </tr>\n",
       "    <tr>\n",
       "      <th>4</th>\n",
       "      <td>Julius_S_Malema</td>\n",
       "      <td>143963</td>\n",
       "      <td>117026</td>\n",
       "      <td>3125323</td>\n",
       "      <td>652</td>\n",
       "    </tr>\n",
       "  </tbody>\n",
       "</table>\n",
       "</div>"
      ],
      "text/plain": [
       "            handle  retweet_count  like_count  follower_count  following_count\n",
       "0       Trevornoah        4609962     1235122        10801764              325\n",
       "1      GarethCliff          39668       13190         1974454              356\n",
       "2      SAPresident            851           0              18               14\n",
       "3           News24           7710       14020         3574787              632\n",
       "4  Julius_S_Malema         143963      117026         3125323              652"
      ]
     },
     "execution_count": 257,
     "metadata": {},
     "output_type": "execute_result"
    }
   ],
   "source": [
    "#forming dataframe from the total lists above\n",
    "\n",
    "total_df = pd.DataFrame(list(zip(total_name, total_retweet, total_like, total_follower, total_following)), \n",
    "                        columns=['handle', 'retweet_count', 'like_count', 'follower_count', 'following_count'])\n",
    "\n",
    "total_df.head()"
   ]
  },
  {
   "cell_type": "code",
   "execution_count": 268,
   "metadata": {
    "ExecuteTime": {
     "end_time": "2020-07-19T08:39:46.892555Z",
     "start_time": "2020-07-19T08:39:46.762542Z"
    },
    "hidden": true
   },
   "outputs": [
    {
     "data": {
      "text/html": [
       "<div>\n",
       "<style scoped>\n",
       "    .dataframe tbody tr th:only-of-type {\n",
       "        vertical-align: middle;\n",
       "    }\n",
       "\n",
       "    .dataframe tbody tr th {\n",
       "        vertical-align: top;\n",
       "    }\n",
       "\n",
       "    .dataframe thead th {\n",
       "        text-align: right;\n",
       "    }\n",
       "</style>\n",
       "<table border=\"1\" class=\"dataframe\">\n",
       "  <thead>\n",
       "    <tr style=\"text-align: right;\">\n",
       "      <th></th>\n",
       "      <th>handle</th>\n",
       "      <th>mention_count</th>\n",
       "    </tr>\n",
       "  </thead>\n",
       "  <tbody>\n",
       "    <tr>\n",
       "      <th>0</th>\n",
       "      <td>Trevornoah</td>\n",
       "      <td>200</td>\n",
       "    </tr>\n",
       "    <tr>\n",
       "      <th>1</th>\n",
       "      <td>GarethCliff</td>\n",
       "      <td>516</td>\n",
       "    </tr>\n",
       "    <tr>\n",
       "      <th>2</th>\n",
       "      <td>SAPresident</td>\n",
       "      <td>4</td>\n",
       "    </tr>\n",
       "    <tr>\n",
       "      <th>3</th>\n",
       "      <td>News24</td>\n",
       "      <td>68</td>\n",
       "    </tr>\n",
       "    <tr>\n",
       "      <th>4</th>\n",
       "      <td>Julius_S_Malema</td>\n",
       "      <td>182</td>\n",
       "    </tr>\n",
       "  </tbody>\n",
       "</table>\n",
       "</div>"
      ],
      "text/plain": [
       "            handle  mention_count\n",
       "0       Trevornoah            200\n",
       "1      GarethCliff            516\n",
       "2      SAPresident              4\n",
       "3           News24             68\n",
       "4  Julius_S_Malema            182"
      ]
     },
     "execution_count": 268,
     "metadata": {},
     "output_type": "execute_result"
    }
   ],
   "source": [
    "#forming dataframe from mention dict\n",
    "\n",
    "mention_df=pd.DataFrame.from_dict(mention_dict, orient='index').reset_index()\n",
    "\n",
    "mention_df.columns=['handle', 'mention_count']\n",
    "mention_df.head(5)"
   ]
  },
  {
   "cell_type": "code",
   "execution_count": 269,
   "metadata": {
    "ExecuteTime": {
     "end_time": "2020-07-19T08:39:51.756821Z",
     "start_time": "2020-07-19T08:39:51.746821Z"
    },
    "hidden": true
   },
   "outputs": [
    {
     "data": {
      "text/plain": [
       "129"
      ]
     },
     "execution_count": 269,
     "metadata": {},
     "output_type": "execute_result"
    }
   ],
   "source": [
    "len(mention_df)"
   ]
  },
  {
   "cell_type": "code",
   "execution_count": 270,
   "metadata": {
    "ExecuteTime": {
     "end_time": "2020-07-19T08:39:56.404254Z",
     "start_time": "2020-07-19T08:39:56.327066Z"
    },
    "hidden": true,
    "scrolled": true
   },
   "outputs": [
    {
     "data": {
      "text/html": [
       "<div>\n",
       "<style scoped>\n",
       "    .dataframe tbody tr th:only-of-type {\n",
       "        vertical-align: middle;\n",
       "    }\n",
       "\n",
       "    .dataframe tbody tr th {\n",
       "        vertical-align: top;\n",
       "    }\n",
       "\n",
       "    .dataframe thead th {\n",
       "        text-align: right;\n",
       "    }\n",
       "</style>\n",
       "<table border=\"1\" class=\"dataframe\">\n",
       "  <thead>\n",
       "    <tr style=\"text-align: right;\">\n",
       "      <th></th>\n",
       "      <th>handle</th>\n",
       "      <th>retweet_count</th>\n",
       "      <th>like_count</th>\n",
       "      <th>follower_count</th>\n",
       "      <th>following_count</th>\n",
       "      <th>mention_count</th>\n",
       "    </tr>\n",
       "  </thead>\n",
       "  <tbody>\n",
       "    <tr>\n",
       "      <th>0</th>\n",
       "      <td>Trevornoah</td>\n",
       "      <td>4609962</td>\n",
       "      <td>1235122</td>\n",
       "      <td>10801764</td>\n",
       "      <td>325</td>\n",
       "      <td>200</td>\n",
       "    </tr>\n",
       "    <tr>\n",
       "      <th>1</th>\n",
       "      <td>GarethCliff</td>\n",
       "      <td>39668</td>\n",
       "      <td>13190</td>\n",
       "      <td>1974454</td>\n",
       "      <td>356</td>\n",
       "      <td>516</td>\n",
       "    </tr>\n",
       "    <tr>\n",
       "      <th>2</th>\n",
       "      <td>SAPresident</td>\n",
       "      <td>851</td>\n",
       "      <td>0</td>\n",
       "      <td>18</td>\n",
       "      <td>14</td>\n",
       "      <td>4</td>\n",
       "    </tr>\n",
       "    <tr>\n",
       "      <th>3</th>\n",
       "      <td>News24</td>\n",
       "      <td>7710</td>\n",
       "      <td>14020</td>\n",
       "      <td>3574787</td>\n",
       "      <td>632</td>\n",
       "      <td>68</td>\n",
       "    </tr>\n",
       "    <tr>\n",
       "      <th>4</th>\n",
       "      <td>Julius_S_Malema</td>\n",
       "      <td>143963</td>\n",
       "      <td>117026</td>\n",
       "      <td>3125323</td>\n",
       "      <td>652</td>\n",
       "      <td>182</td>\n",
       "    </tr>\n",
       "  </tbody>\n",
       "</table>\n",
       "</div>"
      ],
      "text/plain": [
       "            handle  retweet_count  like_count  follower_count  \\\n",
       "0       Trevornoah        4609962     1235122        10801764   \n",
       "1      GarethCliff          39668       13190         1974454   \n",
       "2      SAPresident            851           0              18   \n",
       "3           News24           7710       14020         3574787   \n",
       "4  Julius_S_Malema         143963      117026         3125323   \n",
       "\n",
       "   following_count  mention_count  \n",
       "0              325            200  \n",
       "1              356            516  \n",
       "2               14              4  \n",
       "3              632             68  \n",
       "4              652            182  "
      ]
     },
     "execution_count": 270,
     "metadata": {},
     "output_type": "execute_result"
    }
   ],
   "source": [
    "#joining the mention dataframe and total dataframe on the handle column\n",
    "\n",
    "final_df = pd.merge(total_df, mention_df, on='handle')\n",
    "final_df.head()"
   ]
  },
  {
   "cell_type": "code",
   "execution_count": 271,
   "metadata": {
    "ExecuteTime": {
     "end_time": "2020-07-19T08:40:13.202582Z",
     "start_time": "2020-07-19T08:40:13.015864Z"
    },
    "hidden": true,
    "scrolled": true
   },
   "outputs": [
    {
     "data": {
      "text/html": [
       "<div>\n",
       "<style scoped>\n",
       "    .dataframe tbody tr th:only-of-type {\n",
       "        vertical-align: middle;\n",
       "    }\n",
       "\n",
       "    .dataframe tbody tr th {\n",
       "        vertical-align: top;\n",
       "    }\n",
       "\n",
       "    .dataframe thead th {\n",
       "        text-align: right;\n",
       "    }\n",
       "</style>\n",
       "<table border=\"1\" class=\"dataframe\">\n",
       "  <thead>\n",
       "    <tr style=\"text-align: right;\">\n",
       "      <th></th>\n",
       "      <th>handle</th>\n",
       "      <th>retweet_count</th>\n",
       "      <th>like_count</th>\n",
       "      <th>follower_count</th>\n",
       "      <th>following_count</th>\n",
       "      <th>mention_count</th>\n",
       "      <th>popularity_score</th>\n",
       "      <th>reach_score</th>\n",
       "    </tr>\n",
       "  </thead>\n",
       "  <tbody>\n",
       "    <tr>\n",
       "      <th>0</th>\n",
       "      <td>Trevornoah</td>\n",
       "      <td>4609962</td>\n",
       "      <td>1235122</td>\n",
       "      <td>10801764</td>\n",
       "      <td>325</td>\n",
       "      <td>200</td>\n",
       "      <td>5845084</td>\n",
       "      <td>10801439</td>\n",
       "    </tr>\n",
       "    <tr>\n",
       "      <th>1</th>\n",
       "      <td>GarethCliff</td>\n",
       "      <td>39668</td>\n",
       "      <td>13190</td>\n",
       "      <td>1974454</td>\n",
       "      <td>356</td>\n",
       "      <td>516</td>\n",
       "      <td>52858</td>\n",
       "      <td>1974098</td>\n",
       "    </tr>\n",
       "    <tr>\n",
       "      <th>2</th>\n",
       "      <td>SAPresident</td>\n",
       "      <td>851</td>\n",
       "      <td>0</td>\n",
       "      <td>18</td>\n",
       "      <td>14</td>\n",
       "      <td>4</td>\n",
       "      <td>851</td>\n",
       "      <td>4</td>\n",
       "    </tr>\n",
       "    <tr>\n",
       "      <th>3</th>\n",
       "      <td>News24</td>\n",
       "      <td>7710</td>\n",
       "      <td>14020</td>\n",
       "      <td>3574787</td>\n",
       "      <td>632</td>\n",
       "      <td>68</td>\n",
       "      <td>21730</td>\n",
       "      <td>3574155</td>\n",
       "    </tr>\n",
       "    <tr>\n",
       "      <th>4</th>\n",
       "      <td>Julius_S_Malema</td>\n",
       "      <td>143963</td>\n",
       "      <td>117026</td>\n",
       "      <td>3125323</td>\n",
       "      <td>652</td>\n",
       "      <td>182</td>\n",
       "      <td>260989</td>\n",
       "      <td>3124671</td>\n",
       "    </tr>\n",
       "  </tbody>\n",
       "</table>\n",
       "</div>"
      ],
      "text/plain": [
       "            handle  retweet_count  like_count  follower_count  \\\n",
       "0       Trevornoah        4609962     1235122        10801764   \n",
       "1      GarethCliff          39668       13190         1974454   \n",
       "2      SAPresident            851           0              18   \n",
       "3           News24           7710       14020         3574787   \n",
       "4  Julius_S_Malema         143963      117026         3125323   \n",
       "\n",
       "   following_count  mention_count  popularity_score  reach_score  \n",
       "0              325            200           5845084     10801439  \n",
       "1              356            516             52858      1974098  \n",
       "2               14              4               851            4  \n",
       "3              632             68             21730      3574155  \n",
       "4              652            182            260989      3124671  "
      ]
     },
     "execution_count": 271,
     "metadata": {},
     "output_type": "execute_result"
    }
   ],
   "source": [
    "#calculating popularity_score\n",
    "final_df['popularity_score'] = final_df['retweet_count'] + final_df['like_count']\n",
    "\n",
    "#calculating reach_score\n",
    "final_df['reach_score'] = final_df['follower_count'] - final_df['following_count']\n",
    "\n",
    "#I can not calculate relevance_score since I could not access the number of comments: its only available for premium members\n",
    "final_df.head()"
   ]
  },
  {
   "cell_type": "code",
   "execution_count": 273,
   "metadata": {
    "ExecuteTime": {
     "end_time": "2020-07-19T08:40:46.190440Z",
     "start_time": "2020-07-19T08:40:46.170444Z"
    },
    "hidden": true
   },
   "outputs": [
    {
     "data": {
      "text/html": [
       "<div>\n",
       "<style scoped>\n",
       "    .dataframe tbody tr th:only-of-type {\n",
       "        vertical-align: middle;\n",
       "    }\n",
       "\n",
       "    .dataframe tbody tr th {\n",
       "        vertical-align: top;\n",
       "    }\n",
       "\n",
       "    .dataframe thead th {\n",
       "        text-align: right;\n",
       "    }\n",
       "</style>\n",
       "<table border=\"1\" class=\"dataframe\">\n",
       "  <thead>\n",
       "    <tr style=\"text-align: right;\">\n",
       "      <th></th>\n",
       "      <th>handle</th>\n",
       "      <th>retweet_count</th>\n",
       "      <th>like_count</th>\n",
       "      <th>follower_count</th>\n",
       "      <th>following_count</th>\n",
       "      <th>mention_count</th>\n",
       "      <th>popularity_score</th>\n",
       "      <th>reach_score</th>\n",
       "    </tr>\n",
       "  </thead>\n",
       "  <tbody>\n",
       "    <tr>\n",
       "      <th>0</th>\n",
       "      <td>Trevornoah</td>\n",
       "      <td>4609962</td>\n",
       "      <td>1235122</td>\n",
       "      <td>10801764</td>\n",
       "      <td>325</td>\n",
       "      <td>200</td>\n",
       "      <td>5845084</td>\n",
       "      <td>10801439</td>\n",
       "    </tr>\n",
       "    <tr>\n",
       "      <th>119</th>\n",
       "      <td>NAkufoAddo</td>\n",
       "      <td>152059</td>\n",
       "      <td>880533</td>\n",
       "      <td>1506364</td>\n",
       "      <td>352</td>\n",
       "      <td>172</td>\n",
       "      <td>1032592</td>\n",
       "      <td>1506012</td>\n",
       "    </tr>\n",
       "    <tr>\n",
       "      <th>28</th>\n",
       "      <td>JendayiFrazer</td>\n",
       "      <td>897526</td>\n",
       "      <td>12</td>\n",
       "      <td>29941</td>\n",
       "      <td>480</td>\n",
       "      <td>1</td>\n",
       "      <td>897538</td>\n",
       "      <td>29461</td>\n",
       "    </tr>\n",
       "    <tr>\n",
       "      <th>103</th>\n",
       "      <td>PaulKagame</td>\n",
       "      <td>146594</td>\n",
       "      <td>542067</td>\n",
       "      <td>1982615</td>\n",
       "      <td>181</td>\n",
       "      <td>76</td>\n",
       "      <td>688661</td>\n",
       "      <td>1982434</td>\n",
       "    </tr>\n",
       "    <tr>\n",
       "      <th>8</th>\n",
       "      <td>loyisogola</td>\n",
       "      <td>560184</td>\n",
       "      <td>6642</td>\n",
       "      <td>1085138</td>\n",
       "      <td>3948</td>\n",
       "      <td>215</td>\n",
       "      <td>566826</td>\n",
       "      <td>1081190</td>\n",
       "    </tr>\n",
       "    <tr>\n",
       "      <th>108</th>\n",
       "      <td>KagutaMuseveni</td>\n",
       "      <td>82943</td>\n",
       "      <td>465241</td>\n",
       "      <td>1811633</td>\n",
       "      <td>28</td>\n",
       "      <td>31</td>\n",
       "      <td>548184</td>\n",
       "      <td>1811605</td>\n",
       "    </tr>\n",
       "    <tr>\n",
       "      <th>19</th>\n",
       "      <td>hartleyr</td>\n",
       "      <td>503546</td>\n",
       "      <td>388</td>\n",
       "      <td>35218</td>\n",
       "      <td>455</td>\n",
       "      <td>2</td>\n",
       "      <td>503934</td>\n",
       "      <td>34763</td>\n",
       "    </tr>\n",
       "    <tr>\n",
       "      <th>47</th>\n",
       "      <td>schneiderhome</td>\n",
       "      <td>477706</td>\n",
       "      <td>12272</td>\n",
       "      <td>26399</td>\n",
       "      <td>1007</td>\n",
       "      <td>0</td>\n",
       "      <td>489978</td>\n",
       "      <td>25392</td>\n",
       "    </tr>\n",
       "    <tr>\n",
       "      <th>125</th>\n",
       "      <td>MBuhari</td>\n",
       "      <td>89771</td>\n",
       "      <td>362189</td>\n",
       "      <td>3270290</td>\n",
       "      <td>26</td>\n",
       "      <td>51</td>\n",
       "      <td>451960</td>\n",
       "      <td>3270264</td>\n",
       "    </tr>\n",
       "    <tr>\n",
       "      <th>58</th>\n",
       "      <td>africagathering</td>\n",
       "      <td>419307</td>\n",
       "      <td>145</td>\n",
       "      <td>48956</td>\n",
       "      <td>653</td>\n",
       "      <td>0</td>\n",
       "      <td>419452</td>\n",
       "      <td>48303</td>\n",
       "    </tr>\n",
       "  </tbody>\n",
       "</table>\n",
       "</div>"
      ],
      "text/plain": [
       "              handle  retweet_count  like_count  follower_count  \\\n",
       "0         Trevornoah        4609962     1235122        10801764   \n",
       "119       NAkufoAddo         152059      880533         1506364   \n",
       "28     JendayiFrazer         897526          12           29941   \n",
       "103       PaulKagame         146594      542067         1982615   \n",
       "8         loyisogola         560184        6642         1085138   \n",
       "108   KagutaMuseveni          82943      465241         1811633   \n",
       "19          hartleyr         503546         388           35218   \n",
       "47     schneiderhome         477706       12272           26399   \n",
       "125          MBuhari          89771      362189         3270290   \n",
       "58   africagathering         419307         145           48956   \n",
       "\n",
       "     following_count  mention_count  popularity_score  reach_score  \n",
       "0                325            200           5845084     10801439  \n",
       "119              352            172           1032592      1506012  \n",
       "28               480              1            897538        29461  \n",
       "103              181             76            688661      1982434  \n",
       "8               3948            215            566826      1081190  \n",
       "108               28             31            548184      1811605  \n",
       "19               455              2            503934        34763  \n",
       "47              1007              0            489978        25392  \n",
       "125               26             51            451960      3270264  \n",
       "58               653              0            419452        48303  "
      ]
     },
     "execution_count": 273,
     "metadata": {},
     "output_type": "execute_result"
    }
   ],
   "source": [
    "final_df.sort_values(by=['popularity_score'], ascending=False).head(10)"
   ]
  },
  {
   "cell_type": "code",
   "execution_count": 274,
   "metadata": {
    "ExecuteTime": {
     "end_time": "2020-07-19T08:41:24.896019Z",
     "start_time": "2020-07-19T08:41:24.801025Z"
    },
    "hidden": true
   },
   "outputs": [
    {
     "data": {
      "text/html": [
       "<div>\n",
       "<style scoped>\n",
       "    .dataframe tbody tr th:only-of-type {\n",
       "        vertical-align: middle;\n",
       "    }\n",
       "\n",
       "    .dataframe tbody tr th {\n",
       "        vertical-align: top;\n",
       "    }\n",
       "\n",
       "    .dataframe thead th {\n",
       "        text-align: right;\n",
       "    }\n",
       "</style>\n",
       "<table border=\"1\" class=\"dataframe\">\n",
       "  <thead>\n",
       "    <tr style=\"text-align: right;\">\n",
       "      <th></th>\n",
       "      <th>handle</th>\n",
       "      <th>retweet_count</th>\n",
       "      <th>like_count</th>\n",
       "      <th>follower_count</th>\n",
       "      <th>following_count</th>\n",
       "      <th>mention_count</th>\n",
       "      <th>popularity_score</th>\n",
       "      <th>reach_score</th>\n",
       "    </tr>\n",
       "  </thead>\n",
       "  <tbody>\n",
       "    <tr>\n",
       "      <th>0</th>\n",
       "      <td>Trevornoah</td>\n",
       "      <td>4609962</td>\n",
       "      <td>1235122</td>\n",
       "      <td>10801764</td>\n",
       "      <td>325</td>\n",
       "      <td>200</td>\n",
       "      <td>5845084</td>\n",
       "      <td>10801439</td>\n",
       "    </tr>\n",
       "    <tr>\n",
       "      <th>3</th>\n",
       "      <td>News24</td>\n",
       "      <td>7710</td>\n",
       "      <td>14020</td>\n",
       "      <td>3574787</td>\n",
       "      <td>632</td>\n",
       "      <td>68</td>\n",
       "      <td>21730</td>\n",
       "      <td>3574155</td>\n",
       "    </tr>\n",
       "    <tr>\n",
       "      <th>125</th>\n",
       "      <td>MBuhari</td>\n",
       "      <td>89771</td>\n",
       "      <td>362189</td>\n",
       "      <td>3270290</td>\n",
       "      <td>26</td>\n",
       "      <td>51</td>\n",
       "      <td>451960</td>\n",
       "      <td>3270264</td>\n",
       "    </tr>\n",
       "    <tr>\n",
       "      <th>4</th>\n",
       "      <td>Julius_S_Malema</td>\n",
       "      <td>143963</td>\n",
       "      <td>117026</td>\n",
       "      <td>3125323</td>\n",
       "      <td>652</td>\n",
       "      <td>182</td>\n",
       "      <td>260989</td>\n",
       "      <td>3124671</td>\n",
       "    </tr>\n",
       "    <tr>\n",
       "      <th>103</th>\n",
       "      <td>PaulKagame</td>\n",
       "      <td>146594</td>\n",
       "      <td>542067</td>\n",
       "      <td>1982615</td>\n",
       "      <td>181</td>\n",
       "      <td>76</td>\n",
       "      <td>688661</td>\n",
       "      <td>1982434</td>\n",
       "    </tr>\n",
       "    <tr>\n",
       "      <th>1</th>\n",
       "      <td>GarethCliff</td>\n",
       "      <td>39668</td>\n",
       "      <td>13190</td>\n",
       "      <td>1974454</td>\n",
       "      <td>356</td>\n",
       "      <td>516</td>\n",
       "      <td>52858</td>\n",
       "      <td>1974098</td>\n",
       "    </tr>\n",
       "    <tr>\n",
       "      <th>108</th>\n",
       "      <td>KagutaMuseveni</td>\n",
       "      <td>82943</td>\n",
       "      <td>465241</td>\n",
       "      <td>1811633</td>\n",
       "      <td>28</td>\n",
       "      <td>31</td>\n",
       "      <td>548184</td>\n",
       "      <td>1811605</td>\n",
       "    </tr>\n",
       "    <tr>\n",
       "      <th>13</th>\n",
       "      <td>euphonik</td>\n",
       "      <td>6344</td>\n",
       "      <td>48170</td>\n",
       "      <td>1753982</td>\n",
       "      <td>65</td>\n",
       "      <td>69</td>\n",
       "      <td>54514</td>\n",
       "      <td>1753917</td>\n",
       "    </tr>\n",
       "    <tr>\n",
       "      <th>97</th>\n",
       "      <td>PresidencyZA</td>\n",
       "      <td>8691</td>\n",
       "      <td>20408</td>\n",
       "      <td>1598283</td>\n",
       "      <td>14</td>\n",
       "      <td>50</td>\n",
       "      <td>29099</td>\n",
       "      <td>1598269</td>\n",
       "    </tr>\n",
       "    <tr>\n",
       "      <th>119</th>\n",
       "      <td>NAkufoAddo</td>\n",
       "      <td>152059</td>\n",
       "      <td>880533</td>\n",
       "      <td>1506364</td>\n",
       "      <td>352</td>\n",
       "      <td>172</td>\n",
       "      <td>1032592</td>\n",
       "      <td>1506012</td>\n",
       "    </tr>\n",
       "  </tbody>\n",
       "</table>\n",
       "</div>"
      ],
      "text/plain": [
       "              handle  retweet_count  like_count  follower_count  \\\n",
       "0         Trevornoah        4609962     1235122        10801764   \n",
       "3             News24           7710       14020         3574787   \n",
       "125          MBuhari          89771      362189         3270290   \n",
       "4    Julius_S_Malema         143963      117026         3125323   \n",
       "103       PaulKagame         146594      542067         1982615   \n",
       "1        GarethCliff          39668       13190         1974454   \n",
       "108   KagutaMuseveni          82943      465241         1811633   \n",
       "13          euphonik           6344       48170         1753982   \n",
       "97      PresidencyZA           8691       20408         1598283   \n",
       "119       NAkufoAddo         152059      880533         1506364   \n",
       "\n",
       "     following_count  mention_count  popularity_score  reach_score  \n",
       "0                325            200           5845084     10801439  \n",
       "3                632             68             21730      3574155  \n",
       "125               26             51            451960      3270264  \n",
       "4                652            182            260989      3124671  \n",
       "103              181             76            688661      1982434  \n",
       "1                356            516             52858      1974098  \n",
       "108               28             31            548184      1811605  \n",
       "13                65             69             54514      1753917  \n",
       "97                14             50             29099      1598269  \n",
       "119              352            172           1032592      1506012  "
      ]
     },
     "execution_count": 274,
     "metadata": {},
     "output_type": "execute_result"
    }
   ],
   "source": [
    "final_df.sort_values(by=['reach_score'], ascending=False).head(10)"
   ]
  },
  {
   "cell_type": "code",
   "execution_count": 275,
   "metadata": {
    "ExecuteTime": {
     "end_time": "2020-07-19T08:42:32.061254Z",
     "start_time": "2020-07-19T08:42:32.041258Z"
    },
    "hidden": true
   },
   "outputs": [
    {
     "data": {
      "text/html": [
       "<div>\n",
       "<style scoped>\n",
       "    .dataframe tbody tr th:only-of-type {\n",
       "        vertical-align: middle;\n",
       "    }\n",
       "\n",
       "    .dataframe tbody tr th {\n",
       "        vertical-align: top;\n",
       "    }\n",
       "\n",
       "    .dataframe thead th {\n",
       "        text-align: right;\n",
       "    }\n",
       "</style>\n",
       "<table border=\"1\" class=\"dataframe\">\n",
       "  <thead>\n",
       "    <tr style=\"text-align: right;\">\n",
       "      <th></th>\n",
       "      <th>handle</th>\n",
       "      <th>retweet_count</th>\n",
       "      <th>like_count</th>\n",
       "      <th>follower_count</th>\n",
       "      <th>following_count</th>\n",
       "      <th>mention_count</th>\n",
       "      <th>popularity_score</th>\n",
       "      <th>reach_score</th>\n",
       "    </tr>\n",
       "  </thead>\n",
       "  <tbody>\n",
       "    <tr>\n",
       "      <th>12</th>\n",
       "      <td>UlrichJvV</td>\n",
       "      <td>22535</td>\n",
       "      <td>42897</td>\n",
       "      <td>1042588</td>\n",
       "      <td>530434</td>\n",
       "      <td>1024</td>\n",
       "      <td>65432</td>\n",
       "      <td>512154</td>\n",
       "    </tr>\n",
       "    <tr>\n",
       "      <th>1</th>\n",
       "      <td>GarethCliff</td>\n",
       "      <td>39668</td>\n",
       "      <td>13190</td>\n",
       "      <td>1974454</td>\n",
       "      <td>356</td>\n",
       "      <td>516</td>\n",
       "      <td>52858</td>\n",
       "      <td>1974098</td>\n",
       "    </tr>\n",
       "    <tr>\n",
       "      <th>6</th>\n",
       "      <td>mailandguardian</td>\n",
       "      <td>2979</td>\n",
       "      <td>922</td>\n",
       "      <td>1059929</td>\n",
       "      <td>479</td>\n",
       "      <td>323</td>\n",
       "      <td>3901</td>\n",
       "      <td>1059450</td>\n",
       "    </tr>\n",
       "    <tr>\n",
       "      <th>8</th>\n",
       "      <td>loyisogola</td>\n",
       "      <td>560184</td>\n",
       "      <td>6642</td>\n",
       "      <td>1085138</td>\n",
       "      <td>3948</td>\n",
       "      <td>215</td>\n",
       "      <td>566826</td>\n",
       "      <td>1081190</td>\n",
       "    </tr>\n",
       "    <tr>\n",
       "      <th>0</th>\n",
       "      <td>Trevornoah</td>\n",
       "      <td>4609962</td>\n",
       "      <td>1235122</td>\n",
       "      <td>10801764</td>\n",
       "      <td>325</td>\n",
       "      <td>200</td>\n",
       "      <td>5845084</td>\n",
       "      <td>10801439</td>\n",
       "    </tr>\n",
       "    <tr>\n",
       "      <th>126</th>\n",
       "      <td>Macky_Sall</td>\n",
       "      <td>29642</td>\n",
       "      <td>199737</td>\n",
       "      <td>1374324</td>\n",
       "      <td>171</td>\n",
       "      <td>184</td>\n",
       "      <td>229379</td>\n",
       "      <td>1374153</td>\n",
       "    </tr>\n",
       "    <tr>\n",
       "      <th>4</th>\n",
       "      <td>Julius_S_Malema</td>\n",
       "      <td>143963</td>\n",
       "      <td>117026</td>\n",
       "      <td>3125323</td>\n",
       "      <td>652</td>\n",
       "      <td>182</td>\n",
       "      <td>260989</td>\n",
       "      <td>3124671</td>\n",
       "    </tr>\n",
       "    <tr>\n",
       "      <th>10</th>\n",
       "      <td>MTVBaseAfrica</td>\n",
       "      <td>26382</td>\n",
       "      <td>13268</td>\n",
       "      <td>1415550</td>\n",
       "      <td>109</td>\n",
       "      <td>178</td>\n",
       "      <td>39650</td>\n",
       "      <td>1415441</td>\n",
       "    </tr>\n",
       "    <tr>\n",
       "      <th>119</th>\n",
       "      <td>NAkufoAddo</td>\n",
       "      <td>152059</td>\n",
       "      <td>880533</td>\n",
       "      <td>1506364</td>\n",
       "      <td>352</td>\n",
       "      <td>172</td>\n",
       "      <td>1032592</td>\n",
       "      <td>1506012</td>\n",
       "    </tr>\n",
       "    <tr>\n",
       "      <th>37</th>\n",
       "      <td>MbuyiseniNdlozi</td>\n",
       "      <td>122690</td>\n",
       "      <td>111374</td>\n",
       "      <td>1073810</td>\n",
       "      <td>5474</td>\n",
       "      <td>121</td>\n",
       "      <td>234064</td>\n",
       "      <td>1068336</td>\n",
       "    </tr>\n",
       "  </tbody>\n",
       "</table>\n",
       "</div>"
      ],
      "text/plain": [
       "              handle  retweet_count  like_count  follower_count  \\\n",
       "12         UlrichJvV          22535       42897         1042588   \n",
       "1        GarethCliff          39668       13190         1974454   \n",
       "6    mailandguardian           2979         922         1059929   \n",
       "8         loyisogola         560184        6642         1085138   \n",
       "0         Trevornoah        4609962     1235122        10801764   \n",
       "126       Macky_Sall          29642      199737         1374324   \n",
       "4    Julius_S_Malema         143963      117026         3125323   \n",
       "10     MTVBaseAfrica          26382       13268         1415550   \n",
       "119       NAkufoAddo         152059      880533         1506364   \n",
       "37   MbuyiseniNdlozi         122690      111374         1073810   \n",
       "\n",
       "     following_count  mention_count  popularity_score  reach_score  \n",
       "12            530434           1024             65432       512154  \n",
       "1                356            516             52858      1974098  \n",
       "6                479            323              3901      1059450  \n",
       "8               3948            215            566826      1081190  \n",
       "0                325            200           5845084     10801439  \n",
       "126              171            184            229379      1374153  \n",
       "4                652            182            260989      3124671  \n",
       "10               109            178             39650      1415441  \n",
       "119              352            172           1032592      1506012  \n",
       "37              5474            121            234064      1068336  "
      ]
     },
     "execution_count": 275,
     "metadata": {},
     "output_type": "execute_result"
    }
   ],
   "source": [
    "final_df.sort_values(by=['mention_count'], ascending=False).head(10)"
   ]
  },
  {
   "cell_type": "markdown",
   "metadata": {
    "hidden": true
   },
   "source": [
    "#### Conclusion\n",
    "In this section, I am able to calculate popularity_score and reach_score for the leaders and influencers based off the data I got from Twitter API. I also went ahead to sort them based on these metrics which gave interesting results.\n",
    "Based off this finding, I made a presentation to a fictional Marketing strategy manager at NIKE, lol, which you can access [here](https://docs.google.com/presentation/d/15Derm9ZtOHzhPLM4o1WUD1DZV8culghr8busVNmliLg/edit?usp=sharing)\n",
    "\n",
    "<br /> Cheers!"
   ]
  },
  {
   "cell_type": "markdown",
   "metadata": {
    "hidden": true
   },
   "source": [
    "## Analysis Based on Hashtags\n",
    "\n"
   ]
  },
  {
   "cell_type": "markdown",
   "metadata": {
    "ExecuteTime": {
     "end_time": "2020-07-18T20:11:28.132858Z",
     "start_time": "2020-07-18T20:05:31.576Z"
    },
    "hidden": true
   },
   "source": [
    "``\n",
    "The next part of this project is to extract unique five hashtags for the influencers and leaders and group them based on it. I will continue from here on a later date.\n",
    "``\n",
    "\n",
    "Cheers!\n",
    "<br /> Lawal Ogunfowora <br />\n",
    "Lawal1998@yahoo.com"
   ]
  }
 ],
 "metadata": {
  "kernelspec": {
   "display_name": "Python 3",
   "language": "python",
   "name": "python3"
  },
  "language_info": {
   "codemirror_mode": {
    "name": "ipython",
    "version": 3
   },
   "file_extension": ".py",
   "mimetype": "text/x-python",
   "name": "python",
   "nbconvert_exporter": "python",
   "pygments_lexer": "ipython3",
   "version": "3.7.1"
  }
 },
 "nbformat": 4,
 "nbformat_minor": 2
}
