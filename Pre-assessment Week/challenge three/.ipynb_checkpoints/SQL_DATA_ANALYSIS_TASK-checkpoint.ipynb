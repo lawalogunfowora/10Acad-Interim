{
 "cells": [
  {
   "cell_type": "markdown",
   "metadata": {},
   "source": [
    "# SQL DATA ANALYSIS TASK"
   ]
  },
  {
   "cell_type": "markdown",
   "metadata": {},
   "source": [
    "# Context\n",
    "Fenix is a company that is in renewable energy. To this end, it sells solar kits to populations who are in need. Customers have the option of paying for the kit in cash or on credit. If the customer chooses to buy on credit, he can choose between one year (360 days) or two years (720). He is then asked to pay an amount per day (daily_rate), this amount depending on the duration of the loan and the type of kit he has chosen and corresponds to a day of light. So every time he pays that amount, he has a day of light. After 24 hours the system hangs and it has to make another payment to take advantage of the light. He can decide to pay for more than one day of light. The day number is then the whole part of the amount / daily rate ratio. After this number of days, the system still locks. When a customer spends more than 30 days without light, he is considered inactive. Paid vs Expected (PvE) means the ratio between the total amount paid by the client and the amount he should have paid up to date. It allows to appreciate the recovery."
   ]
  },
  {
   "cell_type": "markdown",
   "metadata": {},
   "source": [
    "Let's consider the following tables\n",
    "\n",
    "Loan_current_daitails\n",
    "\n",
    "loan_id\t|customer_id|daily_rate|days_elapsed|Days_til_lock_out|Total_paid\n",
    "--------|-----------|----------|------------|-----------------|----------\n",
    "loan_id_1|customer_id_1|daily_rate_1|days_elapsed_1|Days_til_lock_out_1|Total_paid_1\n",
    "loan_id_2|customer_id_2|daily_rate_2|days_elapsed_2|Days_til_lock_out_2|Total_paid_2\n",
    ".........|.............|............|..............|...................|............\n",
    "loan_id_n|customer_id_n\t|daily_rate_n|days_elapsed_n|Days_til_lock_out_n|Total_paid_n\n",
    "\n",
    "\n",
    "Person_democraphic\n",
    "\n",
    "customer_id\t|country|\tregion|\tprofession\n",
    "------------|-------|---------|-----------\n",
    "customer_id_1|\tCountry_1\t|Region_1\t|profession_1\n",
    ".............|\t............|..........\t|............\n",
    "customer_id_j|\tCountry_j|\tRegion_j\t|profession_j\n",
    "\n",
    "\n",
    "Sales_details\n",
    "\n",
    "loan_id\t|Product_type\t|Date_fullfiled\t|loan_duration\n",
    "--------|----------------|--------------|-------------\n",
    "loan_id_1\t|Product_type_1\t|Date_fullfiled_1\t|loan_duration_1\n",
    "...|\t...\t|...\t|...\n",
    "loan_id_n|\tProduct_type_n|\tDate_fullfiled_n|\tloan_duration_n"
   ]
  },
  {
   "cell_type": "markdown",
   "metadata": {},
   "source": [
    "### Tables description\n",
    "\n",
    "* **Loan_id:** unique loan identifier\n",
    "\n",
    "* **Customer_id:** unique customer identifier\n",
    "\n",
    "* **Days_elapsed:** the number of days the client spends with us\n",
    "\n",
    "* **Daily_rate:** expected amount from customer per day\n",
    "\n",
    "* **Days_til_lock_out:** If positive, then corresponds to the number of days of light remaining before the system hangs. If negative, corresponds to the number of days since the system was blocked (the client has been without light since this number of days)\n",
    "\n",
    "* **Total_paid:** total amount to be paid by the customer\n",
    "\n",
    "* **Country:** Customer's country\n",
    "\n",
    "* **Region:** customer department\n",
    "\n",
    "* **Profession:** client's profession\n",
    "\n",
    "* **Product_type:** the type of kit purchased by the customer\n",
    "\n",
    "* **Loan_duration:** the duration of the customer's loan (360 or 720 days)\n",
    "\n",
    "* **Date_fullfiled:** the date of the sale"
   ]
  },
  {
   "cell_type": "markdown",
   "metadata": {},
   "source": [
    "### The datasets\n",
    "The datasets exist in csv formats and can be downloaded and saved on disk"
   ]
  },
  {
   "cell_type": "code",
   "execution_count": 3,
   "metadata": {
    "ExecuteTime": {
     "end_time": "2020-07-02T18:34:02.329127Z",
     "start_time": "2020-07-02T18:33:24.258281Z"
    }
   },
   "outputs": [
    {
     "name": "stdout",
     "output_type": "stream",
     "text": [
      "Collecting ipython-sql\n",
      "  Downloading https://files.pythonhosted.org/packages/ab/3d/0d38357c620df31cebb056ca1804027112e5c008f4c2c0e16d879996ad9f/ipython_sql-0.4.0-py3-none-any.whl\n",
      "Requirement already satisfied: ipython-genutils>=0.1.0 in c:\\users\\owner\\anaconda3\\lib\\site-packages (from ipython-sql) (0.2.0)\n",
      "Requirement already satisfied: six in c:\\users\\owner\\anaconda3\\lib\\site-packages (from ipython-sql) (1.12.0)\n",
      "Requirement already satisfied: sqlalchemy>=0.6.7 in c:\\users\\owner\\anaconda3\\lib\\site-packages (from ipython-sql) (1.2.15)\n",
      "Collecting sqlparse (from ipython-sql)\n",
      "  Downloading https://files.pythonhosted.org/packages/85/ee/6e821932f413a5c4b76be9c5936e313e4fc626b33f16e027866e1d60f588/sqlparse-0.3.1-py2.py3-none-any.whl (40kB)\n",
      "Collecting prettytable<1 (from ipython-sql)\n",
      "  Downloading https://files.pythonhosted.org/packages/ef/30/4b0746848746ed5941f052479e7c23d2b56d174b82f4fd34a25e389831f5/prettytable-0.7.2.tar.bz2\n",
      "Requirement already satisfied: ipython>=1.0 in c:\\users\\owner\\anaconda3\\lib\\site-packages (from ipython-sql) (7.2.0)\n",
      "Requirement already satisfied: pickleshare in c:\\users\\owner\\anaconda3\\lib\\site-packages (from ipython>=1.0->ipython-sql) (0.7.5)\n",
      "Requirement already satisfied: jedi>=0.10 in c:\\users\\owner\\anaconda3\\lib\\site-packages (from ipython>=1.0->ipython-sql) (0.13.2)\n",
      "Requirement already satisfied: traitlets>=4.2 in c:\\users\\owner\\anaconda3\\lib\\site-packages (from ipython>=1.0->ipython-sql) (4.3.2)\n",
      "Requirement already satisfied: pygments in c:\\users\\owner\\anaconda3\\lib\\site-packages (from ipython>=1.0->ipython-sql) (2.3.1)\n",
      "Requirement already satisfied: decorator in c:\\users\\owner\\anaconda3\\lib\\site-packages (from ipython>=1.0->ipython-sql) (4.3.0)\n",
      "Requirement already satisfied: setuptools>=18.5 in c:\\users\\owner\\anaconda3\\lib\\site-packages (from ipython>=1.0->ipython-sql) (40.6.3)\n",
      "Requirement already satisfied: prompt-toolkit<2.1.0,>=2.0.0 in c:\\users\\owner\\anaconda3\\lib\\site-packages (from ipython>=1.0->ipython-sql) (2.0.7)\n",
      "Requirement already satisfied: backcall in c:\\users\\owner\\anaconda3\\lib\\site-packages (from ipython>=1.0->ipython-sql) (0.1.0)\n",
      "Requirement already satisfied: colorama; sys_platform == \"win32\" in c:\\users\\owner\\anaconda3\\lib\\site-packages (from ipython>=1.0->ipython-sql) (0.4.1)\n",
      "Requirement already satisfied: parso>=0.3.0 in c:\\users\\owner\\anaconda3\\lib\\site-packages (from jedi>=0.10->ipython>=1.0->ipython-sql) (0.3.1)\n",
      "Requirement already satisfied: wcwidth in c:\\users\\owner\\anaconda3\\lib\\site-packages (from prompt-toolkit<2.1.0,>=2.0.0->ipython>=1.0->ipython-sql) (0.1.7)\n",
      "Building wheels for collected packages: prettytable\n",
      "  Running setup.py bdist_wheel for prettytable: started\n",
      "  Running setup.py bdist_wheel for prettytable: finished with status 'done'\n",
      "  Stored in directory: C:\\Users\\OWNER\\AppData\\Local\\pip\\Cache\\wheels\\80\\34\\1c\\3967380d9676d162cb59513bd9dc862d0584e045a162095606\n",
      "Successfully built prettytable\n",
      "Installing collected packages: sqlparse, prettytable, ipython-sql\n",
      "Successfully installed ipython-sql-0.4.0 prettytable-0.7.2 sqlparse-0.3.1\n"
     ]
    }
   ],
   "source": [
    "!pip install ipython-sql\n",
    "%load_ext sql\n",
    "%sql sqlite:///testdb.sqlite"
   ]
  },
  {
   "cell_type": "code",
   "execution_count": 4,
   "metadata": {
    "ExecuteTime": {
     "end_time": "2020-07-02T18:34:18.090301Z",
     "start_time": "2020-07-02T18:34:18.066308Z"
    }
   },
   "outputs": [
    {
     "name": "stdout",
     "output_type": "stream",
     "text": [
      " * sqlite:///testdb.sqlite\n",
      "Done.\n",
      "Done.\n",
      "Done.\n"
     ]
    },
    {
     "data": {
      "text/plain": [
       "[]"
      ]
     },
     "execution_count": 4,
     "metadata": {},
     "output_type": "execute_result"
    }
   ],
   "source": [
    "%%sql\n",
    "DROP TABLE IF EXISTS Loan_current_daitails;\n",
    "DROP TABLE IF EXISTS Person_democraphic;\n",
    "DROP TABLE IF EXISTS Sales_details;"
   ]
  },
  {
   "cell_type": "code",
   "execution_count": 69,
   "metadata": {
    "ExecuteTime": {
     "end_time": "2020-07-02T20:57:37.042318Z",
     "start_time": "2020-07-02T20:57:35.692966Z"
    }
   },
   "outputs": [],
   "source": [
    "import pandas as pd\n",
    "import sqlite3\n",
    "\n",
    "conn = sqlite3.connect(\"testdb.sqlite\")\n",
    "customers = pd.read_csv('Loan_current_daitails.csv')\n",
    "orders = pd.read_csv('Person_democraphic.csv')\n",
    "salesman = pd.read_csv('Sales_details.csv')\n",
    "orders.rename(columns={'Profession ': 'Profession'}, inplace=True)\n",
    "\n",
    "customers.to_sql(\"Loan_current_daitails\", conn, index=False, if_exists=\"replace\")\n",
    "orders.to_sql(\"Person_democraphic\", conn, index=False, if_exists=\"replace\")\n",
    "salesman.to_sql(\"Sales_details\", conn, index=False, if_exists=\"replace\")"
   ]
  },
  {
   "cell_type": "markdown",
   "metadata": {},
   "source": [
    "### Write a SQL code to determine the total number of loans on the one hand and the total number of customers on the other"
   ]
  },
  {
   "cell_type": "code",
   "execution_count": 70,
   "metadata": {
    "ExecuteTime": {
     "end_time": "2020-07-02T20:57:43.511766Z",
     "start_time": "2020-07-02T20:57:43.494777Z"
    }
   },
   "outputs": [
    {
     "name": "stdout",
     "output_type": "stream",
     "text": [
      " * sqlite:///testdb.sqlite\n",
      "Done.\n"
     ]
    },
    {
     "data": {
      "text/html": [
       "<table>\n",
       "    <tr>\n",
       "        <th>COUNT(DISTINCT loan_id)</th>\n",
       "    </tr>\n",
       "    <tr>\n",
       "        <td>5000</td>\n",
       "    </tr>\n",
       "</table>"
      ],
      "text/plain": [
       "[(5000,)]"
      ]
     },
     "execution_count": 70,
     "metadata": {},
     "output_type": "execute_result"
    }
   ],
   "source": [
    "%%sql\n",
    "\n",
    "SELECT COUNT(DISTINCT loan_id)\n",
    "FROM Loan_current_daitails as column_name_count;"
   ]
  },
  {
   "cell_type": "code",
   "execution_count": 71,
   "metadata": {
    "ExecuteTime": {
     "end_time": "2020-07-02T20:57:46.279095Z",
     "start_time": "2020-07-02T20:57:46.263102Z"
    }
   },
   "outputs": [
    {
     "name": "stdout",
     "output_type": "stream",
     "text": [
      " * sqlite:///testdb.sqlite\n",
      "Done.\n"
     ]
    },
    {
     "data": {
      "text/html": [
       "<table>\n",
       "    <tr>\n",
       "        <th>COUNT(DISTINCT customer_id)</th>\n",
       "    </tr>\n",
       "    <tr>\n",
       "        <td>4979</td>\n",
       "    </tr>\n",
       "</table>"
      ],
      "text/plain": [
       "[(4979,)]"
      ]
     },
     "execution_count": 71,
     "metadata": {},
     "output_type": "execute_result"
    }
   ],
   "source": [
    "%%sql\n",
    "SELECT COUNT(DISTINCT customer_id)\n",
    "FROM Loan_current_daitails as column_name_count;"
   ]
  },
  {
   "cell_type": "markdown",
   "metadata": {},
   "source": [
    "### Write a SQL code to determine the total number of loans by type of kit"
   ]
  },
  {
   "cell_type": "code",
   "execution_count": 72,
   "metadata": {
    "ExecuteTime": {
     "end_time": "2020-07-02T20:57:49.307661Z",
     "start_time": "2020-07-02T20:57:49.285674Z"
    }
   },
   "outputs": [
    {
     "name": "stdout",
     "output_type": "stream",
     "text": [
      " * sqlite:///testdb.sqlite\n",
      "Done.\n"
     ]
    },
    {
     "data": {
      "text/html": [
       "<table>\n",
       "    <tr>\n",
       "        <th>product_type</th>\n",
       "        <th>COUNT(DISTINCT(loan_id))</th>\n",
       "    </tr>\n",
       "    <tr>\n",
       "        <td>Fenix 2</td>\n",
       "        <td>841</td>\n",
       "    </tr>\n",
       "    <tr>\n",
       "        <td>Fenix 3</td>\n",
       "        <td>974</td>\n",
       "    </tr>\n",
       "    <tr>\n",
       "        <td>Fenix Power 2+ Tondeuse</td>\n",
       "        <td>18</td>\n",
       "    </tr>\n",
       "    <tr>\n",
       "        <td>Fenix Power 4 + Woofer BJ</td>\n",
       "        <td>35</td>\n",
       "    </tr>\n",
       "    <tr>\n",
       "        <td>Fenix Power TV 19in FTA BJ</td>\n",
       "        <td>14</td>\n",
       "    </tr>\n",
       "    <tr>\n",
       "        <td>Fenix Power TV 19in FTA Upgrade, BJ</td>\n",
       "        <td>28</td>\n",
       "    </tr>\n",
       "    <tr>\n",
       "        <td>Fenix Power TV 24in FTA BJ</td>\n",
       "        <td>634</td>\n",
       "    </tr>\n",
       "    <tr>\n",
       "        <td>Fenix Power TV 24in FTA Upgrade, BJ</td>\n",
       "        <td>177</td>\n",
       "    </tr>\n",
       "    <tr>\n",
       "        <td>Fenix Radio +3</td>\n",
       "        <td>1791</td>\n",
       "    </tr>\n",
       "    <tr>\n",
       "        <td>Fenix Radio +5</td>\n",
       "        <td>422</td>\n",
       "    </tr>\n",
       "    <tr>\n",
       "        <td>Fenix Woofer +3</td>\n",
       "        <td>32</td>\n",
       "    </tr>\n",
       "    <tr>\n",
       "        <td>Fenix Woofer +3 (NEW)</td>\n",
       "        <td>8</td>\n",
       "    </tr>\n",
       "    <tr>\n",
       "        <td>Hors Garantie BJ</td>\n",
       "        <td>14</td>\n",
       "    </tr>\n",
       "    <tr>\n",
       "        <td>Out-of-warranty swap - SmartLife</td>\n",
       "        <td>2</td>\n",
       "    </tr>\n",
       "    <tr>\n",
       "        <td>Upgrade Fenix Boost 2 + Tondeuse</td>\n",
       "        <td>2</td>\n",
       "    </tr>\n",
       "    <tr>\n",
       "        <td>Upgrade Fenix Radio +3</td>\n",
       "        <td>5</td>\n",
       "    </tr>\n",
       "    <tr>\n",
       "        <td>Upgrade Fenix Woofer +1</td>\n",
       "        <td>1</td>\n",
       "    </tr>\n",
       "    <tr>\n",
       "        <td>Upgrade Fenix Woofer+2 BJ</td>\n",
       "        <td>2</td>\n",
       "    </tr>\n",
       "</table>"
      ],
      "text/plain": [
       "[('Fenix 2', 841),\n",
       " ('Fenix 3', 974),\n",
       " ('Fenix Power 2+ Tondeuse', 18),\n",
       " ('Fenix Power 4 + Woofer BJ', 35),\n",
       " ('Fenix Power TV 19in FTA BJ', 14),\n",
       " ('Fenix Power TV 19in FTA Upgrade, BJ', 28),\n",
       " ('Fenix Power TV 24in FTA BJ', 634),\n",
       " ('Fenix Power TV 24in FTA Upgrade, BJ', 177),\n",
       " ('Fenix Radio +3', 1791),\n",
       " ('Fenix Radio +5', 422),\n",
       " ('Fenix Woofer +3', 32),\n",
       " ('Fenix Woofer +3 (NEW)', 8),\n",
       " ('Hors Garantie BJ', 14),\n",
       " ('Out-of-warranty swap - SmartLife', 2),\n",
       " ('Upgrade Fenix Boost 2 + Tondeuse', 2),\n",
       " ('Upgrade Fenix Radio +3', 5),\n",
       " ('Upgrade Fenix Woofer +1', 1),\n",
       " ('Upgrade Fenix Woofer+2 BJ', 2)]"
      ]
     },
     "execution_count": 72,
     "metadata": {},
     "output_type": "execute_result"
    }
   ],
   "source": [
    "%%sql\n",
    "SELECT product_type, COUNT(DISTINCT(loan_id)) FROM Sales_details\n",
    "GROUP BY product_type"
   ]
  },
  {
   "cell_type": "markdown",
   "metadata": {},
   "source": [
    "### Write SQL code to determine the number of inactive loans"
   ]
  },
  {
   "cell_type": "code",
   "execution_count": 73,
   "metadata": {
    "ExecuteTime": {
     "end_time": "2020-07-02T20:57:53.874124Z",
     "start_time": "2020-07-02T20:57:53.863130Z"
    }
   },
   "outputs": [
    {
     "name": "stdout",
     "output_type": "stream",
     "text": [
      " * sqlite:///testdb.sqlite\n",
      "Done.\n"
     ]
    },
    {
     "data": {
      "text/html": [
       "<table>\n",
       "    <tr>\n",
       "        <th>COUNT(DISTINCT(loan_id))</th>\n",
       "    </tr>\n",
       "    <tr>\n",
       "        <td>1294</td>\n",
       "    </tr>\n",
       "</table>"
      ],
      "text/plain": [
       "[(1294,)]"
      ]
     },
     "execution_count": 73,
     "metadata": {},
     "output_type": "execute_result"
    }
   ],
   "source": [
    "%%sql\n",
    "\n",
    "SELECT COUNT(DISTINCT(loan_id)) FROM Loan_current_daitails\n",
    "WHERE days_til_lockout < 0"
   ]
  },
  {
   "cell_type": "markdown",
   "metadata": {},
   "source": [
    "### Write a SQL code to determine the regions where the total amount of payments exceeds 1,000,000"
   ]
  },
  {
   "cell_type": "code",
   "execution_count": 74,
   "metadata": {
    "ExecuteTime": {
     "end_time": "2020-07-02T20:57:57.390720Z",
     "start_time": "2020-07-02T20:57:57.380726Z"
    }
   },
   "outputs": [
    {
     "name": "stdout",
     "output_type": "stream",
     "text": [
      " * sqlite:///testdb.sqlite\n",
      "Done.\n"
     ]
    },
    {
     "data": {
      "text/html": [
       "<table>\n",
       "    <tr>\n",
       "        <th>region</th>\n",
       "    </tr>\n",
       "</table>"
      ],
      "text/plain": [
       "[]"
      ]
     },
     "execution_count": 74,
     "metadata": {},
     "output_type": "execute_result"
    }
   ],
   "source": [
    "%%sql\n",
    "SELECT [Person_democraphic].region\n",
    "  FROM [Person_democraphic] INNER JOIN Loan_current_daitails \n",
    "    ON [Person_democraphic].customer_id = Loan_current_daitails.customer_id\n",
    "WHERE Loan_current_daitails.total_paid > 1000000"
   ]
  },
  {
   "cell_type": "markdown",
   "metadata": {},
   "source": [
    "### Write a SQL code to classify by region and in ascending order, the loans according to the total amount paid"
   ]
  },
  {
   "cell_type": "code",
   "execution_count": 75,
   "metadata": {
    "ExecuteTime": {
     "end_time": "2020-07-02T20:58:03.694392Z",
     "start_time": "2020-07-02T20:58:03.663412Z"
    }
   },
   "outputs": [
    {
     "name": "stdout",
     "output_type": "stream",
     "text": [
      " * sqlite:///testdb.sqlite\n",
      "Done.\n"
     ]
    },
    {
     "data": {
      "text/html": [
       "<table>\n",
       "    <tr>\n",
       "        <th>region</th>\n",
       "        <th>loan_id</th>\n",
       "        <th>total_paid</th>\n",
       "    </tr>\n",
       "    <tr>\n",
       "        <td>Zou</td>\n",
       "        <td>891510</td>\n",
       "        <td>3000</td>\n",
       "    </tr>\n",
       "    <tr>\n",
       "        <td>Mono</td>\n",
       "        <td>798485</td>\n",
       "        <td>11400</td>\n",
       "    </tr>\n",
       "    <tr>\n",
       "        <td>Atlantique</td>\n",
       "        <td>552403</td>\n",
       "        <td>13825</td>\n",
       "    </tr>\n",
       "    <tr>\n",
       "        <td>Atacora</td>\n",
       "        <td>546198</td>\n",
       "        <td>14160</td>\n",
       "    </tr>\n",
       "    <tr>\n",
       "        <td>Alibori</td>\n",
       "        <td>586196</td>\n",
       "        <td>24160</td>\n",
       "    </tr>\n",
       "    <tr>\n",
       "        <td>Plateau</td>\n",
       "        <td>653030</td>\n",
       "        <td>32325</td>\n",
       "    </tr>\n",
       "    <tr>\n",
       "        <td>Collines</td>\n",
       "        <td>617665</td>\n",
       "        <td>35970</td>\n",
       "    </tr>\n",
       "    <tr>\n",
       "        <td>Borgou</td>\n",
       "        <td>565181</td>\n",
       "        <td>44200</td>\n",
       "    </tr>\n",
       "    <tr>\n",
       "        <td>Couffo</td>\n",
       "        <td>447804</td>\n",
       "        <td>51500</td>\n",
       "    </tr>\n",
       "    <tr>\n",
       "        <td>Donga</td>\n",
       "        <td>560165</td>\n",
       "        <td>51700</td>\n",
       "    </tr>\n",
       "    <tr>\n",
       "        <td>Oueme</td>\n",
       "        <td>589556</td>\n",
       "        <td>52355</td>\n",
       "    </tr>\n",
       "    <tr>\n",
       "        <td>Littoral</td>\n",
       "        <td>598490</td>\n",
       "        <td>61000</td>\n",
       "    </tr>\n",
       "</table>"
      ],
      "text/plain": [
       "[('Zou', 891510, 3000),\n",
       " ('Mono', 798485, 11400),\n",
       " ('Atlantique', 552403, 13825),\n",
       " ('Atacora', 546198, 14160),\n",
       " ('Alibori', 586196, 24160),\n",
       " ('Plateau', 653030, 32325),\n",
       " ('Collines', 617665, 35970),\n",
       " ('Borgou', 565181, 44200),\n",
       " ('Couffo', 447804, 51500),\n",
       " ('Donga', 560165, 51700),\n",
       " ('Oueme', 589556, 52355),\n",
       " ('Littoral', 598490, 61000)]"
      ]
     },
     "execution_count": 75,
     "metadata": {},
     "output_type": "execute_result"
    }
   ],
   "source": [
    "%%sql\n",
    "SELECT [Person_democraphic].region, Loan_current_daitails.loan_id, Loan_current_daitails.total_paid\n",
    "  FROM [Person_democraphic] INNER JOIN Loan_current_daitails \n",
    "    ON [Person_democraphic].customer_id = Loan_current_daitails.customer_id\n",
    "GROUP BY [Person_democraphic].region \n",
    "ORDER BY Loan_current_daitails.total_paid ASC"
   ]
  },
  {
   "cell_type": "markdown",
   "metadata": {},
   "source": [
    "\n",
    "### Write a SQL code to determine the top 10 occupations by region with the highest total amount of payments"
   ]
  },
  {
   "cell_type": "code",
   "execution_count": 76,
   "metadata": {
    "ExecuteTime": {
     "end_time": "2020-07-02T20:58:09.710790Z",
     "start_time": "2020-07-02T20:58:09.674797Z"
    },
    "scrolled": true
   },
   "outputs": [
    {
     "name": "stdout",
     "output_type": "stream",
     "text": [
      " * sqlite:///testdb.sqlite\n",
      "Done.\n"
     ]
    },
    {
     "data": {
      "text/html": [
       "<table>\n",
       "    <tr>\n",
       "        <th>Profession</th>\n",
       "        <th>region</th>\n",
       "        <th>total_paid</th>\n",
       "    </tr>\n",
       "    <tr>\n",
       "        <td>Statistian</td>\n",
       "        <td>Littoral</td>\n",
       "        <td>61000</td>\n",
       "    </tr>\n",
       "    <tr>\n",
       "        <td>Tehnician</td>\n",
       "        <td>Oueme</td>\n",
       "        <td>52355</td>\n",
       "    </tr>\n",
       "    <tr>\n",
       "        <td>Teacher</td>\n",
       "        <td>Donga</td>\n",
       "        <td>51700</td>\n",
       "    </tr>\n",
       "    <tr>\n",
       "        <td>Cmmercial</td>\n",
       "        <td>Couffo</td>\n",
       "        <td>51500</td>\n",
       "    </tr>\n",
       "    <tr>\n",
       "        <td>Ingenieur</td>\n",
       "        <td>Borgou</td>\n",
       "        <td>44200</td>\n",
       "    </tr>\n",
       "    <tr>\n",
       "        <td>Tehnician</td>\n",
       "        <td>Collines</td>\n",
       "        <td>35970</td>\n",
       "    </tr>\n",
       "    <tr>\n",
       "        <td>Nurse</td>\n",
       "        <td>Plateau</td>\n",
       "        <td>32325</td>\n",
       "    </tr>\n",
       "    <tr>\n",
       "        <td>Doctor</td>\n",
       "        <td>Alibori</td>\n",
       "        <td>24160</td>\n",
       "    </tr>\n",
       "    <tr>\n",
       "        <td>Farmer</td>\n",
       "        <td>Atacora</td>\n",
       "        <td>14160</td>\n",
       "    </tr>\n",
       "    <tr>\n",
       "        <td>Tehnician</td>\n",
       "        <td>Atlantique</td>\n",
       "        <td>13825</td>\n",
       "    </tr>\n",
       "</table>"
      ],
      "text/plain": [
       "[('Statistian', 'Littoral', 61000),\n",
       " ('Tehnician', 'Oueme', 52355),\n",
       " ('Teacher', 'Donga', 51700),\n",
       " ('Cmmercial', 'Couffo', 51500),\n",
       " ('Ingenieur', 'Borgou', 44200),\n",
       " ('Tehnician', 'Collines', 35970),\n",
       " ('Nurse', 'Plateau', 32325),\n",
       " ('Doctor', 'Alibori', 24160),\n",
       " ('Farmer', 'Atacora', 14160),\n",
       " ('Tehnician', 'Atlantique', 13825)]"
      ]
     },
     "execution_count": 76,
     "metadata": {},
     "output_type": "execute_result"
    }
   ],
   "source": [
    "%%sql\n",
    "SELECT [Person_democraphic].Profession , [Person_democraphic].region, Loan_current_daitails.total_paid\n",
    "  FROM [Person_democraphic] INNER JOIN Loan_current_daitails \n",
    "    ON [Person_democraphic].customer_id = Loan_current_daitails.customer_id\n",
    "GROUP BY [Person_democraphic].region \n",
    "ORDER BY Loan_current_daitails.total_paid DESC\n",
    "LIMIT 10;"
   ]
  }
 ],
 "metadata": {
  "kernelspec": {
   "display_name": "Python 3",
   "language": "python",
   "name": "python3"
  },
  "language_info": {
   "codemirror_mode": {
    "name": "ipython",
    "version": 3
   },
   "file_extension": ".py",
   "mimetype": "text/x-python",
   "name": "python",
   "nbconvert_exporter": "python",
   "pygments_lexer": "ipython3",
   "version": "3.7.1"
  }
 },
 "nbformat": 4,
 "nbformat_minor": 4
}
